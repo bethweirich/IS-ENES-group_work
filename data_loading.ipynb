{
 "cells": [
  {
   "cell_type": "code",
   "execution_count": 9,
   "id": "47c0d160-8bdb-4c14-af9f-06da20b026d2",
   "metadata": {},
   "outputs": [],
   "source": [
    "import xarray as xr \n",
    "import intake"
   ]
  },
  {
   "cell_type": "code",
   "execution_count": null,
   "id": "63c19f8b-4bf9-474c-a342-d513687a281d",
   "metadata": {},
   "outputs": [],
   "source": []
  },
  {
   "cell_type": "code",
   "execution_count": 10,
   "id": "6fd82d7a-5c30-4b1e-9356-5444f8bbef9c",
   "metadata": {},
   "outputs": [],
   "source": [
    "# Define \n",
    "models = [['CNRM-CERFACS', 'CNRM-CM6-1']]\n",
    "periods = ['historical', 'forecast']\n",
    "variables = ['tas']\n",
    "\n",
    "# Define paths to data \n",
    "path_cmip6_data = '/pool/data/CMIP6/data/'\n",
    "path = {}\n",
    "file_name = {}\n",
    "for variable in variables:\n",
    "    for period in periods:\n",
    "        if period == 'historical': \n",
    "            description = 'CMIP'\n",
    "            scenarios = ['historical']\n",
    "            time_slice = '18500101-20141231'\n",
    "            version = 'v20180917'\n",
    "        elif 'forecast' in period: \n",
    "            description = 'ScenarioMIP'\n",
    "            scenarios = ['ssp585']\n",
    "            time_slice = '20150101-21001231'\n",
    "            version = 'v20190219'\n",
    "        for i in range(len(models)):\n",
    "            for scenario in scenarios:\n",
    "                path[period] = path_cmip6_data + description + '/' + models[i][0] + '/' + models[i][1] + '/' + scenario  + '/' + 'r1i1p1f2' + '/day/' + variable + '/gr/' + version + '/'\n",
    "                file_name[period] = variable + '_day_' + models[i][1] +  '_' + scenario + '_r1i1p1f2_gr_' + time_slice + '.nc'"
   ]
  },
  {
   "cell_type": "code",
   "execution_count": 12,
   "id": "23593d38-5f78-4d8f-bc05-2dbb0c95975b",
   "metadata": {},
   "outputs": [
    {
     "ename": "ValueError",
     "evalue": "must supply at least one object to concatenate",
     "output_type": "error",
     "traceback": [
      "\u001b[0;31m---------------------------------------------------------------------------\u001b[0m",
      "\u001b[0;31mStopIteration\u001b[0m                             Traceback (most recent call last)",
      "File \u001b[0;32m/sw/spack-levante/mambaforge-4.11.0-0-Linux-x86_64-sobz6z/lib/python3.9/site-packages/xarray/core/concat.py:220\u001b[0m, in \u001b[0;36mconcat\u001b[0;34m(objs, dim, data_vars, coords, compat, positions, fill_value, join, combine_attrs)\u001b[0m\n\u001b[1;32m    219\u001b[0m \u001b[38;5;28;01mtry\u001b[39;00m:\n\u001b[0;32m--> 220\u001b[0m     first_obj, objs \u001b[38;5;241m=\u001b[39m \u001b[43mutils\u001b[49m\u001b[38;5;241;43m.\u001b[39;49m\u001b[43mpeek_at\u001b[49m\u001b[43m(\u001b[49m\u001b[43mobjs\u001b[49m\u001b[43m)\u001b[49m\n\u001b[1;32m    221\u001b[0m \u001b[38;5;28;01mexcept\u001b[39;00m \u001b[38;5;167;01mStopIteration\u001b[39;00m:\n",
      "File \u001b[0;32m/sw/spack-levante/mambaforge-4.11.0-0-Linux-x86_64-sobz6z/lib/python3.9/site-packages/xarray/core/utils.py:194\u001b[0m, in \u001b[0;36mpeek_at\u001b[0;34m(iterable)\u001b[0m\n\u001b[1;32m    193\u001b[0m gen \u001b[38;5;241m=\u001b[39m \u001b[38;5;28miter\u001b[39m(iterable)\n\u001b[0;32m--> 194\u001b[0m peek \u001b[38;5;241m=\u001b[39m \u001b[38;5;28;43mnext\u001b[39;49m\u001b[43m(\u001b[49m\u001b[43mgen\u001b[49m\u001b[43m)\u001b[49m\n\u001b[1;32m    195\u001b[0m \u001b[38;5;28;01mreturn\u001b[39;00m peek, itertools\u001b[38;5;241m.\u001b[39mchain([peek], gen)\n",
      "\u001b[0;31mStopIteration\u001b[0m: ",
      "\nDuring handling of the above exception, another exception occurred:\n",
      "\u001b[0;31mValueError\u001b[0m                                Traceback (most recent call last)",
      "Input \u001b[0;32mIn [12]\u001b[0m, in \u001b[0;36m<cell line: 9>\u001b[0;34m()\u001b[0m\n\u001b[1;32m      7\u001b[0m     dset\u001b[38;5;241m.\u001b[39mappend(dset_period\u001b[38;5;241m.\u001b[39massign_coords(period \u001b[38;5;241m=\u001b[39m period)\u001b[38;5;241m.\u001b[39mexpand_dims(\u001b[38;5;124m'\u001b[39m\u001b[38;5;124mperiod\u001b[39m\u001b[38;5;124m'\u001b[39m)) \n\u001b[1;32m      8\u001b[0m     \u001b[38;5;28;01mdel\u001b[39;00m dset_period\n\u001b[0;32m----> 9\u001b[0m dset \u001b[38;5;241m=\u001b[39m \u001b[43mxr\u001b[49m\u001b[38;5;241;43m.\u001b[39;49m\u001b[43mconcat\u001b[49m\u001b[43m(\u001b[49m\u001b[43mdset\u001b[49m\u001b[43m,\u001b[49m\u001b[43m \u001b[49m\u001b[43mdim\u001b[49m\u001b[43m \u001b[49m\u001b[38;5;241;43m=\u001b[39;49m\u001b[43m \u001b[49m\u001b[38;5;124;43m'\u001b[39;49m\u001b[38;5;124;43mperiod\u001b[39;49m\u001b[38;5;124;43m'\u001b[39;49m\u001b[43m)\u001b[49m \n\u001b[1;32m     10\u001b[0m \u001b[38;5;28mprint\u001b[39m(dset)\n",
      "File \u001b[0;32m/sw/spack-levante/mambaforge-4.11.0-0-Linux-x86_64-sobz6z/lib/python3.9/site-packages/xarray/core/concat.py:222\u001b[0m, in \u001b[0;36mconcat\u001b[0;34m(objs, dim, data_vars, coords, compat, positions, fill_value, join, combine_attrs)\u001b[0m\n\u001b[1;32m    220\u001b[0m     first_obj, objs \u001b[38;5;241m=\u001b[39m utils\u001b[38;5;241m.\u001b[39mpeek_at(objs)\n\u001b[1;32m    221\u001b[0m \u001b[38;5;28;01mexcept\u001b[39;00m \u001b[38;5;167;01mStopIteration\u001b[39;00m:\n\u001b[0;32m--> 222\u001b[0m     \u001b[38;5;28;01mraise\u001b[39;00m \u001b[38;5;167;01mValueError\u001b[39;00m(\u001b[38;5;124m\"\u001b[39m\u001b[38;5;124mmust supply at least one object to concatenate\u001b[39m\u001b[38;5;124m\"\u001b[39m)\n\u001b[1;32m    224\u001b[0m \u001b[38;5;28;01mif\u001b[39;00m compat \u001b[38;5;129;01mnot\u001b[39;00m \u001b[38;5;129;01min\u001b[39;00m _VALID_COMPAT:\n\u001b[1;32m    225\u001b[0m     \u001b[38;5;28;01mraise\u001b[39;00m \u001b[38;5;167;01mValueError\u001b[39;00m(\n\u001b[1;32m    226\u001b[0m         \u001b[38;5;124mf\u001b[39m\u001b[38;5;124m\"\u001b[39m\u001b[38;5;124mcompat=\u001b[39m\u001b[38;5;132;01m{\u001b[39;00mcompat\u001b[38;5;132;01m!r}\u001b[39;00m\u001b[38;5;124m invalid: must be \u001b[39m\u001b[38;5;124m'\u001b[39m\u001b[38;5;124mbroadcast_equals\u001b[39m\u001b[38;5;124m'\u001b[39m\u001b[38;5;124m, \u001b[39m\u001b[38;5;124m'\u001b[39m\u001b[38;5;124mequals\u001b[39m\u001b[38;5;124m'\u001b[39m\u001b[38;5;124m, \u001b[39m\u001b[38;5;124m'\u001b[39m\u001b[38;5;124midentical\u001b[39m\u001b[38;5;124m'\u001b[39m\u001b[38;5;124m, \u001b[39m\u001b[38;5;124m'\u001b[39m\u001b[38;5;124mno_conflicts\u001b[39m\u001b[38;5;124m'\u001b[39m\u001b[38;5;124m or \u001b[39m\u001b[38;5;124m'\u001b[39m\u001b[38;5;124moverride\u001b[39m\u001b[38;5;124m'\u001b[39m\u001b[38;5;124m\"\u001b[39m\n\u001b[1;32m    227\u001b[0m     )\n",
      "\u001b[0;31mValueError\u001b[0m: must supply at least one object to concatenate"
     ]
    }
   ],
   "source": [
    "# Load data and construct single dataset\n",
    "dset = []\n",
    "for period in periods:\n",
    "    dset_period = xr.open_dataset(path[period] + file_name[period])\n",
    "    break\n",
    "    #print(dset_period)\n",
    "    dset.append(dset_period.assign_coords(period = period).expand_dims('period')) \n",
    "dset = xr.concat(dset, dim = 'period') \n",
    "print(dset)\n",
    "\n"
   ]
  },
  {
   "cell_type": "code",
   "execution_count": 2,
   "id": "10734488-5cb0-4aee-9e3d-fa523b852a84",
   "metadata": {},
   "outputs": [
    {
     "name": "stdout",
     "output_type": "stream",
     "text": [
      "/work/ik1017/CMIP6/data/CMIP6/CMIP/CNRM-CERFACS/CNRM-CM6-1/historical/r1i1p1f2/day/tas/gr/v20180917\n"
     ]
    }
   ],
   "source": [
    "cd /pool/data/CMIP6/data/CMIP/CNRM-CERFACS/CNRM-CM6-1/historical/r1i1p1f2/day/tas/gr/v20180917/"
   ]
  },
  {
   "cell_type": "code",
   "execution_count": 3,
   "id": "f54279d2-79e4-437a-873c-4de8c59255be",
   "metadata": {},
   "outputs": [
    {
     "name": "stdout",
     "output_type": "stream",
     "text": [
      "tas_day_CNRM-CM6-1_historical_r1i1p1f2_gr_18500101-20141231.nc\n"
     ]
    }
   ],
   "source": [
    "ls"
   ]
  },
  {
   "cell_type": "code",
   "execution_count": 4,
   "id": "8751312d-ed53-4183-8dec-6b92c11f2ecf",
   "metadata": {},
   "outputs": [
    {
     "ename": "UnicodeDecodeError",
     "evalue": "'utf-8' codec can't decode byte 0x89 in position 0: invalid start byte",
     "output_type": "error",
     "traceback": [
      "\u001b[0;31m---------------------------------------------------------------------------\u001b[0m",
      "\u001b[0;31mUnicodeDecodeError\u001b[0m                        Traceback (most recent call last)",
      "Input \u001b[0;32mIn [4]\u001b[0m, in \u001b[0;36m<cell line: 1>\u001b[0;34m()\u001b[0m\n\u001b[1;32m      1\u001b[0m \u001b[38;5;28;01mwith\u001b[39;00m \u001b[38;5;28mopen\u001b[39m(\u001b[38;5;124m'\u001b[39m\u001b[38;5;124mtas_day_CNRM-CM6-1_historical_r1i1p1f2_gr_18500101-20141231.nc\u001b[39m\u001b[38;5;124m'\u001b[39m) \u001b[38;5;28;01mas\u001b[39;00m f:\n\u001b[0;32m----> 2\u001b[0m     a \u001b[38;5;241m=\u001b[39m \u001b[43mf\u001b[49m\u001b[38;5;241;43m.\u001b[39;49m\u001b[43mread\u001b[49m\u001b[43m(\u001b[49m\u001b[43m)\u001b[49m\n\u001b[1;32m      3\u001b[0m     \u001b[38;5;28mprint\u001b[39m(a)\n",
      "File \u001b[0;32m/sw/spack-levante/mambaforge-4.11.0-0-Linux-x86_64-sobz6z/lib/python3.9/codecs.py:322\u001b[0m, in \u001b[0;36mBufferedIncrementalDecoder.decode\u001b[0;34m(self, input, final)\u001b[0m\n\u001b[1;32m    319\u001b[0m \u001b[38;5;28;01mdef\u001b[39;00m \u001b[38;5;21mdecode\u001b[39m(\u001b[38;5;28mself\u001b[39m, \u001b[38;5;28minput\u001b[39m, final\u001b[38;5;241m=\u001b[39m\u001b[38;5;28;01mFalse\u001b[39;00m):\n\u001b[1;32m    320\u001b[0m     \u001b[38;5;66;03m# decode input (taking the buffer into account)\u001b[39;00m\n\u001b[1;32m    321\u001b[0m     data \u001b[38;5;241m=\u001b[39m \u001b[38;5;28mself\u001b[39m\u001b[38;5;241m.\u001b[39mbuffer \u001b[38;5;241m+\u001b[39m \u001b[38;5;28minput\u001b[39m\n\u001b[0;32m--> 322\u001b[0m     (result, consumed) \u001b[38;5;241m=\u001b[39m \u001b[38;5;28;43mself\u001b[39;49m\u001b[38;5;241;43m.\u001b[39;49m\u001b[43m_buffer_decode\u001b[49m\u001b[43m(\u001b[49m\u001b[43mdata\u001b[49m\u001b[43m,\u001b[49m\u001b[43m \u001b[49m\u001b[38;5;28;43mself\u001b[39;49m\u001b[38;5;241;43m.\u001b[39;49m\u001b[43merrors\u001b[49m\u001b[43m,\u001b[49m\u001b[43m \u001b[49m\u001b[43mfinal\u001b[49m\u001b[43m)\u001b[49m\n\u001b[1;32m    323\u001b[0m     \u001b[38;5;66;03m# keep undecoded input until the next call\u001b[39;00m\n\u001b[1;32m    324\u001b[0m     \u001b[38;5;28mself\u001b[39m\u001b[38;5;241m.\u001b[39mbuffer \u001b[38;5;241m=\u001b[39m data[consumed:]\n",
      "\u001b[0;31mUnicodeDecodeError\u001b[0m: 'utf-8' codec can't decode byte 0x89 in position 0: invalid start byte"
     ]
    }
   ],
   "source": [
    "with open('tas_day_CNRM-CM6-1_historical_r1i1p1f2_gr_18500101-20141231.nc') as f:\n",
    "    a = f.read()\n",
    "    print(a)\n",
    "    "
   ]
  },
  {
   "cell_type": "code",
   "execution_count": 7,
   "id": "2d1bf900-ae87-4994-bf0e-7b1ed463ed0a",
   "metadata": {},
   "outputs": [
    {
     "data": {
      "text/plain": [
       "<_io.TextIOWrapper name='tas_day_CNRM-CM6-1_historical_r1i1p1f2_gr_18500101-20141231.nc' mode='r' encoding='UTF-8'>"
      ]
     },
     "execution_count": 7,
     "metadata": {},
     "output_type": "execute_result"
    }
   ],
   "source": [
    "f"
   ]
  },
  {
   "cell_type": "code",
   "execution_count": null,
   "id": "033a2fc1-c7d6-4bbf-be73-d57074f405cc",
   "metadata": {
    "tags": []
   },
   "outputs": [],
   "source": [
    "tas_hist = xr.open_dataset(path_hist + 'tas_day_CNRM-CM6-1_historical_r1i1p1f2_gr_18500101-20141231.nc')\n"
   ]
  },
  {
   "cell_type": "code",
   "execution_count": null,
   "id": "da7c6440-8950-4fae-b5ac-ef6681fbe0cb",
   "metadata": {},
   "outputs": [],
   "source": [
    "path_forecast1 = path_cmip6_data + 'ScenarioMIP/CNRM-CERFACS/CNRM-CM6-1/ssp585/r1i1p1f2/day/tas/gr/v20190219/'\n",
    "        path_forecast2 = path_cmip6_data + 'ScenarioMIP/CNRM-CERFACS/CNRM-CM6-1/ssp585/r1i1p1f2/day/tas/gr/v20190219/'"
   ]
  },
  {
   "cell_type": "code",
   "execution_count": null,
   "id": "bc3d7093-f07e-4fa3-9048-e5a055053386",
   "metadata": {},
   "outputs": [],
   "source": [
    "cd /pool/data/CMIP6/data/ScenarioMIP/CNRM-CERFACS/CNRM-CM6-1/ssp585/r1i1p1f2/day/tas/gr/v20190219/"
   ]
  },
  {
   "cell_type": "code",
   "execution_count": null,
   "id": "05efe2a8-203e-46bf-bd23-c1c8713fc9bc",
   "metadata": {},
   "outputs": [],
   "source": [
    "ls"
   ]
  },
  {
   "cell_type": "code",
   "execution_count": null,
   "id": "2205ff57-f2b2-4479-868f-e57d45560c33",
   "metadata": {},
   "outputs": [],
   "source": [
    "/pool/data/CMIP6/data/ScenarioMIP/CNRM-CERFACS/CNRM-CM6-1/ssp585/r1i1p1f2/day/tas/gr/v20190219/tas_day_CNRM-CM6-1_ssp585_r1i1p1f2_gr_20150101-21001231.nc"
   ]
  },
  {
   "cell_type": "code",
   "execution_count": null,
   "id": "68f96326-6c0e-4ab3-b58f-564fa8cd2081",
   "metadata": {},
   "outputs": [],
   "source": [
    "/pool/data/CMIP6/data/ScenarioMIP/CNRM-CERFACS/CNRM-CM6-1/ssp585/r1i1p1f2/day/tas/gr/v20180917/tas_day_CNRM-CM6-1_ssp585_r1i1p1f2_gr_20150101-21001231.nc"
   ]
  },
  {
   "cell_type": "code",
   "execution_count": null,
   "id": "6808e4e2-bffc-44d7-a1b3-6cb63035f8ac",
   "metadata": {},
   "outputs": [],
   "source": [
    "cd path_cmip6_data + 'ScenarioMIP/CNRM-CERFACS/CNRM-CM6-1/ssp585/r1i1p1f2/day/tas/gr/v20190219/'"
   ]
  },
  {
   "cell_type": "code",
   "execution_count": null,
   "id": "fa289fd4-1b59-4353-bda9-b9261bcdbd2b",
   "metadata": {},
   "outputs": [],
   "source": [
    "cd /pool/data/CMIP6/data/ScenarioMIP/CNRM-CERFACS/CNRM-CM6-1/ssp585/r1i1p1f2/day/tas/gr/v20190219"
   ]
  },
  {
   "cell_type": "code",
   "execution_count": null,
   "id": "4cfb46c7-1ba9-4781-b374-c6a3cc6e0b3a",
   "metadata": {},
   "outputs": [],
   "source": [
    "ls"
   ]
  },
  {
   "cell_type": "code",
   "execution_count": null,
   "id": "999362ae-4c4b-4a20-936e-ae850bf39b9f",
   "metadata": {},
   "outputs": [],
   "source": []
  }
 ],
 "metadata": {
  "kernelspec": {
   "display_name": "Python 3 (based on the module python3/2022.01)",
   "language": "python",
   "name": "python3_2022_01"
  },
  "language_info": {
   "codemirror_mode": {
    "name": "ipython",
    "version": 3
   },
   "file_extension": ".py",
   "mimetype": "text/x-python",
   "name": "python",
   "nbconvert_exporter": "python",
   "pygments_lexer": "ipython3",
   "version": "3.9.9"
  }
 },
 "nbformat": 4,
 "nbformat_minor": 5
}
