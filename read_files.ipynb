{
 "cells": [
  {
   "cell_type": "raw",
   "id": "5f531c61-cf49-4438-bd13-20d3f8c31538",
   "metadata": {},
   "source": []
  },
  {
   "cell_type": "code",
   "execution_count": 1,
   "id": "7d795ebb-68ca-4578-a6fb-235ec6857bc9",
   "metadata": {},
   "outputs": [],
   "source": [
    "import glob\n",
    "import os"
   ]
  },
  {
   "cell_type": "code",
   "execution_count": 59,
   "id": "c64b5562-ce78-44c5-b4a8-6e6210445727",
   "metadata": {},
   "outputs": [
    {
     "name": "stdout",
     "output_type": "stream",
     "text": [
      "/pool/data/CMIP6/data/CMIP/AWI/AWI-CM-1-1-MR/1pctCO2/r1i1p1f1/3hr/clt/gn/v20181218/clt_3hr_AWI-CM-1-1-MR_1pctCO2_r1i1p1f1_gn_185001010130-185012312230.nc\n",
      "/pool/data/CMIP6/data/C4MIP/NCAR/CESM2/1pctCO2-bgc/r1i1p1f1/AERday/zg500/gn/v20190724/zg500_AERday_CESM2_1pctCO2-bgc_r1i1p1f1_gn_00010101-00101231.nc\n",
      "/pool/data/CMIP6/data/C4MIP/BCC/BCC-CSM2-MR/1pctCO2-bgc/r1i1p1f1/Amon/ccb/gn/v20190321/ccb_Amon_BCC-CSM2-MR_1pctCO2-bgc_r1i1p1f1_gn_185001-200012.nc\n"
     ]
    }
   ],
   "source": [
    "models = ['AWI-CM-1-1-MR', 'CESM2',  'BCC-CSM2-MR']\n",
    "paths = glob.glob(\"/pool/data/CMIP6/*/*/*/*\")\n",
    "paths.sort()\n",
    "for model in models:\n",
    "    for path in paths:\n",
    "        if(os.path.split(path)[-1] == model):\n",
    "            filelist = glob.glob(os.path.join(path, *(6 * ['*']), '*.nc'))\n",
    "            filelist.sort()\n",
    "            print(filelist[0])\n",
    "            break          \n",
    "        \n",
    "\n"
   ]
  },
  {
   "cell_type": "code",
   "execution_count": 239,
   "id": "4c6fe15c-d7e4-4e40-b6cf-be67bbdde60c",
   "metadata": {},
   "outputs": [
    {
     "ename": "IndentationError",
     "evalue": "expected an indented block (2860857772.py, line 28)",
     "output_type": "error",
     "traceback": [
      "\u001b[0;36m  Input \u001b[0;32mIn [239]\u001b[0;36m\u001b[0m\n\u001b[0;31m    \u001b[0m\n\u001b[0m    ^\u001b[0m\n\u001b[0;31mIndentationError\u001b[0m\u001b[0;31m:\u001b[0m expected an indented block\n"
     ]
    }
   ],
   "source": [
    "basepath = '/pool/data/CMIP6/data/ScenarioMIP/'\n",
    "dirs = glob.glob(os.path.join(basepath, '*', '*', '*'))\n",
    "models = {}\n",
    "for path in dirs:\n",
    "    split = os.path.split(path)\n",
    "    pathname = split[-1]\n",
    "    modelname = os.path.split(split[-2])[-1]\n",
    "    if models.setdefault(modelname, []) != None:\n",
    "        models[modelname].append(pathname)\n",
    "\n",
    "all_scenarios = set()\n",
    "for model, model_scenarios in models.items():\n",
    "    all_scenarios = all_scenarios.union(set(model_scenarios))\n",
    "\n",
    "counts = {}\n",
    "for model, model_scenarios in models.items():\n",
    "    for scenario_1 in all_scenarios:\n",
    "        for scenario_2 in model_scenarios:\n",
    "            if scenario_1 == scenario_2:\n",
    "                if counts.setdefault(scenario_1, 0) != None:\n",
    "                    counts[scenario_1] += 1\n",
    "\n",
    "                    \n",
    "for scenarios in dict(sorted(counts.items(), reverse=True, key=(lambda x: x[1]))):\n",
    "    ispresent = True\n",
    "    for model, model_scenarios in models.items():\n",
    "        \n",
    "    \n"
   ]
  },
  {
   "cell_type": "code",
   "execution_count": 72,
   "id": "356c0141-fb23-4aaa-9934-09efafcb89ac",
   "metadata": {},
   "outputs": [
    {
     "data": {
      "text/plain": [
       "[['ssp370',\n",
       "  'ssp434',\n",
       "  'ssp460',\n",
       "  'ssp534-over',\n",
       "  'ssp245',\n",
       "  'ssp119',\n",
       "  'ssp126',\n",
       "  'ssp585'],\n",
       " ['ssp370', 'ssp534-over', 'ssp245', 'ssp119', 'ssp126', 'ssp585'],\n",
       " ['ssp370',\n",
       "  'ssp434',\n",
       "  'ssp460',\n",
       "  'ssp534-over',\n",
       "  'ssp245',\n",
       "  'ssp119',\n",
       "  'ssp126',\n",
       "  'ssp585'],\n",
       " ['ssp370',\n",
       "  'ssp434',\n",
       "  'ssp460',\n",
       "  'ssp534-over',\n",
       "  'ssp245',\n",
       "  'ssp119',\n",
       "  'ssp126',\n",
       "  'ssp585'],\n",
       " ['ssp370',\n",
       "  'ssp434',\n",
       "  'ssp534-over',\n",
       "  'ssp245',\n",
       "  'ssp119',\n",
       "  'ssp126',\n",
       "  'ssp585',\n",
       "  'ssp245'],\n",
       " ['ssp370', 'ssp434', 'ssp534-over', 'ssp245', 'ssp119', 'ssp126', 'ssp585'],\n",
       " ['ssp370',\n",
       "  'ssp434',\n",
       "  'ssp460',\n",
       "  'ssp534-over',\n",
       "  'ssp245',\n",
       "  'ssp119',\n",
       "  'ssp126',\n",
       "  'ssp585'],\n",
       " ['ssp370',\n",
       "  'ssp434',\n",
       "  'ssp460',\n",
       "  'ssp534-over',\n",
       "  'ssp245',\n",
       "  'ssp119',\n",
       "  'ssp126',\n",
       "  'ssp585'],\n",
       " ['ssp370',\n",
       "  'ssp434',\n",
       "  'ssp460',\n",
       "  'ssp534-over',\n",
       "  'ssp245',\n",
       "  'ssp119',\n",
       "  'ssp126',\n",
       "  'ssp585'],\n",
       " ['ssp370',\n",
       "  'ssp434',\n",
       "  'ssp460',\n",
       "  'ssp534-over',\n",
       "  'ssp245',\n",
       "  'ssp119',\n",
       "  'ssp126',\n",
       "  'ssp585']]"
      ]
     },
     "execution_count": 72,
     "metadata": {},
     "output_type": "execute_result"
    }
   ],
   "source": [
    "scenarios"
   ]
  },
  {
   "cell_type": "code",
   "execution_count": 240,
   "id": "badf3083-6cca-4d5a-a8b0-560186cf1098",
   "metadata": {},
   "outputs": [],
   "source": [
    "import numpy as np\n",
    "\n",
    "is_present = np.zeros((len(models), len(all_scenarios)))\n",
    "md = []\n",
    "for imodel, (model, model_scenarios) in enumerate(models.items()):\n",
    "    md.append(model)\n",
    "    for iscen, scenario in enumerate(all_scenarios):\n",
    "        if scenario in model_scenarios:\n",
    "            is_present[imodel, iscen] = 1"
   ]
  },
  {
   "cell_type": "code",
   "execution_count": 241,
   "id": "76b30b72-2cef-46cb-ae48-7c4ee869b0c1",
   "metadata": {},
   "outputs": [
    {
     "name": "stdout",
     "output_type": "stream",
     "text": [
      "GISS-E2-1-G ssp534-over\n"
     ]
    }
   ],
   "source": [
    "md = np.array(md)\n",
    "idxs = np.nonzero(np.sum(is_present, 1) == 8)\n",
    "modelnames = md[idxs]\n",
    "filenames = []\n",
    "for modelname in modelnames:\n",
    "    for scenario in all_scenarios:\n",
    "        filename = glob.glob(os.path.join('/pool/data/CMIP6/data/ScenarioMIP/*', modelname, scenario,\n",
    "                                         '*/day/tas/*/*/*.nc'))\n",
    "        if filename:\n",
    "            filenames.append(filename[0])\n",
    "        else:\n",
    "            print(modelname, scenario)\n",
    "        "
   ]
  },
  {
   "cell_type": "code",
   "execution_count": 247,
   "id": "7386b8ea-2b04-4a87-be53-e554075a5790",
   "metadata": {},
   "outputs": [
    {
     "data": {
      "text/plain": [
       "{'ssp119',\n",
       " 'ssp126',\n",
       " 'ssp245',\n",
       " 'ssp370',\n",
       " 'ssp434',\n",
       " 'ssp460',\n",
       " 'ssp534-over',\n",
       " 'ssp585'}"
      ]
     },
     "execution_count": 247,
     "metadata": {},
     "output_type": "execute_result"
    }
   ],
   "source": [
    "all_scenarios"
   ]
  },
  {
   "cell_type": "code",
   "execution_count": 227,
   "id": "45448a4c-6663-4da2-a23e-ffd8045d1123",
   "metadata": {},
   "outputs": [
    {
     "data": {
      "text/plain": [
       "['/pool/data/CMIP6/data/ScenarioMIP/MIROC/MIROC6/ssp585/r1i1p1f1/day/tas/gn/v20191016/tas_day_MIROC6_ssp585_r1i1p1f1_gn_20850101-20941231.nc',\n",
       " '/pool/data/CMIP6/data/ScenarioMIP/MIROC/MIROC6/ssp119/r1i1p1f1/day/tas/gn/v20191016/tas_day_MIROC6_ssp119_r1i1p1f1_gn_20850101-20941231.nc',\n",
       " '/pool/data/CMIP6/data/ScenarioMIP/MIROC/MIROC6/ssp534-over/r1i1p1f1/day/tas/gn/v20191016/tas_day_MIROC6_ssp534-over_r1i1p1f1_gn_21000101-21001231.nc',\n",
       " '/pool/data/CMIP6/data/ScenarioMIP/MIROC/MIROC6/ssp370/r1i1p1f1/day/tas/gn/v20191016/tas_day_MIROC6_ssp370_r1i1p1f1_gn_20350101-20441231.nc',\n",
       " '/pool/data/CMIP6/data/ScenarioMIP/MIROC/MIROC6/ssp460/r1i1p1f1/day/tas/gn/v20191016/tas_day_MIROC6_ssp460_r1i1p1f1_gn_20950101-21001231.nc',\n",
       " '/pool/data/CMIP6/data/ScenarioMIP/MIROC/MIROC6/ssp126/r1i1p1f1/day/tas/gn/v20191016/tas_day_MIROC6_ssp126_r1i1p1f1_gn_20150101-20241231.nc',\n",
       " '/pool/data/CMIP6/data/ScenarioMIP/MIROC/MIROC6/ssp434/r1i1p1f1/day/tas/gn/v20191016/tas_day_MIROC6_ssp434_r1i1p1f1_gn_20150101-20241231.nc',\n",
       " '/pool/data/CMIP6/data/ScenarioMIP/MIROC/MIROC6/ssp245/r1i1p1f1/day/tas/gn/v20191016/tas_day_MIROC6_ssp245_r1i1p1f1_gn_20550101-20641231.nc',\n",
       " '/pool/data/CMIP6/data/ScenarioMIP/MRI/MRI-ESM2-0/ssp585/r1i1p1f1/day/tas/gn/v20191108/tas_day_MRI-ESM2-0_ssp585_r1i1p1f1_gn_20150101-20641231.nc',\n",
       " '/pool/data/CMIP6/data/ScenarioMIP/MRI/MRI-ESM2-0/ssp119/r1i1p1f1/day/tas/gn/v20190603/tas_day_MRI-ESM2-0_ssp119_r1i1p1f1_gn_20650101-21001231.nc',\n",
       " '/pool/data/CMIP6/data/ScenarioMIP/MRI/MRI-ESM2-0/ssp534-over/r1i1p1f1/day/tas/gn/v20191108/tas_day_MRI-ESM2-0_ssp534-over_r1i1p1f1_gn_22010101-22501231.nc',\n",
       " '/pool/data/CMIP6/data/ScenarioMIP/MRI/MRI-ESM2-0/ssp370/r5i1p1f1/day/tas/gn/v20190927/tas_day_MRI-ESM2-0_ssp370_r5i1p1f1_gn_20150101-20641231.nc',\n",
       " '/pool/data/CMIP6/data/ScenarioMIP/MRI/MRI-ESM2-0/ssp460/r1i1p1f1/day/tas/gn/v20190603/tas_day_MRI-ESM2-0_ssp460_r1i1p1f1_gn_20650101-21001231.nc',\n",
       " '/pool/data/CMIP6/data/ScenarioMIP/MRI/MRI-ESM2-0/ssp126/r1i1p1f1/day/tas/gn/v20191108/tas_day_MRI-ESM2-0_ssp126_r1i1p1f1_gn_22010101-22501231.nc',\n",
       " '/pool/data/CMIP6/data/ScenarioMIP/MRI/MRI-ESM2-0/ssp434/r1i1p1f1/day/tas/gn/v20190603/tas_day_MRI-ESM2-0_ssp434_r1i1p1f1_gn_20650101-21001231.nc',\n",
       " '/pool/data/CMIP6/data/ScenarioMIP/MRI/MRI-ESM2-0/ssp245/r1i1p1f1/day/tas/gn/v20190603/tas_day_MRI-ESM2-0_ssp245_r1i1p1f1_gn_20150101-20641231.nc',\n",
       " '/pool/data/CMIP6/data/ScenarioMIP/CNRM-CERFACS/CNRM-ESM2-1/ssp585/r2i1p1f2/day/tas/gr/v20190410/tas_day_CNRM-ESM2-1_ssp585_r2i1p1f2_gr_20150101-21001231.nc',\n",
       " '/pool/data/CMIP6/data/ScenarioMIP/CNRM-CERFACS/CNRM-ESM2-1/ssp119/r2i1p1f2/day/tas/gr/v20190410/tas_day_CNRM-ESM2-1_ssp119_r2i1p1f2_gr_20150101-21001231.nc',\n",
       " '/pool/data/CMIP6/data/ScenarioMIP/CNRM-CERFACS/CNRM-ESM2-1/ssp534-over/r2i1p1f2/day/tas/gr/v20190410/tas_day_CNRM-ESM2-1_ssp534-over_r2i1p1f2_gr_20150101-21001231.nc',\n",
       " '/pool/data/CMIP6/data/ScenarioMIP/CNRM-CERFACS/CNRM-ESM2-1/ssp370/r2i1p1f2/day/tas/gr/v20190410/tas_day_CNRM-ESM2-1_ssp370_r2i1p1f2_gr_20150101-20551231.nc',\n",
       " '/pool/data/CMIP6/data/ScenarioMIP/CNRM-CERFACS/CNRM-ESM2-1/ssp460/r5i1p1f2/day/tas/gr/v20190410/tas_day_CNRM-ESM2-1_ssp460_r5i1p1f2_gr_20150101-21001231.nc',\n",
       " '/pool/data/CMIP6/data/ScenarioMIP/CNRM-CERFACS/CNRM-ESM2-1/ssp126/r2i1p1f2/day/tas/gr/v20190410/tas_day_CNRM-ESM2-1_ssp126_r2i1p1f2_gr_20150101-21001231.nc',\n",
       " '/pool/data/CMIP6/data/ScenarioMIP/CNRM-CERFACS/CNRM-ESM2-1/ssp434/r5i1p1f2/day/tas/gr/v20190410/tas_day_CNRM-ESM2-1_ssp434_r5i1p1f2_gr_20150101-21001231.nc',\n",
       " '/pool/data/CMIP6/data/ScenarioMIP/CNRM-CERFACS/CNRM-ESM2-1/ssp245/r5i1p1f2/day/tas/gr/v20190410/tas_day_CNRM-ESM2-1_ssp245_r5i1p1f2_gr_20150101-21001231.nc',\n",
       " '/pool/data/CMIP6/data/ScenarioMIP/CCCma/CanESM5/ssp585/r22i1p1f1/day/tas/gn/v20190429/tas_day_CanESM5_ssp585_r22i1p1f1_gn_20150101-21001231.nc',\n",
       " '/pool/data/CMIP6/data/ScenarioMIP/CCCma/CanESM5/ssp119/r22i1p1f1/day/tas/gn/v20190429/tas_day_CanESM5_ssp119_r22i1p1f1_gn_20150101-21001231.nc',\n",
       " '/pool/data/CMIP6/data/ScenarioMIP/CCCma/CanESM5/ssp534-over/r5i1p1f1/day/tas/gn/v20190429/tas_day_CanESM5_ssp534-over_r5i1p1f1_gn_20400101-21001231.nc',\n",
       " '/pool/data/CMIP6/data/ScenarioMIP/CCCma/CanESM5/ssp370/r22i1p1f1/day/tas/gn/v20190429/tas_day_CanESM5_ssp370_r22i1p1f1_gn_20150101-21001231.nc',\n",
       " '/pool/data/CMIP6/data/ScenarioMIP/CCCma/CanESM5/ssp460/r5i1p1f1/day/tas/gn/v20190429/tas_day_CanESM5_ssp460_r5i1p1f1_gn_20150101-21001231.nc',\n",
       " '/pool/data/CMIP6/data/ScenarioMIP/CCCma/CanESM5/ssp126/r22i1p1f1/day/tas/gn/v20190429/tas_day_CanESM5_ssp126_r22i1p1f1_gn_20150101-21001231.nc',\n",
       " '/pool/data/CMIP6/data/ScenarioMIP/CCCma/CanESM5/ssp434/r5i1p1f1/day/tas/gn/v20190429/tas_day_CanESM5_ssp434_r5i1p1f1_gn_20150101-21001231.nc',\n",
       " '/pool/data/CMIP6/data/ScenarioMIP/CCCma/CanESM5/ssp245/r22i1p1f1/day/tas/gn/v20190429/tas_day_CanESM5_ssp245_r22i1p1f1_gn_20150101-21001231.nc',\n",
       " '/pool/data/CMIP6/data/ScenarioMIP/IPSL/IPSL-CM6A-LR/ssp585/r6i1p1f1/day/tas/gr/v20191121/tas_day_IPSL-CM6A-LR_ssp585_r6i1p1f1_gr_20150101-21001231.nc',\n",
       " '/pool/data/CMIP6/data/ScenarioMIP/IPSL/IPSL-CM6A-LR/ssp119/r6i1p1f1/day/tas/gr/v20191122/tas_day_IPSL-CM6A-LR_ssp119_r6i1p1f1_gr_20150101-21001231.nc',\n",
       " '/pool/data/CMIP6/data/ScenarioMIP/IPSL/IPSL-CM6A-LR/ssp534-over/r1i1p1f1/day/tas/gr/v20190909/tas_day_IPSL-CM6A-LR_ssp534-over_r1i1p1f1_gr_20400101-21001231.nc',\n",
       " '/pool/data/CMIP6/data/ScenarioMIP/IPSL/IPSL-CM6A-LR/ssp370/r8i1p1f1/day/tas/gr/v20190614/tas_day_IPSL-CM6A-LR_ssp370_r8i1p1f1_gr_20150101-21001231.nc',\n",
       " '/pool/data/CMIP6/data/ScenarioMIP/IPSL/IPSL-CM6A-LR/ssp460/r1i1p1f1/day/tas/gr/v20190614/tas_day_IPSL-CM6A-LR_ssp460_r1i1p1f1_gr_20150101-21001231.nc',\n",
       " '/pool/data/CMIP6/data/ScenarioMIP/IPSL/IPSL-CM6A-LR/ssp126/r6i1p1f1/day/tas/gr/v20191121/tas_day_IPSL-CM6A-LR_ssp126_r6i1p1f1_gr_20150101-21001231.nc',\n",
       " '/pool/data/CMIP6/data/ScenarioMIP/IPSL/IPSL-CM6A-LR/ssp434/r1i1p1f1/day/tas/gr/v20190614/tas_day_IPSL-CM6A-LR_ssp434_r1i1p1f1_gr_20150101-21001231.nc',\n",
       " '/pool/data/CMIP6/data/ScenarioMIP/IPSL/IPSL-CM6A-LR/ssp245/r22i1p1f1/day/tas/gr/v20200218/tas_day_IPSL-CM6A-LR_ssp245_r22i1p1f1_gr_20150101-21001231.nc',\n",
       " '/pool/data/CMIP6/data/ScenarioMIP/CAS/FGOALS-g3/ssp585/r1i1p1f1/day/tas/gn/v20190819/tas_day_FGOALS-g3_ssp585_r1i1p1f1_gn_20660101-20661231.nc',\n",
       " '/pool/data/CMIP6/data/ScenarioMIP/CAS/FGOALS-g3/ssp119/r1i1p1f1/day/tas/gn/v20191202/tas_day_FGOALS-g3_ssp119_r1i1p1f1_gn_20200101-20201231.nc',\n",
       " '/pool/data/CMIP6/data/ScenarioMIP/CAS/FGOALS-g3/ssp534-over/r1i1p1f1/day/tas/gn/v20200411/tas_day_FGOALS-g3_ssp534-over_r1i1p1f1_gn_20610101-20611231.nc',\n",
       " '/pool/data/CMIP6/data/ScenarioMIP/CAS/FGOALS-g3/ssp370/r1i1p1f1/day/tas/gn/v20190820/tas_day_FGOALS-g3_ssp370_r1i1p1f1_gn_20680101-20681231.nc',\n",
       " '/pool/data/CMIP6/data/ScenarioMIP/CAS/FGOALS-g3/ssp460/r1i1p1f1/day/tas/gn/v20191217/tas_day_FGOALS-g3_ssp460_r1i1p1f1_gn_20540101-20541231.nc',\n",
       " '/pool/data/CMIP6/data/ScenarioMIP/CAS/FGOALS-g3/ssp126/r1i1p1f1/day/tas/gn/v20200928/tas_day_FGOALS-g3_ssp126_r1i1p1f1_gn_20540101-20541231.nc',\n",
       " '/pool/data/CMIP6/data/ScenarioMIP/CAS/FGOALS-g3/ssp434/r1i1p1f1/day/tas/gn/v20191217/tas_day_FGOALS-g3_ssp434_r1i1p1f1_gn_20190101-20191231.nc',\n",
       " '/pool/data/CMIP6/data/ScenarioMIP/CAS/FGOALS-g3/ssp245/r1i1p1f1/day/tas/gn/v20190819/tas_day_FGOALS-g3_ssp245_r1i1p1f1_gn_20200101-20201231.nc',\n",
       " '/pool/data/CMIP6/data/ScenarioMIP/NASA-GISS/GISS-E2-1-G/ssp585/r1i1p1f2/day/tas/gn/v20200115/tas_day_GISS-E2-1-G_ssp585_r1i1p1f2_gn_20150101-21001231.nc',\n",
       " '/pool/data/CMIP6/data/ScenarioMIP/NASA-GISS/GISS-E2-1-G/ssp119/r1i1p3f1/day/tas/gn/v20200115/tas_day_GISS-E2-1-G_ssp119_r1i1p3f1_gn_20150101-21001231.nc',\n",
       " '/pool/data/CMIP6/data/ScenarioMIP/NASA-GISS/GISS-E2-1-G/ssp370/r2i1p3f2/day/tas/gn/v20200115/tas_day_GISS-E2-1-G_ssp370_r2i1p3f2_gn_20150101-21001231.nc',\n",
       " '/pool/data/CMIP6/data/ScenarioMIP/NASA-GISS/GISS-E2-1-G/ssp460/r1i1p3f1/day/tas/gn/v20200115/tas_day_GISS-E2-1-G_ssp460_r1i1p3f1_gn_20150101-21001231.nc',\n",
       " '/pool/data/CMIP6/data/ScenarioMIP/NASA-GISS/GISS-E2-1-G/ssp126/r1i1p1f2/day/tas/gn/v20200115/tas_day_GISS-E2-1-G_ssp126_r1i1p1f2_gn_20150101-21001231.nc',\n",
       " '/pool/data/CMIP6/data/ScenarioMIP/NASA-GISS/GISS-E2-1-G/ssp434/r1i1p3f1/day/tas/gn/v20200115/tas_day_GISS-E2-1-G_ssp434_r1i1p3f1_gn_20150101-21001231.nc',\n",
       " '/pool/data/CMIP6/data/ScenarioMIP/NASA-GISS/GISS-E2-1-G/ssp245/r1i1p1f2/day/tas/gn/v20200115/tas_day_GISS-E2-1-G_ssp245_r1i1p1f2_gn_20400101-21001231.nc']"
      ]
     },
     "execution_count": 227,
     "metadata": {},
     "output_type": "execute_result"
    }
   ],
   "source": [
    "filenames"
   ]
  },
  {
   "cell_type": "code",
   "execution_count": null,
   "id": "88493d6e-4bd8-4290-b415-f7234735d1b2",
   "metadata": {},
   "outputs": [],
   "source": []
  }
 ],
 "metadata": {
  "kernelspec": {
   "display_name": "Python 3 (based on the module python3/2022.01)",
   "language": "python",
   "name": "python3_2022_01"
  },
  "language_info": {
   "codemirror_mode": {
    "name": "ipython",
    "version": 3
   },
   "file_extension": ".py",
   "mimetype": "text/x-python",
   "name": "python",
   "nbconvert_exporter": "python",
   "pygments_lexer": "ipython3",
   "version": "3.9.9"
  }
 },
 "nbformat": 4,
 "nbformat_minor": 5
}
