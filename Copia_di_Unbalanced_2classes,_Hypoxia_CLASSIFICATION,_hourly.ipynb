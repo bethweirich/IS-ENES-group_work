{
  "cells": [
    {
      "cell_type": "markdown",
      "metadata": {
        "id": "view-in-github",
        "colab_type": "text"
      },
      "source": [
        "<a href=\"https://colab.research.google.com/github/bethweirich/IS-ENES-group_work/blob/main/Copia_di_Unbalanced_2classes%2C_Hypoxia_CLASSIFICATION%2C_hourly.ipynb\" target=\"_parent\"><img src=\"https://colab.research.google.com/assets/colab-badge.svg\" alt=\"Open In Colab\"/></a>"
      ]
    },
    {
      "cell_type": "markdown",
      "metadata": {
        "id": "Zcar6gl9BVGZ"
      },
      "source": [
        "  **HYPOXIA - VENICE LAGOON - \n",
        "  IMBALANCED CLASSIFICATION PROBLEM**\n",
        "  \n",
        "\n",
        "*   Severe Imbalance -->  1:120\n",
        "\n",
        "\n",
        "\n",
        "\n",
        "\n",
        "\n",
        "\n",
        "\n"
      ]
    },
    {
      "cell_type": "code",
      "execution_count": 1,
      "metadata": {
        "id": "osjyY4jEFaG_"
      },
      "outputs": [],
      "source": [
        "import pandas as pd\n",
        "# Use numpy to convert to arrays\n",
        "import numpy as np\n",
        "#Import Random Forest Model\n",
        "from sklearn.ensemble import RandomForestClassifier\n",
        "from sklearn import neighbors\n",
        "from sklearn.metrics import accuracy_score, confusion_matrix, classification_report\n",
        "import pandas as pd\n",
        "import matplotlib.pyplot as plt\n",
        "import numpy as np \n",
        "# Import train_test_split function\n",
        "\n",
        "from sklearn.model_selection import train_test_split, RandomizedSearchCV\n",
        "\n",
        "from sklearn.metrics import mean_squared_error,confusion_matrix,accuracy_score, roc_auc_score, f1_score\n",
        "import matplotlib.pyplot as plt\n",
        "import seaborn as sns\n",
        "import joblib\n",
        "#Import scikit-learn metrics module for accuracy calculation\n",
        "from sklearn import metrics\n",
        "from datetime import date, datetime"
      ]
    },
    {
      "cell_type": "code",
      "execution_count": 2,
      "metadata": {
        "id": "B5WYeyNwA478",
        "colab": {
          "base_uri": "https://localhost:8080/"
        },
        "outputId": "5886f4a8-0e71-47a5-8be8-4ac63ec50e2d"
      },
      "outputs": [
        {
          "output_type": "stream",
          "name": "stdout",
          "text": [
            "Mounted at /content/gdrive\n"
          ]
        }
      ],
      "source": [
        "from google.colab import drive\n",
        "drive.mount('/content/gdrive')"
      ]
    },
    {
      "cell_type": "markdown",
      "metadata": {
        "id": "c01h6ToRz3oo"
      },
      "source": [
        "# ▶ *Upload the dataset*"
      ]
    },
    {
      "cell_type": "code",
      "execution_count": 3,
      "metadata": {
        "id": "pRtT9jIlKbiR",
        "colab": {
          "base_uri": "https://localhost:8080/",
          "height": 852
        },
        "outputId": "30aaeab0-b3ec-4ef7-e9b8-02e936faa91e"
      },
      "outputs": [
        {
          "output_type": "execute_result",
          "data": {
            "text/plain": [
              "        Unnamed: 0  Unnamed: 0.1                 date         x         y  \\\n",
              "0                0             0  2008-01-01 00:00:00  17.56205  50.34165   \n",
              "1                1             1  2008-01-01 01:00:00  17.56205  50.34165   \n",
              "2                2             2  2008-01-01 02:00:00  17.56205  50.34165   \n",
              "3                3             3  2008-01-01 03:00:00  17.56205  50.34165   \n",
              "4                4             4  2008-01-01 04:00:00  17.56205  50.34165   \n",
              "...            ...           ...                  ...       ...       ...   \n",
              "638737      740059         51284  2017-07-25 03:00:00  17.54618  50.11736   \n",
              "638738      740060         51285  2017-07-25 09:00:00  17.54618  50.11736   \n",
              "638739      740061         51286  2017-07-25 10:00:00  17.54618  50.11736   \n",
              "638740      740062         51287  2017-07-25 11:00:00  17.54618  50.11736   \n",
              "638741      740063         51288  2017-07-25 12:00:00  17.54618  50.11736   \n",
              "\n",
              "        IDSonda  precipitation   humidity      radsol      wind  \\\n",
              "0             1            0.0  95.183425    0.000000  1.029575   \n",
              "1             1            0.0  92.060950    0.000000  1.075490   \n",
              "2             1            0.0  92.214959    0.000000  1.288724   \n",
              "3             1            0.0  95.018843    0.000000  1.288724   \n",
              "4             1            0.0  94.845991    0.000000  1.442809   \n",
              "...         ...            ...        ...         ...       ...   \n",
              "638737       10            0.0  88.671165    0.000000  0.916847   \n",
              "638738       10            0.0  56.040026  634.850998  1.234913   \n",
              "638739       10            0.0  53.637678  751.019047  1.385282   \n",
              "638740       10            0.0  53.663792  827.589861  1.289285   \n",
              "638741       10            0.0  57.469212  876.664363  1.505550   \n",
              "\n",
              "        w_temperature   salinity          DO  chla  \n",
              "0            7.540900  32.591700  100.380000  1.00  \n",
              "1            7.246600  32.566500   94.500000  1.00  \n",
              "2            6.984600  32.592999   94.820002  1.05  \n",
              "3            6.156700  32.415400   99.239999  1.04  \n",
              "4            6.093600  32.406200   99.850002  1.00  \n",
              "...               ...        ...         ...   ...  \n",
              "638737      25.444500  26.997200   39.809999  0.70  \n",
              "638738      25.282701  24.244000   51.799999  0.59  \n",
              "638739      25.831100  24.966500   59.730000  0.65  \n",
              "638740      25.997000  26.298800   61.799999  0.65  \n",
              "638741      26.809000  27.982400   91.380002  0.55  \n",
              "\n",
              "[638742 rows x 14 columns]"
            ],
            "text/html": [
              "\n",
              "  <div id=\"df-49dec719-1162-4cf9-854d-052d5942f5d2\">\n",
              "    <div class=\"colab-df-container\">\n",
              "      <div>\n",
              "<style scoped>\n",
              "    .dataframe tbody tr th:only-of-type {\n",
              "        vertical-align: middle;\n",
              "    }\n",
              "\n",
              "    .dataframe tbody tr th {\n",
              "        vertical-align: top;\n",
              "    }\n",
              "\n",
              "    .dataframe thead th {\n",
              "        text-align: right;\n",
              "    }\n",
              "</style>\n",
              "<table border=\"1\" class=\"dataframe\">\n",
              "  <thead>\n",
              "    <tr style=\"text-align: right;\">\n",
              "      <th></th>\n",
              "      <th>Unnamed: 0</th>\n",
              "      <th>Unnamed: 0.1</th>\n",
              "      <th>date</th>\n",
              "      <th>x</th>\n",
              "      <th>y</th>\n",
              "      <th>IDSonda</th>\n",
              "      <th>precipitation</th>\n",
              "      <th>humidity</th>\n",
              "      <th>radsol</th>\n",
              "      <th>wind</th>\n",
              "      <th>w_temperature</th>\n",
              "      <th>salinity</th>\n",
              "      <th>DO</th>\n",
              "      <th>chla</th>\n",
              "    </tr>\n",
              "  </thead>\n",
              "  <tbody>\n",
              "    <tr>\n",
              "      <th>0</th>\n",
              "      <td>0</td>\n",
              "      <td>0</td>\n",
              "      <td>2008-01-01 00:00:00</td>\n",
              "      <td>17.56205</td>\n",
              "      <td>50.34165</td>\n",
              "      <td>1</td>\n",
              "      <td>0.0</td>\n",
              "      <td>95.183425</td>\n",
              "      <td>0.000000</td>\n",
              "      <td>1.029575</td>\n",
              "      <td>7.540900</td>\n",
              "      <td>32.591700</td>\n",
              "      <td>100.380000</td>\n",
              "      <td>1.00</td>\n",
              "    </tr>\n",
              "    <tr>\n",
              "      <th>1</th>\n",
              "      <td>1</td>\n",
              "      <td>1</td>\n",
              "      <td>2008-01-01 01:00:00</td>\n",
              "      <td>17.56205</td>\n",
              "      <td>50.34165</td>\n",
              "      <td>1</td>\n",
              "      <td>0.0</td>\n",
              "      <td>92.060950</td>\n",
              "      <td>0.000000</td>\n",
              "      <td>1.075490</td>\n",
              "      <td>7.246600</td>\n",
              "      <td>32.566500</td>\n",
              "      <td>94.500000</td>\n",
              "      <td>1.00</td>\n",
              "    </tr>\n",
              "    <tr>\n",
              "      <th>2</th>\n",
              "      <td>2</td>\n",
              "      <td>2</td>\n",
              "      <td>2008-01-01 02:00:00</td>\n",
              "      <td>17.56205</td>\n",
              "      <td>50.34165</td>\n",
              "      <td>1</td>\n",
              "      <td>0.0</td>\n",
              "      <td>92.214959</td>\n",
              "      <td>0.000000</td>\n",
              "      <td>1.288724</td>\n",
              "      <td>6.984600</td>\n",
              "      <td>32.592999</td>\n",
              "      <td>94.820002</td>\n",
              "      <td>1.05</td>\n",
              "    </tr>\n",
              "    <tr>\n",
              "      <th>3</th>\n",
              "      <td>3</td>\n",
              "      <td>3</td>\n",
              "      <td>2008-01-01 03:00:00</td>\n",
              "      <td>17.56205</td>\n",
              "      <td>50.34165</td>\n",
              "      <td>1</td>\n",
              "      <td>0.0</td>\n",
              "      <td>95.018843</td>\n",
              "      <td>0.000000</td>\n",
              "      <td>1.288724</td>\n",
              "      <td>6.156700</td>\n",
              "      <td>32.415400</td>\n",
              "      <td>99.239999</td>\n",
              "      <td>1.04</td>\n",
              "    </tr>\n",
              "    <tr>\n",
              "      <th>4</th>\n",
              "      <td>4</td>\n",
              "      <td>4</td>\n",
              "      <td>2008-01-01 04:00:00</td>\n",
              "      <td>17.56205</td>\n",
              "      <td>50.34165</td>\n",
              "      <td>1</td>\n",
              "      <td>0.0</td>\n",
              "      <td>94.845991</td>\n",
              "      <td>0.000000</td>\n",
              "      <td>1.442809</td>\n",
              "      <td>6.093600</td>\n",
              "      <td>32.406200</td>\n",
              "      <td>99.850002</td>\n",
              "      <td>1.00</td>\n",
              "    </tr>\n",
              "    <tr>\n",
              "      <th>...</th>\n",
              "      <td>...</td>\n",
              "      <td>...</td>\n",
              "      <td>...</td>\n",
              "      <td>...</td>\n",
              "      <td>...</td>\n",
              "      <td>...</td>\n",
              "      <td>...</td>\n",
              "      <td>...</td>\n",
              "      <td>...</td>\n",
              "      <td>...</td>\n",
              "      <td>...</td>\n",
              "      <td>...</td>\n",
              "      <td>...</td>\n",
              "      <td>...</td>\n",
              "    </tr>\n",
              "    <tr>\n",
              "      <th>638737</th>\n",
              "      <td>740059</td>\n",
              "      <td>51284</td>\n",
              "      <td>2017-07-25 03:00:00</td>\n",
              "      <td>17.54618</td>\n",
              "      <td>50.11736</td>\n",
              "      <td>10</td>\n",
              "      <td>0.0</td>\n",
              "      <td>88.671165</td>\n",
              "      <td>0.000000</td>\n",
              "      <td>0.916847</td>\n",
              "      <td>25.444500</td>\n",
              "      <td>26.997200</td>\n",
              "      <td>39.809999</td>\n",
              "      <td>0.70</td>\n",
              "    </tr>\n",
              "    <tr>\n",
              "      <th>638738</th>\n",
              "      <td>740060</td>\n",
              "      <td>51285</td>\n",
              "      <td>2017-07-25 09:00:00</td>\n",
              "      <td>17.54618</td>\n",
              "      <td>50.11736</td>\n",
              "      <td>10</td>\n",
              "      <td>0.0</td>\n",
              "      <td>56.040026</td>\n",
              "      <td>634.850998</td>\n",
              "      <td>1.234913</td>\n",
              "      <td>25.282701</td>\n",
              "      <td>24.244000</td>\n",
              "      <td>51.799999</td>\n",
              "      <td>0.59</td>\n",
              "    </tr>\n",
              "    <tr>\n",
              "      <th>638739</th>\n",
              "      <td>740061</td>\n",
              "      <td>51286</td>\n",
              "      <td>2017-07-25 10:00:00</td>\n",
              "      <td>17.54618</td>\n",
              "      <td>50.11736</td>\n",
              "      <td>10</td>\n",
              "      <td>0.0</td>\n",
              "      <td>53.637678</td>\n",
              "      <td>751.019047</td>\n",
              "      <td>1.385282</td>\n",
              "      <td>25.831100</td>\n",
              "      <td>24.966500</td>\n",
              "      <td>59.730000</td>\n",
              "      <td>0.65</td>\n",
              "    </tr>\n",
              "    <tr>\n",
              "      <th>638740</th>\n",
              "      <td>740062</td>\n",
              "      <td>51287</td>\n",
              "      <td>2017-07-25 11:00:00</td>\n",
              "      <td>17.54618</td>\n",
              "      <td>50.11736</td>\n",
              "      <td>10</td>\n",
              "      <td>0.0</td>\n",
              "      <td>53.663792</td>\n",
              "      <td>827.589861</td>\n",
              "      <td>1.289285</td>\n",
              "      <td>25.997000</td>\n",
              "      <td>26.298800</td>\n",
              "      <td>61.799999</td>\n",
              "      <td>0.65</td>\n",
              "    </tr>\n",
              "    <tr>\n",
              "      <th>638741</th>\n",
              "      <td>740063</td>\n",
              "      <td>51288</td>\n",
              "      <td>2017-07-25 12:00:00</td>\n",
              "      <td>17.54618</td>\n",
              "      <td>50.11736</td>\n",
              "      <td>10</td>\n",
              "      <td>0.0</td>\n",
              "      <td>57.469212</td>\n",
              "      <td>876.664363</td>\n",
              "      <td>1.505550</td>\n",
              "      <td>26.809000</td>\n",
              "      <td>27.982400</td>\n",
              "      <td>91.380002</td>\n",
              "      <td>0.55</td>\n",
              "    </tr>\n",
              "  </tbody>\n",
              "</table>\n",
              "<p>638742 rows × 14 columns</p>\n",
              "</div>\n",
              "      <button class=\"colab-df-convert\" onclick=\"convertToInteractive('df-49dec719-1162-4cf9-854d-052d5942f5d2')\"\n",
              "              title=\"Convert this dataframe to an interactive table.\"\n",
              "              style=\"display:none;\">\n",
              "        \n",
              "  <svg xmlns=\"http://www.w3.org/2000/svg\" height=\"24px\"viewBox=\"0 0 24 24\"\n",
              "       width=\"24px\">\n",
              "    <path d=\"M0 0h24v24H0V0z\" fill=\"none\"/>\n",
              "    <path d=\"M18.56 5.44l.94 2.06.94-2.06 2.06-.94-2.06-.94-.94-2.06-.94 2.06-2.06.94zm-11 1L8.5 8.5l.94-2.06 2.06-.94-2.06-.94L8.5 2.5l-.94 2.06-2.06.94zm10 10l.94 2.06.94-2.06 2.06-.94-2.06-.94-.94-2.06-.94 2.06-2.06.94z\"/><path d=\"M17.41 7.96l-1.37-1.37c-.4-.4-.92-.59-1.43-.59-.52 0-1.04.2-1.43.59L10.3 9.45l-7.72 7.72c-.78.78-.78 2.05 0 2.83L4 21.41c.39.39.9.59 1.41.59.51 0 1.02-.2 1.41-.59l7.78-7.78 2.81-2.81c.8-.78.8-2.07 0-2.86zM5.41 20L4 18.59l7.72-7.72 1.47 1.35L5.41 20z\"/>\n",
              "  </svg>\n",
              "      </button>\n",
              "      \n",
              "  <style>\n",
              "    .colab-df-container {\n",
              "      display:flex;\n",
              "      flex-wrap:wrap;\n",
              "      gap: 12px;\n",
              "    }\n",
              "\n",
              "    .colab-df-convert {\n",
              "      background-color: #E8F0FE;\n",
              "      border: none;\n",
              "      border-radius: 50%;\n",
              "      cursor: pointer;\n",
              "      display: none;\n",
              "      fill: #1967D2;\n",
              "      height: 32px;\n",
              "      padding: 0 0 0 0;\n",
              "      width: 32px;\n",
              "    }\n",
              "\n",
              "    .colab-df-convert:hover {\n",
              "      background-color: #E2EBFA;\n",
              "      box-shadow: 0px 1px 2px rgba(60, 64, 67, 0.3), 0px 1px 3px 1px rgba(60, 64, 67, 0.15);\n",
              "      fill: #174EA6;\n",
              "    }\n",
              "\n",
              "    [theme=dark] .colab-df-convert {\n",
              "      background-color: #3B4455;\n",
              "      fill: #D2E3FC;\n",
              "    }\n",
              "\n",
              "    [theme=dark] .colab-df-convert:hover {\n",
              "      background-color: #434B5C;\n",
              "      box-shadow: 0px 1px 3px 1px rgba(0, 0, 0, 0.15);\n",
              "      filter: drop-shadow(0px 1px 2px rgba(0, 0, 0, 0.3));\n",
              "      fill: #FFFFFF;\n",
              "    }\n",
              "  </style>\n",
              "\n",
              "      <script>\n",
              "        const buttonEl =\n",
              "          document.querySelector('#df-49dec719-1162-4cf9-854d-052d5942f5d2 button.colab-df-convert');\n",
              "        buttonEl.style.display =\n",
              "          google.colab.kernel.accessAllowed ? 'block' : 'none';\n",
              "\n",
              "        async function convertToInteractive(key) {\n",
              "          const element = document.querySelector('#df-49dec719-1162-4cf9-854d-052d5942f5d2');\n",
              "          const dataTable =\n",
              "            await google.colab.kernel.invokeFunction('convertToInteractive',\n",
              "                                                     [key], {});\n",
              "          if (!dataTable) return;\n",
              "\n",
              "          const docLinkHtml = 'Like what you see? Visit the ' +\n",
              "            '<a target=\"_blank\" href=https://colab.research.google.com/notebooks/data_table.ipynb>data table notebook</a>'\n",
              "            + ' to learn more about interactive tables.';\n",
              "          element.innerHTML = '';\n",
              "          dataTable['output_type'] = 'display_data';\n",
              "          await google.colab.output.renderOutput(dataTable, element);\n",
              "          const docLink = document.createElement('div');\n",
              "          docLink.innerHTML = docLinkHtml;\n",
              "          element.appendChild(docLink);\n",
              "        }\n",
              "      </script>\n",
              "    </div>\n",
              "  </div>\n",
              "  "
            ]
          },
          "metadata": {},
          "execution_count": 3
        }
      ],
      "source": [
        "path_stations = '/content/gdrive/My Drive/Dati/DatiOriginali/Lagoon_WaterQuality/Elaborati/Dataset_hypoxia/Hourly/'\n",
        "\n",
        "features = pd.read_excel(path_stations + 'hypoxia_dataset_2008-2019_hourly.xlsx')\n",
        "features"
      ]
    },
    {
      "cell_type": "code",
      "source": [
        "# selecting rows based on condition\n",
        "#features =  features.loc[features['IDSonda'] < 2]  #only station 1"
      ],
      "metadata": {
        "id": "Wua42YVDWwK1"
      },
      "execution_count": 4,
      "outputs": []
    },
    {
      "cell_type": "code",
      "execution_count": null,
      "metadata": {
        "colab": {
          "base_uri": "https://localhost:8080/",
          "height": 1000
        },
        "id": "wk37xbUv4nrc",
        "outputId": "477dace3-8c22-493d-ba58-9628637ed689"
      },
      "outputs": [
        {
          "data": {
            "text/plain": [
              "array([[<matplotlib.axes._subplots.AxesSubplot object at 0x7f707e837310>,\n",
              "        <matplotlib.axes._subplots.AxesSubplot object at 0x7f70819d5a50>,\n",
              "        <matplotlib.axes._subplots.AxesSubplot object at 0x7f70819b0990>],\n",
              "       [<matplotlib.axes._subplots.AxesSubplot object at 0x7f707dcd1690>,\n",
              "        <matplotlib.axes._subplots.AxesSubplot object at 0x7f707e98dc90>,\n",
              "        <matplotlib.axes._subplots.AxesSubplot object at 0x7f70816cf2d0>],\n",
              "       [<matplotlib.axes._subplots.AxesSubplot object at 0x7f70816cb950>,\n",
              "        <matplotlib.axes._subplots.AxesSubplot object at 0x7f708162ae90>,\n",
              "        <matplotlib.axes._subplots.AxesSubplot object at 0x7f708162aed0>],\n",
              "       [<matplotlib.axes._subplots.AxesSubplot object at 0x7f7081450610>,\n",
              "        <matplotlib.axes._subplots.AxesSubplot object at 0x7f7080f47150>,\n",
              "        <matplotlib.axes._subplots.AxesSubplot object at 0x7f7080ee3750>]],\n",
              "      dtype=object)"
            ]
          },
          "execution_count": 5,
          "metadata": {},
          "output_type": "execute_result"
        },
        {
          "data": {
            "image/png": "[encoded data removed]",
            "text/plain": [
              "<Figure size 1080x1080 with 12 Axes>"
            ]
          },
          "metadata": {},
          "output_type": "display_data"
        }
      ],
      "source": [
        "# histogram of all the variables\n",
        "features.hist(figsize=(15, 15))"
      ]
    },
    {
      "cell_type": "code",
      "execution_count": null,
      "metadata": {
        "colab": {
          "base_uri": "https://localhost:8080/",
          "height": 300
        },
        "id": "P7tJjn-45G6P",
        "outputId": "fe346664-b513-40bd-a499-def93dd1480f"
      },
      "outputs": [
        {
          "data": {
            "text/html": [
              "\n",
              "  <div id=\"df-ba8be01b-b820-489b-866d-80117fc3915d\">\n",
              "    <div class=\"colab-df-container\">\n",
              "      <div>\n",
              "<style scoped>\n",
              "    .dataframe tbody tr th:only-of-type {\n",
              "        vertical-align: middle;\n",
              "    }\n",
              "\n",
              "    .dataframe tbody tr th {\n",
              "        vertical-align: top;\n",
              "    }\n",
              "\n",
              "    .dataframe thead th {\n",
              "        text-align: right;\n",
              "    }\n",
              "</style>\n",
              "<table border=\"1\" class=\"dataframe\">\n",
              "  <thead>\n",
              "    <tr style=\"text-align: right;\">\n",
              "      <th></th>\n",
              "      <th>Unnamed: 0</th>\n",
              "      <th>x</th>\n",
              "      <th>y</th>\n",
              "      <th>IDSonda</th>\n",
              "      <th>precipitation</th>\n",
              "      <th>humidity</th>\n",
              "      <th>radsol</th>\n",
              "      <th>wind</th>\n",
              "      <th>w_temperature</th>\n",
              "      <th>salinity</th>\n",
              "      <th>DO</th>\n",
              "      <th>chla</th>\n",
              "    </tr>\n",
              "  </thead>\n",
              "  <tbody>\n",
              "    <tr>\n",
              "      <th>count</th>\n",
              "      <td>638742.000000</td>\n",
              "      <td>638742.000000</td>\n",
              "      <td>638742.000000</td>\n",
              "      <td>638742.000000</td>\n",
              "      <td>638742.000000</td>\n",
              "      <td>638742.000000</td>\n",
              "      <td>638742.000000</td>\n",
              "      <td>638742.000000</td>\n",
              "      <td>638742.000000</td>\n",
              "      <td>638742.000000</td>\n",
              "      <td>638742.000000</td>\n",
              "      <td>638742.000000</td>\n",
              "    </tr>\n",
              "    <tr>\n",
              "      <th>mean</th>\n",
              "      <td>37494.216930</td>\n",
              "      <td>17.597623</td>\n",
              "      <td>50.338748</td>\n",
              "      <td>5.142428</td>\n",
              "      <td>0.099139</td>\n",
              "      <td>77.623325</td>\n",
              "      <td>160.110315</td>\n",
              "      <td>1.666503</td>\n",
              "      <td>16.645369</td>\n",
              "      <td>29.256460</td>\n",
              "      <td>93.043836</td>\n",
              "      <td>2.402620</td>\n",
              "    </tr>\n",
              "    <tr>\n",
              "      <th>std</th>\n",
              "      <td>23706.846901</td>\n",
              "      <td>0.060637</td>\n",
              "      <td>0.096977</td>\n",
              "      <td>2.888879</td>\n",
              "      <td>0.709700</td>\n",
              "      <td>16.588074</td>\n",
              "      <td>249.764984</td>\n",
              "      <td>1.165202</td>\n",
              "      <td>7.744990</td>\n",
              "      <td>4.383993</td>\n",
              "      <td>23.033406</td>\n",
              "      <td>3.671078</td>\n",
              "    </tr>\n",
              "    <tr>\n",
              "      <th>min</th>\n",
              "      <td>0.000000</td>\n",
              "      <td>17.500080</td>\n",
              "      <td>50.117360</td>\n",
              "      <td>1.000000</td>\n",
              "      <td>0.000000</td>\n",
              "      <td>12.262226</td>\n",
              "      <td>0.000000</td>\n",
              "      <td>0.000000</td>\n",
              "      <td>-1.997900</td>\n",
              "      <td>0.410000</td>\n",
              "      <td>0.083000</td>\n",
              "      <td>0.010000</td>\n",
              "    </tr>\n",
              "    <tr>\n",
              "      <th>25%</th>\n",
              "      <td>17299.000000</td>\n",
              "      <td>17.562050</td>\n",
              "      <td>50.243910</td>\n",
              "      <td>3.000000</td>\n",
              "      <td>0.000000</td>\n",
              "      <td>65.763998</td>\n",
              "      <td>0.000000</td>\n",
              "      <td>0.789737</td>\n",
              "      <td>9.748300</td>\n",
              "      <td>27.493800</td>\n",
              "      <td>81.039999</td>\n",
              "      <td>0.784000</td>\n",
              "    </tr>\n",
              "    <tr>\n",
              "      <th>50%</th>\n",
              "      <td>35466.000000</td>\n",
              "      <td>17.601710</td>\n",
              "      <td>50.362470</td>\n",
              "      <td>5.000000</td>\n",
              "      <td>0.000000</td>\n",
              "      <td>79.877731</td>\n",
              "      <td>0.000000</td>\n",
              "      <td>1.478159</td>\n",
              "      <td>16.572505</td>\n",
              "      <td>30.181000</td>\n",
              "      <td>91.596351</td>\n",
              "      <td>1.330000</td>\n",
              "    </tr>\n",
              "    <tr>\n",
              "      <th>75%</th>\n",
              "      <td>55140.750000</td>\n",
              "      <td>17.614530</td>\n",
              "      <td>50.406550</td>\n",
              "      <td>8.000000</td>\n",
              "      <td>0.000000</td>\n",
              "      <td>91.817623</td>\n",
              "      <td>248.604809</td>\n",
              "      <td>2.264058</td>\n",
              "      <td>23.504900</td>\n",
              "      <td>32.178200</td>\n",
              "      <td>102.440225</td>\n",
              "      <td>2.544188</td>\n",
              "    </tr>\n",
              "    <tr>\n",
              "      <th>max</th>\n",
              "      <td>93648.000000</td>\n",
              "      <td>17.724810</td>\n",
              "      <td>50.450370</td>\n",
              "      <td>10.000000</td>\n",
              "      <td>59.100270</td>\n",
              "      <td>100.000000</td>\n",
              "      <td>1093.621593</td>\n",
              "      <td>14.358378</td>\n",
              "      <td>34.123301</td>\n",
              "      <td>38.623600</td>\n",
              "      <td>482.422700</td>\n",
              "      <td>123.653999</td>\n",
              "    </tr>\n",
              "  </tbody>\n",
              "</table>\n",
              "</div>\n",
              "      <button class=\"colab-df-convert\" onclick=\"convertToInteractive('df-ba8be01b-b820-489b-866d-80117fc3915d')\"\n",
              "              title=\"Convert this dataframe to an interactive table.\"\n",
              "              style=\"display:none;\">\n",
              "        \n",
              "  <svg xmlns=\"http://www.w3.org/2000/svg\" height=\"24px\"viewBox=\"0 0 24 24\"\n",
              "       width=\"24px\">\n",
              "    <path d=\"M0 0h24v24H0V0z\" fill=\"none\"/>\n",
              "    <path d=\"M18.56 5.44l.94 2.06.94-2.06 2.06-.94-2.06-.94-.94-2.06-.94 2.06-2.06.94zm-11 1L8.5 8.5l.94-2.06 2.06-.94-2.06-.94L8.5 2.5l-.94 2.06-2.06.94zm10 10l.94 2.06.94-2.06 2.06-.94-2.06-.94-.94-2.06-.94 2.06-2.06.94z\"/><path d=\"M17.41 7.96l-1.37-1.37c-.4-.4-.92-.59-1.43-.59-.52 0-1.04.2-1.43.59L10.3 9.45l-7.72 7.72c-.78.78-.78 2.05 0 2.83L4 21.41c.39.39.9.59 1.41.59.51 0 1.02-.2 1.41-.59l7.78-7.78 2.81-2.81c.8-.78.8-2.07 0-2.86zM5.41 20L4 18.59l7.72-7.72 1.47 1.35L5.41 20z\"/>\n",
              "  </svg>\n",
              "      </button>\n",
              "      \n",
              "  <style>\n",
              "    .colab-df-container {\n",
              "      display:flex;\n",
              "      flex-wrap:wrap;\n",
              "      gap: 12px;\n",
              "    }\n",
              "\n",
              "    .colab-df-convert {\n",
              "      background-color: #E8F0FE;\n",
              "      border: none;\n",
              "      border-radius: 50%;\n",
              "      cursor: pointer;\n",
              "      display: none;\n",
              "      fill: #1967D2;\n",
              "      height: 32px;\n",
              "      padding: 0 0 0 0;\n",
              "      width: 32px;\n",
              "    }\n",
              "\n",
              "    .colab-df-convert:hover {\n",
              "      background-color: #E2EBFA;\n",
              "      box-shadow: 0px 1px 2px rgba(60, 64, 67, 0.3), 0px 1px 3px 1px rgba(60, 64, 67, 0.15);\n",
              "      fill: #174EA6;\n",
              "    }\n",
              "\n",
              "    [theme=dark] .colab-df-convert {\n",
              "      background-color: #3B4455;\n",
              "      fill: #D2E3FC;\n",
              "    }\n",
              "\n",
              "    [theme=dark] .colab-df-convert:hover {\n",
              "      background-color: #434B5C;\n",
              "      box-shadow: 0px 1px 3px 1px rgba(0, 0, 0, 0.15);\n",
              "      filter: drop-shadow(0px 1px 2px rgba(0, 0, 0, 0.3));\n",
              "      fill: #FFFFFF;\n",
              "    }\n",
              "  </style>\n",
              "\n",
              "      <script>\n",
              "        const buttonEl =\n",
              "          document.querySelector('#df-ba8be01b-b820-489b-866d-80117fc3915d button.colab-df-convert');\n",
              "        buttonEl.style.display =\n",
              "          google.colab.kernel.accessAllowed ? 'block' : 'none';\n",
              "\n",
              "        async function convertToInteractive(key) {\n",
              "          const element = document.querySelector('#df-ba8be01b-b820-489b-866d-80117fc3915d');\n",
              "          const dataTable =\n",
              "            await google.colab.kernel.invokeFunction('convertToInteractive',\n",
              "                                                     [key], {});\n",
              "          if (!dataTable) return;\n",
              "\n",
              "          const docLinkHtml = 'Like what you see? Visit the ' +\n",
              "            '<a target=\"_blank\" href=https://colab.research.google.com/notebooks/data_table.ipynb>data table notebook</a>'\n",
              "            + ' to learn more about interactive tables.';\n",
              "          element.innerHTML = '';\n",
              "          dataTable['output_type'] = 'display_data';\n",
              "          await google.colab.output.renderOutput(dataTable, element);\n",
              "          const docLink = document.createElement('div');\n",
              "          docLink.innerHTML = docLinkHtml;\n",
              "          element.appendChild(docLink);\n",
              "        }\n",
              "      </script>\n",
              "    </div>\n",
              "  </div>\n",
              "  "
            ],
            "text/plain": [
              "          Unnamed: 0              x              y        IDSonda  \\\n",
              "count  638742.000000  638742.000000  638742.000000  638742.000000   \n",
              "mean    37494.216930      17.597623      50.338748       5.142428   \n",
              "std     23706.846901       0.060637       0.096977       2.888879   \n",
              "min         0.000000      17.500080      50.117360       1.000000   \n",
              "25%     17299.000000      17.562050      50.243910       3.000000   \n",
              "50%     35466.000000      17.601710      50.362470       5.000000   \n",
              "75%     55140.750000      17.614530      50.406550       8.000000   \n",
              "max     93648.000000      17.724810      50.450370      10.000000   \n",
              "\n",
              "       precipitation       humidity         radsol           wind  \\\n",
              "count  638742.000000  638742.000000  638742.000000  638742.000000   \n",
              "mean        0.099139      77.623325     160.110315       1.666503   \n",
              "std         0.709700      16.588074     249.764984       1.165202   \n",
              "min         0.000000      12.262226       0.000000       0.000000   \n",
              "25%         0.000000      65.763998       0.000000       0.789737   \n",
              "50%         0.000000      79.877731       0.000000       1.478159   \n",
              "75%         0.000000      91.817623     248.604809       2.264058   \n",
              "max        59.100270     100.000000    1093.621593      14.358378   \n",
              "\n",
              "       w_temperature       salinity             DO           chla  \n",
              "count  638742.000000  638742.000000  638742.000000  638742.000000  \n",
              "mean       16.645369      29.256460      93.043836       2.402620  \n",
              "std         7.744990       4.383993      23.033406       3.671078  \n",
              "min        -1.997900       0.410000       0.083000       0.010000  \n",
              "25%         9.748300      27.493800      81.039999       0.784000  \n",
              "50%        16.572505      30.181000      91.596351       1.330000  \n",
              "75%        23.504900      32.178200     102.440225       2.544188  \n",
              "max        34.123301      38.623600     482.422700     123.653999  "
            ]
          },
          "execution_count": 6,
          "metadata": {},
          "output_type": "execute_result"
        }
      ],
      "source": [
        "features.describe()"
      ]
    },
    {
      "cell_type": "markdown",
      "metadata": {
        "id": "LjD8kjoWCDQ3"
      },
      "source": [
        "# ▶ Classes of DO"
      ]
    },
    {
      "cell_type": "code",
      "execution_count": 5,
      "metadata": {
        "id": "nQCBQ5MPKI4R",
        "colab": {
          "base_uri": "https://localhost:8080/",
          "height": 1000
        },
        "outputId": "4cffdde8-05e0-427a-b90b-8974d920d041"
      },
      "outputs": [
        {
          "output_type": "stream",
          "name": "stderr",
          "text": [
            "/usr/local/lib/python3.7/dist-packages/ipykernel_launcher.py:6: SettingWithCopyWarning: \n",
            "A value is trying to be set on a copy of a slice from a DataFrame.\n",
            "Try using .loc[row_indexer,col_indexer] = value instead\n",
            "\n",
            "See the caveats in the documentation: https://pandas.pydata.org/pandas-docs/stable/user_guide/indexing.html#returning-a-view-versus-a-copy\n",
            "  \n",
            "/usr/local/lib/python3.7/dist-packages/ipykernel_launcher.py:7: SettingWithCopyWarning: \n",
            "A value is trying to be set on a copy of a slice from a DataFrame.\n",
            "Try using .loc[row_indexer,col_indexer] = value instead\n",
            "\n",
            "See the caveats in the documentation: https://pandas.pydata.org/pandas-docs/stable/user_guide/indexing.html#returning-a-view-versus-a-copy\n",
            "  import sys\n"
          ]
        },
        {
          "output_type": "execute_result",
          "data": {
            "text/plain": [
              "       Unnamed: 0  Unnamed: 0.1                 date         x         y  \\\n",
              "2678         2688          2688  2008-05-03 06:00:00  17.56205  50.34165   \n",
              "2679         2689          2689  2008-05-03 07:00:00  17.56205  50.34165   \n",
              "2702         2712          2712  2008-05-04 07:00:00  17.56205  50.34165   \n",
              "2792         2802          2802  2008-05-08 07:00:00  17.56205  50.34165   \n",
              "2954         2964          2964  2008-05-15 04:00:00  17.56205  50.34165   \n",
              "...           ...           ...                  ...       ...       ...   \n",
              "85043       93644         93644  2019-12-12 12:00:00  17.56205  50.34165   \n",
              "85044       93645         93645  2019-12-12 13:00:00  17.56205  50.34165   \n",
              "85045       93646         93646  2019-12-12 14:00:00  17.56205  50.34165   \n",
              "85046       93647         93647  2019-12-12 15:00:00  17.56205  50.34165   \n",
              "85047       93648         93648  2019-12-12 16:00:00  17.56205  50.34165   \n",
              "\n",
              "       IDSonda  precipitation   humidity      radsol      wind  w_temperature  \\\n",
              "2678         1       0.000000  91.423767   96.921936  1.091830      18.936101   \n",
              "2679         1       0.000000  91.676986  237.833783  1.175490      18.959999   \n",
              "2702         1       0.000000  68.654206   79.858013  1.980554      19.298900   \n",
              "2792         1       0.000000  85.735148  125.314169  0.650979      20.829000   \n",
              "2954         1       0.000000  93.373390    0.000000  0.834639      22.987400   \n",
              "...        ...            ...        ...         ...       ...            ...   \n",
              "85043        1       1.375802  94.149193   21.922295  0.967645       8.207500   \n",
              "85044        1       1.706694  99.786218   41.228411  1.710613       8.258100   \n",
              "85045        1       0.856190  98.120992   33.729587  0.941293       8.477950   \n",
              "85046        1       0.298946  97.395269   26.230763  0.603919       8.925550   \n",
              "85047        1       0.787901  93.054051   13.153058  1.517072       9.518700   \n",
              "\n",
              "       salinity  DO    chla  \n",
              "2678   30.52850   0  1.1000  \n",
              "2679   30.57910   0  1.1300  \n",
              "2702   30.59900   0  1.1000  \n",
              "2792   29.06000   0  0.4700  \n",
              "2954   31.49560   0  0.7000  \n",
              "...         ...  ..     ...  \n",
              "85043  30.23945   1  0.9135  \n",
              "85044  30.11800   1  0.9465  \n",
              "85045  30.30360   1  0.8835  \n",
              "85046  30.61990   1  0.9225  \n",
              "85047  30.95920   1  1.1100  \n",
              "\n",
              "[85048 rows x 14 columns]"
            ],
            "text/html": [
              "\n",
              "  <div id=\"df-8a647f6b-dd6c-4be8-87b8-d2bb3de4b33e\">\n",
              "    <div class=\"colab-df-container\">\n",
              "      <div>\n",
              "<style scoped>\n",
              "    .dataframe tbody tr th:only-of-type {\n",
              "        vertical-align: middle;\n",
              "    }\n",
              "\n",
              "    .dataframe tbody tr th {\n",
              "        vertical-align: top;\n",
              "    }\n",
              "\n",
              "    .dataframe thead th {\n",
              "        text-align: right;\n",
              "    }\n",
              "</style>\n",
              "<table border=\"1\" class=\"dataframe\">\n",
              "  <thead>\n",
              "    <tr style=\"text-align: right;\">\n",
              "      <th></th>\n",
              "      <th>Unnamed: 0</th>\n",
              "      <th>Unnamed: 0.1</th>\n",
              "      <th>date</th>\n",
              "      <th>x</th>\n",
              "      <th>y</th>\n",
              "      <th>IDSonda</th>\n",
              "      <th>precipitation</th>\n",
              "      <th>humidity</th>\n",
              "      <th>radsol</th>\n",
              "      <th>wind</th>\n",
              "      <th>w_temperature</th>\n",
              "      <th>salinity</th>\n",
              "      <th>DO</th>\n",
              "      <th>chla</th>\n",
              "    </tr>\n",
              "  </thead>\n",
              "  <tbody>\n",
              "    <tr>\n",
              "      <th>2678</th>\n",
              "      <td>2688</td>\n",
              "      <td>2688</td>\n",
              "      <td>2008-05-03 06:00:00</td>\n",
              "      <td>17.56205</td>\n",
              "      <td>50.34165</td>\n",
              "      <td>1</td>\n",
              "      <td>0.000000</td>\n",
              "      <td>91.423767</td>\n",
              "      <td>96.921936</td>\n",
              "      <td>1.091830</td>\n",
              "      <td>18.936101</td>\n",
              "      <td>30.52850</td>\n",
              "      <td>0</td>\n",
              "      <td>1.1000</td>\n",
              "    </tr>\n",
              "    <tr>\n",
              "      <th>2679</th>\n",
              "      <td>2689</td>\n",
              "      <td>2689</td>\n",
              "      <td>2008-05-03 07:00:00</td>\n",
              "      <td>17.56205</td>\n",
              "      <td>50.34165</td>\n",
              "      <td>1</td>\n",
              "      <td>0.000000</td>\n",
              "      <td>91.676986</td>\n",
              "      <td>237.833783</td>\n",
              "      <td>1.175490</td>\n",
              "      <td>18.959999</td>\n",
              "      <td>30.57910</td>\n",
              "      <td>0</td>\n",
              "      <td>1.1300</td>\n",
              "    </tr>\n",
              "    <tr>\n",
              "      <th>2702</th>\n",
              "      <td>2712</td>\n",
              "      <td>2712</td>\n",
              "      <td>2008-05-04 07:00:00</td>\n",
              "      <td>17.56205</td>\n",
              "      <td>50.34165</td>\n",
              "      <td>1</td>\n",
              "      <td>0.000000</td>\n",
              "      <td>68.654206</td>\n",
              "      <td>79.858013</td>\n",
              "      <td>1.980554</td>\n",
              "      <td>19.298900</td>\n",
              "      <td>30.59900</td>\n",
              "      <td>0</td>\n",
              "      <td>1.1000</td>\n",
              "    </tr>\n",
              "    <tr>\n",
              "      <th>2792</th>\n",
              "      <td>2802</td>\n",
              "      <td>2802</td>\n",
              "      <td>2008-05-08 07:00:00</td>\n",
              "      <td>17.56205</td>\n",
              "      <td>50.34165</td>\n",
              "      <td>1</td>\n",
              "      <td>0.000000</td>\n",
              "      <td>85.735148</td>\n",
              "      <td>125.314169</td>\n",
              "      <td>0.650979</td>\n",
              "      <td>20.829000</td>\n",
              "      <td>29.06000</td>\n",
              "      <td>0</td>\n",
              "      <td>0.4700</td>\n",
              "    </tr>\n",
              "    <tr>\n",
              "      <th>2954</th>\n",
              "      <td>2964</td>\n",
              "      <td>2964</td>\n",
              "      <td>2008-05-15 04:00:00</td>\n",
              "      <td>17.56205</td>\n",
              "      <td>50.34165</td>\n",
              "      <td>1</td>\n",
              "      <td>0.000000</td>\n",
              "      <td>93.373390</td>\n",
              "      <td>0.000000</td>\n",
              "      <td>0.834639</td>\n",
              "      <td>22.987400</td>\n",
              "      <td>31.49560</td>\n",
              "      <td>0</td>\n",
              "      <td>0.7000</td>\n",
              "    </tr>\n",
              "    <tr>\n",
              "      <th>...</th>\n",
              "      <td>...</td>\n",
              "      <td>...</td>\n",
              "      <td>...</td>\n",
              "      <td>...</td>\n",
              "      <td>...</td>\n",
              "      <td>...</td>\n",
              "      <td>...</td>\n",
              "      <td>...</td>\n",
              "      <td>...</td>\n",
              "      <td>...</td>\n",
              "      <td>...</td>\n",
              "      <td>...</td>\n",
              "      <td>...</td>\n",
              "      <td>...</td>\n",
              "    </tr>\n",
              "    <tr>\n",
              "      <th>85043</th>\n",
              "      <td>93644</td>\n",
              "      <td>93644</td>\n",
              "      <td>2019-12-12 12:00:00</td>\n",
              "      <td>17.56205</td>\n",
              "      <td>50.34165</td>\n",
              "      <td>1</td>\n",
              "      <td>1.375802</td>\n",
              "      <td>94.149193</td>\n",
              "      <td>21.922295</td>\n",
              "      <td>0.967645</td>\n",
              "      <td>8.207500</td>\n",
              "      <td>30.23945</td>\n",
              "      <td>1</td>\n",
              "      <td>0.9135</td>\n",
              "    </tr>\n",
              "    <tr>\n",
              "      <th>85044</th>\n",
              "      <td>93645</td>\n",
              "      <td>93645</td>\n",
              "      <td>2019-12-12 13:00:00</td>\n",
              "      <td>17.56205</td>\n",
              "      <td>50.34165</td>\n",
              "      <td>1</td>\n",
              "      <td>1.706694</td>\n",
              "      <td>99.786218</td>\n",
              "      <td>41.228411</td>\n",
              "      <td>1.710613</td>\n",
              "      <td>8.258100</td>\n",
              "      <td>30.11800</td>\n",
              "      <td>1</td>\n",
              "      <td>0.9465</td>\n",
              "    </tr>\n",
              "    <tr>\n",
              "      <th>85045</th>\n",
              "      <td>93646</td>\n",
              "      <td>93646</td>\n",
              "      <td>2019-12-12 14:00:00</td>\n",
              "      <td>17.56205</td>\n",
              "      <td>50.34165</td>\n",
              "      <td>1</td>\n",
              "      <td>0.856190</td>\n",
              "      <td>98.120992</td>\n",
              "      <td>33.729587</td>\n",
              "      <td>0.941293</td>\n",
              "      <td>8.477950</td>\n",
              "      <td>30.30360</td>\n",
              "      <td>1</td>\n",
              "      <td>0.8835</td>\n",
              "    </tr>\n",
              "    <tr>\n",
              "      <th>85046</th>\n",
              "      <td>93647</td>\n",
              "      <td>93647</td>\n",
              "      <td>2019-12-12 15:00:00</td>\n",
              "      <td>17.56205</td>\n",
              "      <td>50.34165</td>\n",
              "      <td>1</td>\n",
              "      <td>0.298946</td>\n",
              "      <td>97.395269</td>\n",
              "      <td>26.230763</td>\n",
              "      <td>0.603919</td>\n",
              "      <td>8.925550</td>\n",
              "      <td>30.61990</td>\n",
              "      <td>1</td>\n",
              "      <td>0.9225</td>\n",
              "    </tr>\n",
              "    <tr>\n",
              "      <th>85047</th>\n",
              "      <td>93648</td>\n",
              "      <td>93648</td>\n",
              "      <td>2019-12-12 16:00:00</td>\n",
              "      <td>17.56205</td>\n",
              "      <td>50.34165</td>\n",
              "      <td>1</td>\n",
              "      <td>0.787901</td>\n",
              "      <td>93.054051</td>\n",
              "      <td>13.153058</td>\n",
              "      <td>1.517072</td>\n",
              "      <td>9.518700</td>\n",
              "      <td>30.95920</td>\n",
              "      <td>1</td>\n",
              "      <td>1.1100</td>\n",
              "    </tr>\n",
              "  </tbody>\n",
              "</table>\n",
              "<p>85048 rows × 14 columns</p>\n",
              "</div>\n",
              "      <button class=\"colab-df-convert\" onclick=\"convertToInteractive('df-8a647f6b-dd6c-4be8-87b8-d2bb3de4b33e')\"\n",
              "              title=\"Convert this dataframe to an interactive table.\"\n",
              "              style=\"display:none;\">\n",
              "        \n",
              "  <svg xmlns=\"http://www.w3.org/2000/svg\" height=\"24px\"viewBox=\"0 0 24 24\"\n",
              "       width=\"24px\">\n",
              "    <path d=\"M0 0h24v24H0V0z\" fill=\"none\"/>\n",
              "    <path d=\"M18.56 5.44l.94 2.06.94-2.06 2.06-.94-2.06-.94-.94-2.06-.94 2.06-2.06.94zm-11 1L8.5 8.5l.94-2.06 2.06-.94-2.06-.94L8.5 2.5l-.94 2.06-2.06.94zm10 10l.94 2.06.94-2.06 2.06-.94-2.06-.94-.94-2.06-.94 2.06-2.06.94z\"/><path d=\"M17.41 7.96l-1.37-1.37c-.4-.4-.92-.59-1.43-.59-.52 0-1.04.2-1.43.59L10.3 9.45l-7.72 7.72c-.78.78-.78 2.05 0 2.83L4 21.41c.39.39.9.59 1.41.59.51 0 1.02-.2 1.41-.59l7.78-7.78 2.81-2.81c.8-.78.8-2.07 0-2.86zM5.41 20L4 18.59l7.72-7.72 1.47 1.35L5.41 20z\"/>\n",
              "  </svg>\n",
              "      </button>\n",
              "      \n",
              "  <style>\n",
              "    .colab-df-container {\n",
              "      display:flex;\n",
              "      flex-wrap:wrap;\n",
              "      gap: 12px;\n",
              "    }\n",
              "\n",
              "    .colab-df-convert {\n",
              "      background-color: #E8F0FE;\n",
              "      border: none;\n",
              "      border-radius: 50%;\n",
              "      cursor: pointer;\n",
              "      display: none;\n",
              "      fill: #1967D2;\n",
              "      height: 32px;\n",
              "      padding: 0 0 0 0;\n",
              "      width: 32px;\n",
              "    }\n",
              "\n",
              "    .colab-df-convert:hover {\n",
              "      background-color: #E2EBFA;\n",
              "      box-shadow: 0px 1px 2px rgba(60, 64, 67, 0.3), 0px 1px 3px 1px rgba(60, 64, 67, 0.15);\n",
              "      fill: #174EA6;\n",
              "    }\n",
              "\n",
              "    [theme=dark] .colab-df-convert {\n",
              "      background-color: #3B4455;\n",
              "      fill: #D2E3FC;\n",
              "    }\n",
              "\n",
              "    [theme=dark] .colab-df-convert:hover {\n",
              "      background-color: #434B5C;\n",
              "      box-shadow: 0px 1px 3px 1px rgba(0, 0, 0, 0.15);\n",
              "      filter: drop-shadow(0px 1px 2px rgba(0, 0, 0, 0.3));\n",
              "      fill: #FFFFFF;\n",
              "    }\n",
              "  </style>\n",
              "\n",
              "      <script>\n",
              "        const buttonEl =\n",
              "          document.querySelector('#df-8a647f6b-dd6c-4be8-87b8-d2bb3de4b33e button.colab-df-convert');\n",
              "        buttonEl.style.display =\n",
              "          google.colab.kernel.accessAllowed ? 'block' : 'none';\n",
              "\n",
              "        async function convertToInteractive(key) {\n",
              "          const element = document.querySelector('#df-8a647f6b-dd6c-4be8-87b8-d2bb3de4b33e');\n",
              "          const dataTable =\n",
              "            await google.colab.kernel.invokeFunction('convertToInteractive',\n",
              "                                                     [key], {});\n",
              "          if (!dataTable) return;\n",
              "\n",
              "          const docLinkHtml = 'Like what you see? Visit the ' +\n",
              "            '<a target=\"_blank\" href=https://colab.research.google.com/notebooks/data_table.ipynb>data table notebook</a>'\n",
              "            + ' to learn more about interactive tables.';\n",
              "          element.innerHTML = '';\n",
              "          dataTable['output_type'] = 'display_data';\n",
              "          await google.colab.output.renderOutput(dataTable, element);\n",
              "          const docLink = document.createElement('div');\n",
              "          docLink.innerHTML = docLinkHtml;\n",
              "          element.appendChild(docLink);\n",
              "        }\n",
              "      </script>\n",
              "    </div>\n",
              "  </div>\n",
              "  "
            ]
          },
          "metadata": {},
          "execution_count": 5
        }
      ],
      "source": [
        "#HYPOXIA < 60 % SAT     #https://www.sincem.unibo.it/images/tesi/Tesi_bianchi.pdf   https://nmsfarallones.blob.core.windows.net/farallones-prod/media/archive/manage/pdf/sac/16_08/SAC_HypoxiaInSanctuaries_JLargier2.pdf\n",
        "low = features[features.DO <= 60]\n",
        "high = features[features.DO > 60]\n",
        "\n",
        "#assigns label to the classes\n",
        "low[\"DO\"] = 0 \n",
        "high[\"DO\"] = 1\n",
        "\n",
        "#feature_class = pd.concat([primo, secondo, terzo, quarto])\n",
        "feature_class = pd.concat([low, high])\n",
        "feature_class"
      ]
    },
    {
      "cell_type": "markdown",
      "metadata": {
        "id": "jJDzVT2OX9IK"
      },
      "source": [
        "# ▶ Data preparation\n"
      ]
    },
    {
      "cell_type": "code",
      "execution_count": null,
      "metadata": {
        "id": "NZz8YC9jPd8x",
        "colab": {
          "base_uri": "https://localhost:8080/"
        },
        "outputId": "f678681a-7d3c-45b7-9988-de1ebaa7d084"
      },
      "outputs": [
        {
          "output_type": "execute_result",
          "data": {
            "text/plain": [
              "Index(['Unnamed: 0', 'Unnamed: 0.1', 'date', 'x', 'y', 'IDSonda',\n",
              "       'precipitation', 'humidity', 'radsol', 'wind', 'w_temperature',\n",
              "       'salinity', 'DO', 'chla'],\n",
              "      dtype='object')"
            ]
          },
          "metadata": {},
          "execution_count": 8
        }
      ],
      "source": [
        "features.columns"
      ]
    },
    {
      "cell_type": "code",
      "execution_count": 6,
      "metadata": {
        "id": "TKmSuaSDN3v4",
        "colab": {
          "base_uri": "https://localhost:8080/"
        },
        "outputId": "2340f037-5c0a-4560-f3e5-bf9108528c39"
      },
      "outputs": [
        {
          "output_type": "stream",
          "name": "stdout",
          "text": [
            "Dataset shape (85048, 14)\n",
            "X_t shape (85048, 10)\n",
            "y shape (85048,)\n",
            "Etichette:  2678     0\n",
            "2679     0\n",
            "2702     0\n",
            "2792     0\n",
            "2954     0\n",
            "        ..\n",
            "85043    1\n",
            "85044    1\n",
            "85045    1\n",
            "85046    1\n",
            "85047    1\n",
            "Name: DO, Length: 85048, dtype: int64\n"
          ]
        }
      ],
      "source": [
        "# data preparation\n",
        "\n",
        "dataset = feature_class  #feature_class\n",
        "print(\"Dataset shape\", dataset.shape)\n",
        "\n",
        "# predictors\n",
        "X_t = dataset.drop(labels=['DO', 'date', 'Unnamed: 0', 'Unnamed: 0.1'], axis=1) #'STATION' 'ODmol', ,'Data'\n",
        "print(\"X_t shape\", X_t.shape)\n",
        "\n",
        "# target variable\n",
        "y = dataset['DO']  #ODmol\n",
        "\n",
        "print(\"y shape\", y.shape)\n",
        "print(\"Etichette: \", y)"
      ]
    },
    {
      "cell_type": "code",
      "execution_count": 7,
      "metadata": {
        "colab": {
          "base_uri": "https://localhost:8080/"
        },
        "id": "MRDdE9ZrQnvV",
        "outputId": "52527b07-2941-40d1-bc23-ae355098d650"
      },
      "outputs": [
        {
          "output_type": "execute_result",
          "data": {
            "text/plain": [
              "1    77466\n",
              "0     7582\n",
              "Name: DO, dtype: int64"
            ]
          },
          "metadata": {},
          "execution_count": 7
        }
      ],
      "source": [
        "y.value_counts()"
      ]
    },
    {
      "cell_type": "code",
      "execution_count": 8,
      "metadata": {
        "colab": {
          "base_uri": "https://localhost:8080/",
          "height": 265
        },
        "id": "p1sH70wsQxeG",
        "outputId": "61061acc-1f8c-4564-f052-c04c7ea8ece0"
      },
      "outputs": [
        {
          "output_type": "execute_result",
          "data": {
            "text/plain": [
              "<matplotlib.axes._subplots.AxesSubplot at 0x7f9c8a4cb490>"
            ]
          },
          "metadata": {},
          "execution_count": 8
        },
        {
          "output_type": "display_data",
          "data": {
            "text/plain": [
              "<Figure size 432x288 with 1 Axes>"
            ],
            "image/png": "[encoded data removed]"
          },
          "metadata": {}
        }
      ],
      "source": [
        "y.value_counts().plot.pie(autopct='%.2f', colors = ['lightblue', 'orange'] )"
      ]
    },
    {
      "cell_type": "markdown",
      "metadata": {
        "id": "5Cen-kKwm5ci"
      },
      "source": [
        "# ▶ Divide training and testing\n",
        "*   Keep the test set separated!\n",
        "\n",
        "\n"
      ]
    },
    {
      "cell_type": "code",
      "execution_count": 9,
      "metadata": {
        "id": "mQ6jXeqeYEna"
      },
      "outputs": [],
      "source": [
        "# Split dataset into training set and test set\n",
        "X_train, X_test, y_train, y_test = train_test_split(X_t, y, test_size=0.3, stratify=y) # 70% training and 30% test"
      ]
    },
    {
      "cell_type": "markdown",
      "metadata": {
        "id": "GfD5PH0aYTke"
      },
      "source": [
        "# UNDERSAMPLING TRIALS"
      ]
    },
    {
      "cell_type": "markdown",
      "source": [
        "### *Random Undersampling*"
      ],
      "metadata": {
        "id": "Bch1N3uf-Rdc"
      }
    },
    {
      "cell_type": "code",
      "execution_count": null,
      "metadata": {
        "id": "7XW_ydpSYaZn"
      },
      "outputs": [],
      "source": [
        "'''\n",
        "from imblearn.under_sampling import RandomUnderSampler\n",
        "\n",
        "rus = RandomUnderSampler(sampling_strategy=1)\n",
        "X_train_res, y_train_res = rus.fit_resample(X_train, y_train)\n",
        "\n",
        "ax = y_train_res.value_counts().plot.pie(autopct='%.2f')\n",
        "_ = ax.set_title(\"Under-sampling\")"
      ]
    },
    {
      "cell_type": "code",
      "execution_count": null,
      "metadata": {
        "id": "hjhW4cvxZvOM"
      },
      "outputs": [],
      "source": [
        "#y_train_res.value_counts()"
      ]
    },
    {
      "cell_type": "markdown",
      "source": [
        "### *Tomek Links Undersampling*"
      ],
      "metadata": {
        "id": "lym_MuxDXqyn"
      }
    },
    {
      "cell_type": "code",
      "source": [
        "'''\n",
        "from imblearn.under_sampling import TomekLinks\n",
        "\n",
        "tl = TomekLinks(sampling_strategy=0)\n",
        "X_train_tl, y_train_tl, id_tl = tl.fit_sample(X_train, y_train)\n",
        "\n",
        "print('Removed indexes:', id_tl)\n",
        "\n",
        "plot_2d_space(X_train_tl, y_train_tl, 'Tomek links under-sampling')"
      ],
      "metadata": {
        "id": "z_HxSdvtXt47"
      },
      "execution_count": null,
      "outputs": []
    },
    {
      "cell_type": "markdown",
      "metadata": {
        "id": "aaXgrFV-O4Ay"
      },
      "source": [
        "# OVERSALMPLING TRIALS\n",
        "\n",
        "https://www.kaggle.com/code/rafjaa/resampling-strategies-for-imbalanced-datasets/notebook\n"
      ]
    },
    {
      "cell_type": "markdown",
      "source": [
        "### *Random Oversampling*"
      ],
      "metadata": {
        "id": "DQSD0J4k-g8F"
      }
    },
    {
      "cell_type": "code",
      "execution_count": null,
      "metadata": {
        "colab": {
          "base_uri": "https://localhost:8080/",
          "height": 264
        },
        "id": "42B89_pmdtQu",
        "outputId": "cbe917f7-c71e-4616-b4d4-4bd0218e0594"
      },
      "outputs": [
        {
          "output_type": "display_data",
          "data": {
            "text/plain": [
              "<Figure size 432x288 with 1 Axes>"
            ],
            "image/png": "[encoded data removed]"
          },
          "metadata": {}
        }
      ],
      "source": [
        "from imblearn.over_sampling import RandomOverSampler\n",
        "\n",
        "ros = RandomOverSampler(sampling_strategy=\"not majority\")\n",
        "X_train_res, y_train_res = ros.fit_resample(X_train, y_train)\n",
        "\n",
        "ax = y_train_res.value_counts().plot.pie(autopct='%.2f')\n",
        "_ = ax.set_title(\"Over-sampling\")"
      ]
    },
    {
      "cell_type": "code",
      "execution_count": 10,
      "metadata": {
        "id": "Rm58ty9MMmyL"
      },
      "outputs": [],
      "source": [
        "'''\n",
        "from collections import Counter\n",
        "from sklearn.datasets import make_classification\n",
        "from imblearn.over_sampling import SMOTE \n",
        "from matplotlib import pyplot\n",
        "from numpy import where"
      ]
    },
    {
      "cell_type": "code",
      "execution_count": 11,
      "metadata": {
        "id": "W7dNW2stcPKk"
      },
      "outputs": [],
      "source": [
        "'''\n",
        "oversample = SMOTE()\n",
        "X_train_res, y_train_res = oversample.fit_resample(X_train, y_train)"
      ]
    },
    {
      "cell_type": "code",
      "source": [
        "'''\n",
        "ax = y_train_res.value_counts().plot.pie(autopct='%.2f')\n",
        "_ = ax.set_title(\"Over-sampling_SMOTE\")"
      ],
      "metadata": {
        "colab": {
          "base_uri": "https://localhost:8080/",
          "height": 264
        },
        "id": "lWtoLvy2GKOn",
        "outputId": "f3464c5f-5c1b-4146-bb64-4d3cbe71600d"
      },
      "execution_count": 12,
      "outputs": [
        {
          "output_type": "display_data",
          "data": {
            "text/plain": [
              "<Figure size 432x288 with 1 Axes>"
            ],
            "image/png": "[encoded data removed]"
          },
          "metadata": {}
        }
      ]
    },
    {
      "cell_type": "markdown",
      "source": [
        "# OVER & UNDER SAMPLING with SMOTETomek\n"
      ],
      "metadata": {
        "id": "JkQgzcGdWjEE"
      }
    },
    {
      "cell_type": "code",
      "source": [
        "'''\n",
        "from imblearn.combine import SMOTETomek\n",
        "\n",
        "smt = SMOTETomek(sampling_strategy='auto')\n",
        "X_train_smt, y_train_smt = smt.fit_resample(X_train, y_train)\n",
        "\n"
      ],
      "metadata": {
        "id": "YS7vzV_fWsHC"
      },
      "execution_count": null,
      "outputs": []
    },
    {
      "cell_type": "code",
      "source": [
        "'''\n",
        "def plot_2d_space(x_train, y_train, label='Classes'):   \n",
        "    colors = ['#1F77B4', '#FF7F0E']\n",
        "    markers = ['o', 's']\n",
        "    for l, c, m in zip(np.unique(y), colors, markers):\n",
        "        plt.scatter(\n",
        "            X_train[y_train==l, 0],\n",
        "            X_train[y_train==l, 1],\n",
        "            c=c, label=l, marker=m\n",
        "        )\n",
        "    plt.title(label)\n",
        "    plt.legend(loc='upper right')\n",
        "    plt.show()"
      ],
      "metadata": {
        "id": "TvdeIQLkXHhZ"
      },
      "execution_count": null,
      "outputs": []
    },
    {
      "cell_type": "code",
      "source": [
        "#plot_2d_space(X_train_smt, y_train_smt, 'SMOTE + Tomek links')"
      ],
      "metadata": {
        "id": "fPZIhl38XJMD"
      },
      "execution_count": null,
      "outputs": []
    },
    {
      "cell_type": "markdown",
      "source": [
        "# ▶ *train resampled and test to numpy*"
      ],
      "metadata": {
        "id": "JQTFecAA-dr1"
      }
    },
    {
      "cell_type": "code",
      "source": [
        "X_train = X_train_res.to_numpy()\n",
        "y_train = y_train_res.to_numpy()\n",
        "#X_train = X_train_smt.to_numpy()\n",
        "#y_train =y_train_smt.to_numpy()"
      ],
      "metadata": {
        "id": "IxQh6UiCsz3j"
      },
      "execution_count": 13,
      "outputs": []
    },
    {
      "cell_type": "code",
      "execution_count": 14,
      "metadata": {
        "id": "ZWPtc1dYgHXb"
      },
      "outputs": [],
      "source": [
        "X_test = X_test.to_numpy()\n",
        "y_test = y_test.to_numpy()"
      ]
    },
    {
      "cell_type": "markdown",
      "metadata": {
        "id": "TtVyyhNgN5A5"
      },
      "source": [
        "#**RANDOM** **FOREST**"
      ]
    },
    {
      "cell_type": "markdown",
      "metadata": {
        "id": "KyMPnyV5OqVA"
      },
      "source": [
        "## RF traditional method - **Train** **Model**  "
      ]
    },
    {
      "cell_type": "code",
      "execution_count": 16,
      "metadata": {
        "colab": {
          "base_uri": "https://localhost:8080/"
        },
        "id": "57aCQvMtepJt",
        "outputId": "c5bc1568-4dae-4d93-f3f5-a61e51e5e3d1"
      },
      "outputs": [
        {
          "output_type": "stream",
          "name": "stdout",
          "text": [
            "Fitting 10 folds for each of 10 candidates, totalling 100 fits\n"
          ]
        },
        {
          "output_type": "execute_result",
          "data": {
            "text/plain": [
              "RandomizedSearchCV(cv=10, estimator=RandomForestClassifier(), n_jobs=-1,\n",
              "                   param_distributions={'max_depth': [3, 6, 10, None],\n",
              "                                        'min_samples_split': [3, 5, 7],\n",
              "                                        'n_estimators': [10, 50, 100, 500,\n",
              "                                                         700]},\n",
              "                   verbose=4)"
            ]
          },
          "metadata": {},
          "execution_count": 16
        }
      ],
      "source": [
        "#SETTING THE SEARCH SPACE\n",
        "\n",
        "# Number of trees in random forest\n",
        "n_estimators = [10, 50, 100, 500, 700]\n",
        "\n",
        "# Maximum number of levels in tree\n",
        "max_depth = [3, 6, 10, None]\n",
        "\n",
        "# Minimum number of samples required to split a node\n",
        "min_samples_split = [3, 5, 7]\n",
        "\n",
        "# Create the random grid\n",
        "random_grid = {'n_estimators': n_estimators,\n",
        "               'max_depth': max_depth,\n",
        "               'min_samples_split': min_samples_split}   #learning rate\n",
        "\n",
        "# Use the random grid to search for best hyperparameters\n",
        "rf = RandomForestClassifier()\n",
        "rf_random = RandomizedSearchCV(rf, random_grid, n_iter=10, cv = 10, verbose = 4, n_jobs = -1)\n",
        "# Fit the random search model\n",
        "rf_random.fit(X_train, y_train)"
      ]
    },
    {
      "cell_type": "markdown",
      "metadata": {
        "id": "Kqe4VC03HnrK"
      },
      "source": [
        "## Performances"
      ]
    },
    {
      "cell_type": "code",
      "execution_count": 17,
      "metadata": {
        "colab": {
          "base_uri": "https://localhost:8080/"
        },
        "id": "2yrE0hIjfJXW",
        "outputId": "44f29edb-efe2-47bd-fe97-2f7322d7767f"
      },
      "outputs": [
        {
          "output_type": "stream",
          "name": "stdout",
          "text": [
            "{'n_estimators': 50, 'min_samples_split': 5, 'max_depth': None}\n"
          ]
        }
      ],
      "source": [
        "#best hyperparameters\n",
        "print(rf_random.best_params_)"
      ]
    },
    {
      "cell_type": "code",
      "execution_count": 18,
      "metadata": {
        "colab": {
          "base_uri": "https://localhost:8080/"
        },
        "id": "JgN1chD4fR5u",
        "outputId": "6a95d512-79e2-4539-b321-cfa76a00cb57"
      },
      "outputs": [
        {
          "output_type": "execute_result",
          "data": {
            "text/plain": [
              "RandomForestClassifier(max_depth=10, min_samples_split=5, n_estimators=50)"
            ]
          },
          "metadata": {},
          "execution_count": 18
        }
      ],
      "source": [
        "best_rf = RandomForestClassifier(n_estimators=50, max_depth=10 , min_samples_split=5, min_samples_leaf=1)   # class_weight='balanced_subsample\n",
        "best_rf.fit(X_train, y_train)"
      ]
    },
    {
      "cell_type": "code",
      "source": [
        "#create prediction basing on the test set\n",
        "y_pred = best_rf.predict(X_test)\n",
        "ytrain_pred = best_rf.predict(X_train)"
      ],
      "metadata": {
        "id": "tVyZR8v80epb"
      },
      "execution_count": 23,
      "outputs": []
    },
    {
      "cell_type": "code",
      "execution_count": 20,
      "metadata": {
        "id": "_uGtu2Z1dN7D"
      },
      "outputs": [],
      "source": [
        "#create prediction OF THE PROBABILITIES basing on the test set\n",
        "#y_pred = best_rf.predict_proba(X_test)\n",
        "#ytrain_pred = best_rf.predict_proba(X_train)"
      ]
    },
    {
      "cell_type": "code",
      "source": [
        "#ytrain_pred"
      ],
      "metadata": {
        "colab": {
          "base_uri": "https://localhost:8080/"
        },
        "id": "FCwES15XyFsw",
        "outputId": "30ccef11-0614-42e3-d52a-a1f3043c5bfe"
      },
      "execution_count": 21,
      "outputs": [
        {
          "output_type": "execute_result",
          "data": {
            "text/plain": [
              "array([[0.02311613, 0.97688387],\n",
              "       [0.02913773, 0.97086227],\n",
              "       [0.44361804, 0.55638196],\n",
              "       ...,\n",
              "       [0.91775633, 0.08224367],\n",
              "       [0.89197839, 0.10802161],\n",
              "       [0.3716207 , 0.6283793 ]])"
            ]
          },
          "metadata": {},
          "execution_count": 21
        }
      ]
    },
    {
      "cell_type": "code",
      "execution_count": 24,
      "metadata": {
        "colab": {
          "base_uri": "https://localhost:8080/"
        },
        "id": "KpTgk_axsmM1",
        "outputId": "63a05748-a36b-4faa-d2c0-eff5627ce9b9"
      },
      "outputs": [
        {
          "output_type": "stream",
          "name": "stdout",
          "text": [
            "Accuracy test:  0.7829120125416422\n"
          ]
        }
      ],
      "source": [
        "#print(\"Accuracy train: \", accuracy_score(y_train, ytrain_pred))\n",
        "print(\"Accuracy test: \", accuracy_score(y_test, y_pred))\n",
        "#print('F1_score train: ',f1_score(y_train, ytrain_pred))\n",
        "#print('Roc auc train: ',roc_auc_score(y_train, ytrain_pred))"
      ]
    },
    {
      "cell_type": "code",
      "execution_count": 25,
      "metadata": {
        "colab": {
          "base_uri": "https://localhost:8080/",
          "height": 621
        },
        "id": "whLITJGnlhYG",
        "outputId": "70f9eabb-7c5c-43ba-cd64-ba6a6fcfc56c"
      },
      "outputs": [
        {
          "output_type": "display_data",
          "data": {
            "text/plain": [
              "<Figure size 720x720 with 1 Axes>"
            ],
            "image/png": "[encoded data removed]"
          },
          "metadata": {
            "needs_background": "light"
          }
        }
      ],
      "source": [
        "features = X_t.columns\n",
        "importances = best_rf.feature_importances_\n",
        "indices = np.argsort(importances)\n",
        "plt.figure(figsize=(10,10))\n",
        "plt.title('Feature Importances')\n",
        "plt.barh(range(len(indices)), importances[indices], color='b', align='center')\n",
        "plt.yticks(range(len(indices)), [features[i] for i in indices])\n",
        "plt.xlabel('Relative Importance')\n",
        "plt.show()\n",
        "#plt.savefig(output_path+'features_importance.png')"
      ]
    },
    {
      "cell_type": "code",
      "source": [
        "# get the probability distribution  #probas = rf_clf.predict_proba(X_test)\n",
        "# plot\n",
        "plt.figure(dpi=150)\n",
        "plt.hist(y_pred, bins=20)\n",
        "plt.title('Classification Probabilities')\n",
        "plt.xlabel('Probability')\n",
        "plt.ylabel('# of Instances')\n",
        "plt.xlim([0.5, 1.0])\n",
        "plt.legend()\n",
        "plt.show()"
      ],
      "metadata": {
        "colab": {
          "base_uri": "https://localhost:8080/",
          "height": 611
        },
        "id": "4OKlrxQSAieT",
        "outputId": "8ff940d3-2885-43c8-dfb6-ea5e0622008f"
      },
      "execution_count": null,
      "outputs": [
        {
          "output_type": "stream",
          "name": "stderr",
          "text": [
            "WARNING:matplotlib.legend:No handles with labels found to put in legend.\n"
          ]
        },
        {
          "output_type": "display_data",
          "data": {
            "text/plain": [
              "<Figure size 900x600 with 1 Axes>"
            ],
            "image/png": "[encoded data removed]"
          },
          "metadata": {
            "needs_background": "light"
          }
        }
      ]
    },
    {
      "cell_type": "markdown",
      "source": [
        "## ROC AUC"
      ],
      "metadata": {
        "id": "3RnkR3UpP0dN"
      }
    },
    {
      "cell_type": "code",
      "source": [
        "#ROC CURVE\n",
        "from sklearn.metrics import RocCurveDisplay\n",
        "best_rf_disp = RocCurveDisplay.from_estimator(best_rf, X_test, y_test)\n",
        "plt.show()"
      ],
      "metadata": {
        "colab": {
          "base_uri": "https://localhost:8080/",
          "height": 279
        },
        "id": "z8CjQ1Hx02u1",
        "outputId": "0c00e155-94f4-423a-80a5-06acb556322f"
      },
      "execution_count": 26,
      "outputs": [
        {
          "output_type": "display_data",
          "data": {
            "text/plain": [
              "<Figure size 432x288 with 1 Axes>"
            ],
            "image/png": "[encoded data removed]"
          },
          "metadata": {
            "needs_background": "light"
          }
        }
      ]
    },
    {
      "cell_type": "code",
      "source": [
        "'''\n",
        "#PRECISION AND RECALL CURVE\n",
        "from sklearn.metrics import precision_recall_curve, average_precision_score, auc\n",
        "# get precision and recall values\n",
        "precision, recall, thresholds = precision_recall_curve(y_test, probas[:,0], pos_label=0)\n",
        "# average precision score\n",
        "avg_precision = average_precision_score(y_test, probas[:,1])\n",
        "# precision auc\n",
        "pr_auc = auc(recall, precision)\n",
        "# plot\n",
        "plt.figure(dpi=150)\n",
        "plt.plot(recall, precision, lw=1, color='blue', label=f'AP={avg_precision:.3f}; AUC={pr_auc:.3f}')\n",
        "plt.fill_between(recall, precision, -1, facecolor='lightblue', alpha=0.5)\n",
        "plt.title('PR Curve for RF classifier')\n",
        "plt.xlabel('Recall (TPR)')\n",
        "plt.ylabel('Precision')\n",
        "plt.xlim([-0.05, 1.05])\n",
        "plt.ylim([-0.05, 1.05])\n",
        "plt.legend()\n",
        "plt.show()"
      ],
      "metadata": {
        "colab": {
          "base_uri": "https://localhost:8080/",
          "height": 235
        },
        "id": "N2Ku2DQNlL0o",
        "outputId": "1baf8080-01fd-4b76-9589-cc524420406d"
      },
      "execution_count": 27,
      "outputs": [
        {
          "output_type": "error",
          "ename": "NameError",
          "evalue": "ignored",
          "traceback": [
            "\u001b[0;31m---------------------------------------------------------------------------\u001b[0m",
            "\u001b[0;31mNameError\u001b[0m                                 Traceback (most recent call last)",
            "\u001b[0;32m<ipython-input-27-694d8410a552>\u001b[0m in \u001b[0;36m<module>\u001b[0;34m\u001b[0m\n\u001b[1;32m      2\u001b[0m \u001b[0;32mfrom\u001b[0m \u001b[0msklearn\u001b[0m\u001b[0;34m.\u001b[0m\u001b[0mmetrics\u001b[0m \u001b[0;32mimport\u001b[0m \u001b[0mprecision_recall_curve\u001b[0m\u001b[0;34m,\u001b[0m \u001b[0maverage_precision_score\u001b[0m\u001b[0;34m,\u001b[0m \u001b[0mauc\u001b[0m\u001b[0;34m\u001b[0m\u001b[0;34m\u001b[0m\u001b[0m\n\u001b[1;32m      3\u001b[0m \u001b[0;31m# get precision and recall values\u001b[0m\u001b[0;34m\u001b[0m\u001b[0;34m\u001b[0m\u001b[0;34m\u001b[0m\u001b[0m\n\u001b[0;32m----> 4\u001b[0;31m \u001b[0mprecision\u001b[0m\u001b[0;34m,\u001b[0m \u001b[0mrecall\u001b[0m\u001b[0;34m,\u001b[0m \u001b[0mthresholds\u001b[0m \u001b[0;34m=\u001b[0m \u001b[0mprecision_recall_curve\u001b[0m\u001b[0;34m(\u001b[0m\u001b[0my_test\u001b[0m\u001b[0;34m,\u001b[0m \u001b[0mprobas\u001b[0m\u001b[0;34m[\u001b[0m\u001b[0;34m:\u001b[0m\u001b[0;34m,\u001b[0m\u001b[0;36m0\u001b[0m\u001b[0;34m]\u001b[0m\u001b[0;34m,\u001b[0m \u001b[0mpos_label\u001b[0m\u001b[0;34m=\u001b[0m\u001b[0;36m0\u001b[0m\u001b[0;34m)\u001b[0m\u001b[0;34m\u001b[0m\u001b[0;34m\u001b[0m\u001b[0m\n\u001b[0m\u001b[1;32m      5\u001b[0m \u001b[0;31m# average precision score\u001b[0m\u001b[0;34m\u001b[0m\u001b[0;34m\u001b[0m\u001b[0;34m\u001b[0m\u001b[0m\n\u001b[1;32m      6\u001b[0m \u001b[0mavg_precision\u001b[0m \u001b[0;34m=\u001b[0m \u001b[0maverage_precision_score\u001b[0m\u001b[0;34m(\u001b[0m\u001b[0my_test\u001b[0m\u001b[0;34m,\u001b[0m \u001b[0mprobas\u001b[0m\u001b[0;34m[\u001b[0m\u001b[0;34m:\u001b[0m\u001b[0;34m,\u001b[0m\u001b[0;36m1\u001b[0m\u001b[0;34m]\u001b[0m\u001b[0;34m)\u001b[0m\u001b[0;34m\u001b[0m\u001b[0;34m\u001b[0m\u001b[0m\n",
            "\u001b[0;31mNameError\u001b[0m: name 'probas' is not defined"
          ]
        }
      ]
    },
    {
      "cell_type": "code",
      "execution_count": 28,
      "metadata": {
        "colab": {
          "base_uri": "https://localhost:8080/"
        },
        "id": "F_AcufgWQ9oc",
        "outputId": "2600c35b-5dc7-42f6-f3ef-cf45cea73096"
      },
      "outputs": [
        {
          "output_type": "stream",
          "name": "stdout",
          "text": [
            "Accuracy: 0.7829120125416422\n",
            "              precision    recall  f1-score   support\n",
            "\n",
            "           0       0.27      0.84      0.41      2275\n",
            "           1       0.98      0.78      0.87     23240\n",
            "\n",
            "    accuracy                           0.78     25515\n",
            "   macro avg       0.62      0.81      0.64     25515\n",
            "weighted avg       0.92      0.78      0.83     25515\n",
            "\n"
          ]
        }
      ],
      "source": [
        "#Import scikit-learn metrics module for accuracy calculation\n",
        "from sklearn import metrics\n",
        "# Model Accuracy, how often is the classifier correct?\n",
        "print(\"Accuracy:\",metrics.accuracy_score(y_test, y_pred))\n",
        "print(metrics.classification_report(y_test, y_pred))\n",
        "#print(\"roc_auc:\",metrics.roc_auc_score(y_test, y_pred))"
      ]
    },
    {
      "cell_type": "code",
      "execution_count": 30,
      "metadata": {
        "colab": {
          "base_uri": "https://localhost:8080/",
          "height": 281
        },
        "id": "-7_QR2-7gVKB",
        "outputId": "c48f1d2e-cbf5-4fbb-f3ab-0f967d17133a"
      },
      "outputs": [
        {
          "output_type": "display_data",
          "data": {
            "text/plain": [
              "<Figure size 432x288 with 2 Axes>"
            ],
            "image/png": "[encoded data removed]"
          },
          "metadata": {
            "needs_background": "light"
          }
        }
      ],
      "source": [
        "conf_mat = confusion_matrix(y_test, y_pred)\n",
        "plt.title(\"Confusion Matrix\")\n",
        "sns.heatmap(conf_mat,annot=True,fmt='.0f')\n",
        "plt.show()\n",
        "#plt.savefig(output_path+'confusion_matrix.png')"
      ]
    },
    {
      "cell_type": "code",
      "execution_count": null,
      "metadata": {
        "id": "KiDtPQ5DjtPU"
      },
      "outputs": [],
      "source": [
        "#unique, counts = np.unique(y_pred, return_counts=True)\n",
        "#dict(zip(unique, counts))"
      ]
    },
    {
      "cell_type": "markdown",
      "metadata": {
        "id": "uN6ApYjrIZLM"
      },
      "source": [
        "### *RF without best paramether method*"
      ]
    },
    {
      "cell_type": "code",
      "execution_count": null,
      "metadata": {
        "id": "CGN9K9jkI7Ut"
      },
      "outputs": [],
      "source": [
        "'''\n",
        "from sklearn.linear_model import Ridge\n",
        "from sklearn.model_selection import GridSearchCV"
      ]
    },
    {
      "cell_type": "code",
      "execution_count": null,
      "metadata": {
        "id": "iT9DgKRjI-Dl"
      },
      "outputs": [],
      "source": [
        "'''\n",
        "parameters = {'n_estimators': [750],'criterion':['gini', 'entropy']}"
      ]
    },
    {
      "cell_type": "code",
      "execution_count": null,
      "metadata": {
        "colab": {
          "base_uri": "https://localhost:8080/"
        },
        "id": "SHH4SgYeJAWk",
        "outputId": "b8b6ccae-2073-4394-e578-6ddd094c8061"
      },
      "outputs": [
        {
          "name": "stdout",
          "output_type": "stream",
          "text": [
            "Accuracy Test: 0.9973049281314168\n"
          ]
        }
      ],
      "source": [
        "'''\n",
        "model = GridSearchCV(\n",
        "      RandomForestClassifier(),\n",
        "      param_grid=parameters,\n",
        "      n_jobs=10, cv=10)\n",
        "model.fit(X_train,y_train)\n",
        "rm_pred=model.predict(X_test)\n",
        "print(\"Accuracy Test:\",metrics.accuracy_score(y_test, rm_pred))"
      ]
    },
    {
      "cell_type": "code",
      "execution_count": null,
      "metadata": {
        "id": "SZ7BQbdtNGeH"
      },
      "outputs": [],
      "source": [
        "'''\n",
        "!pip install scikit-plot\n",
        "import scikitplot.metrics as splt\n",
        "splt.plot_confusion_matrix(y_test, rm_pred)"
      ]
    },
    {
      "cell_type": "code",
      "execution_count": null,
      "metadata": {
        "colab": {
          "base_uri": "https://localhost:8080/"
        },
        "id": "kigYuh3kN3ub",
        "outputId": "853b017a-b40b-405a-84d4-6f3d8ac3adcb"
      },
      "outputs": [
        {
          "name": "stdout",
          "output_type": "stream",
          "text": [
            "              precision    recall  f1-score   support\n",
            "\n",
            "           1       1.00      0.16      0.28        25\n",
            "           2       1.00      1.00      1.00      7767\n",
            "\n",
            "    accuracy                           1.00      7792\n",
            "   macro avg       1.00      0.58      0.64      7792\n",
            "weighted avg       1.00      1.00      1.00      7792\n",
            "\n"
          ]
        }
      ],
      "source": [
        "'''\n",
        "print(metrics.classification_report(y_test, rm_pred))"
      ]
    },
    {
      "cell_type": "markdown",
      "source": [
        "# ⬛ Save and load the model"
      ],
      "metadata": {
        "id": "JrlB5wyDLm3l"
      }
    },
    {
      "cell_type": "code",
      "source": [
        "#salva il modello\n",
        "joblib.dump(best_rf, path_stations + \"RF_hypoxia_undersample.joblib\")\n",
        "#joblib.dump(best_rf, path + \"random_forest_full_pt_norm.joblib\")"
      ],
      "metadata": {
        "id": "YIvm-MZlkPs9",
        "colab": {
          "base_uri": "https://localhost:8080/"
        },
        "outputId": "da76f958-18d8-488c-f54a-84ecbd5c2b64"
      },
      "execution_count": null,
      "outputs": [
        {
          "output_type": "execute_result",
          "data": {
            "text/plain": [
              "['/content/gdrive/My Drive/Dati/DatiOriginali/Lagoon_WaterQuality/Elaborati/Dataset_hypoxia/Hourly/RF_hypoxia_undersample.joblib']"
            ]
          },
          "metadata": {},
          "execution_count": 37
        }
      ]
    },
    {
      "cell_type": "code",
      "source": [
        "best_rf = joblib.load(path_stations + \"RF_hypoxia_undersample.joblib\")"
      ],
      "metadata": {
        "id": "iOinCxIukuli"
      },
      "execution_count": null,
      "outputs": []
    },
    {
      "cell_type": "markdown",
      "source": [
        "--------------------------------------------------------------------------------\n",
        "# ⛔ FOR THODORIS, STOP HERE :)"
      ],
      "metadata": {
        "id": "XFG6-6q692Ij"
      }
    },
    {
      "cell_type": "markdown",
      "source": [
        "# Random Forest for unbalanced datasets"
      ],
      "metadata": {
        "id": "8YiRrkFU_ZyE"
      }
    },
    {
      "cell_type": "markdown",
      "metadata": {
        "id": "XWBJZZFz4NK7"
      },
      "source": [
        "### Random Forest for Imbalanced Classification"
      ]
    },
    {
      "cell_type": "code",
      "execution_count": null,
      "metadata": {
        "id": "NaFQ_1SZ4PqH"
      },
      "outputs": [],
      "source": [
        "# class balanced random forest for imbalanced classification\n",
        "from numpy import mean\n",
        "from sklearn.datasets import make_classification\n",
        "from sklearn.model_selection import cross_val_score\n",
        "from sklearn.model_selection import RepeatedStratifiedKFold\n",
        "from sklearn.ensemble import RandomForestClassifier\n"
      ]
    },
    {
      "cell_type": "code",
      "execution_count": null,
      "metadata": {
        "id": "2dDFNdn19xF9"
      },
      "outputs": [],
      "source": [
        "# define model\n",
        "model = RandomForestClassifier(n_estimators=10, class_weight='balanced')"
      ]
    },
    {
      "cell_type": "code",
      "execution_count": null,
      "metadata": {
        "id": "IOp-MV379YZ5"
      },
      "outputs": [],
      "source": [
        "# define evaluation procedure\n",
        "cv = RepeatedStratifiedKFold(n_splits=10, n_repeats=3, random_state=1)"
      ]
    },
    {
      "cell_type": "code",
      "execution_count": null,
      "metadata": {
        "id": "bhLmH7Dq9aP1"
      },
      "outputs": [],
      "source": [
        "# evaluate model\n",
        "scores = cross_val_score(model, X_train, y_train, scoring='roc_auc', cv=cv, n_jobs=-1)"
      ]
    },
    {
      "cell_type": "code",
      "execution_count": null,
      "metadata": {
        "colab": {
          "base_uri": "https://localhost:8080/"
        },
        "id": "ZQeG2tEw9byK",
        "outputId": "08bb6164-4244-4772-f647-f9036468195a"
      },
      "outputs": [
        {
          "output_type": "stream",
          "name": "stdout",
          "text": [
            "Mean ROC AUC: 0.992\n"
          ]
        }
      ],
      "source": [
        "# summarize performance\n",
        "print('Mean ROC AUC: %.3f' % mean(scores))"
      ]
    },
    {
      "cell_type": "markdown",
      "metadata": {
        "id": "qMBrwzAl9pwv"
      },
      "source": [
        "### *Class_weight argument to the value ‘balanced_subsample*"
      ]
    },
    {
      "cell_type": "code",
      "execution_count": null,
      "metadata": {
        "id": "2I67YKZr9tKT"
      },
      "outputs": [],
      "source": [
        "model = RandomForestClassifier(n_estimators=10, class_weight='balanced_subsample')"
      ]
    },
    {
      "cell_type": "code",
      "execution_count": null,
      "metadata": {
        "id": "baFh68o49z5u"
      },
      "outputs": [],
      "source": [
        "# define evaluation procedure\n",
        "cv = RepeatedStratifiedKFold(n_splits=10, n_repeats=3, random_state=1)"
      ]
    },
    {
      "cell_type": "code",
      "execution_count": null,
      "metadata": {
        "id": "CzSgfPTe92Pw"
      },
      "outputs": [],
      "source": [
        "# evaluate model\n",
        "scores = cross_val_score(model, X_train, y_train, scoring='roc_auc', cv=cv, n_jobs=-1)"
      ]
    },
    {
      "cell_type": "code",
      "execution_count": null,
      "metadata": {
        "colab": {
          "base_uri": "https://localhost:8080/"
        },
        "id": "l5S__35X92wg",
        "outputId": "fcb484af-657a-4cd0-af62-898ba8acad3c"
      },
      "outputs": [
        {
          "name": "stdout",
          "output_type": "stream",
          "text": [
            "Mean ROC AUC: 0.764\n"
          ]
        }
      ],
      "source": [
        "# summarize performance\n",
        "print('Mean ROC AUC: %.3f' % mean(scores))"
      ]
    },
    {
      "cell_type": "markdown",
      "metadata": {
        "id": "Euiu_bBm-7Vf"
      },
      "source": [
        "### *BalancedRandomForestClassifier class* "
      ]
    },
    {
      "cell_type": "code",
      "execution_count": null,
      "metadata": {
        "id": "jSioSeWx_SWn"
      },
      "outputs": [],
      "source": [
        "from imblearn.ensemble import BalancedRandomForestClassifier"
      ]
    },
    {
      "cell_type": "code",
      "execution_count": null,
      "metadata": {
        "id": "vi24cJo0-962"
      },
      "outputs": [],
      "source": [
        "# define model\n",
        "model = BalancedRandomForestClassifier(n_estimators=10)"
      ]
    },
    {
      "cell_type": "code",
      "execution_count": null,
      "metadata": {
        "id": "4Btabobt_A5K"
      },
      "outputs": [],
      "source": [
        "# define evaluation procedure\n",
        "cv = RepeatedStratifiedKFold(n_splits=10, n_repeats=3, random_state=1)"
      ]
    },
    {
      "cell_type": "code",
      "execution_count": null,
      "metadata": {
        "id": "bG0SGBvc_D1Z"
      },
      "outputs": [],
      "source": [
        "# evaluate model\n",
        "scores = cross_val_score(model, X_train, y_train, scoring='roc_auc', cv=cv, n_jobs=-1)"
      ]
    },
    {
      "cell_type": "code",
      "execution_count": null,
      "metadata": {
        "colab": {
          "base_uri": "https://localhost:8080/"
        },
        "id": "AMbhw5Eo_ILL",
        "outputId": "12075537-f625-4622-8681-9ebb1f4f6d64"
      },
      "outputs": [
        {
          "output_type": "stream",
          "name": "stdout",
          "text": [
            "Mean ROC AUC: 0.879\n"
          ]
        }
      ],
      "source": [
        "# summarize performance\n",
        "print('Mean ROC AUC: %.3f' % mean(scores))"
      ]
    },
    {
      "cell_type": "markdown",
      "metadata": {
        "id": "QEngG3ZsEESD"
      },
      "source": [
        "# COMPARE CLASSIFIERS"
      ]
    },
    {
      "cell_type": "code",
      "execution_count": null,
      "metadata": {
        "id": "pR-D391bENxN"
      },
      "outputs": [],
      "source": [
        "from sklearn.neural_network import MLPClassifier\n",
        "from sklearn.neighbors import KNeighborsClassifier\n",
        "from sklearn.svm import SVC\n",
        "from sklearn.gaussian_process import GaussianProcessClassifier\n",
        "from sklearn.ensemble import GradientBoostingClassifier\n",
        "from sklearn.gaussian_process.kernels import RBF\n",
        "from sklearn.tree import DecisionTreeClassifier\n",
        "from sklearn.ensemble import ExtraTreesClassifier\n",
        "from sklearn.ensemble import RandomForestClassifier, AdaBoostClassifier\n",
        "from sklearn.naive_bayes import GaussianNB\n",
        "from sklearn.discriminant_analysis import QuadraticDiscriminantAnalysis\n",
        "from sklearn.linear_model import SGDClassifier"
      ]
    },
    {
      "cell_type": "markdown",
      "metadata": {
        "id": "GPBV24kIEYlF"
      },
      "source": [
        "Defining learning classifiers"
      ]
    },
    {
      "cell_type": "code",
      "execution_count": null,
      "metadata": {
        "id": "g4bnrGYVEQWW"
      },
      "outputs": [],
      "source": [
        "names = [\"Linear_SVM\", \"Polynomial_SVM\", \"RBF_SVM\",  \"Neural_Net\", \"AdaBoost\",\n",
        "         \"Naive_Bayes\"]\n",
        "\n",
        "classifiers = [\n",
        "    SVC(kernel=\"linear\", C=0.025),\n",
        "    SVC(kernel=\"poly\", degree=3, C=0.025),\n",
        "    SVC(kernel=\"rbf\", C=1, gamma=2),\n",
        "    MLPClassifier(alpha=1, max_iter=1000),\n",
        "    AdaBoostClassifier(n_estimators=100),\n",
        "    GaussianNB()]"
      ]
    },
    {
      "cell_type": "code",
      "execution_count": null,
      "metadata": {
        "id": "B2Rn6VDTRdMF"
      },
      "outputs": [],
      "source": [
        "model_ada = AdaBoostClassifier(n_estimators=100)"
      ]
    },
    {
      "cell_type": "markdown",
      "metadata": {
        "id": "4PJkl_dfEZwC"
      },
      "source": [
        "Build Model, Apply Model on Test Data & Record Accuracy Scores"
      ]
    },
    {
      "cell_type": "code",
      "execution_count": null,
      "metadata": {
        "id": "vcXF5VjpEb9b"
      },
      "outputs": [],
      "source": [
        "scores = []\n",
        "for name, clf in zip(names, classifiers):\n",
        "    clf.fit(X_train, y_train)\n",
        "    score = clf.score(X_test, y_test)\n",
        "    scores.append(score)"
      ]
    },
    {
      "cell_type": "code",
      "execution_count": null,
      "metadata": {
        "colab": {
          "base_uri": "https://localhost:8080/"
        },
        "id": "CsqzXO-7Efb7",
        "outputId": "69c53086-77f1-42f0-92dc-4de14f5af28a"
      },
      "outputs": [
        {
          "data": {
            "text/plain": [
              "[0.9883213552361396,\n",
              " 0.9883213552361396,\n",
              " 0.9883213552361396,\n",
              " 0.9883213552361396,\n",
              " 0.9879363449691991,\n",
              " 0.8803901437371663]"
            ]
          },
          "execution_count": 17,
          "metadata": {},
          "output_type": "execute_result"
        }
      ],
      "source": [
        "scores"
      ]
    },
    {
      "cell_type": "code",
      "execution_count": null,
      "metadata": {
        "id": "8ikxYXp-RmqT"
      },
      "outputs": [],
      "source": [
        "model_ada.fit(X_train, y_train)\n",
        "score_model_ada = model_ada.score(X_test, y_test) "
      ]
    },
    {
      "cell_type": "code",
      "execution_count": null,
      "metadata": {
        "colab": {
          "base_uri": "https://localhost:8080/"
        },
        "id": "L1lIdbHnSFme",
        "outputId": "7e082c43-d528-46b4-908f-072c19d180f5"
      },
      "outputs": [
        {
          "data": {
            "text/plain": [
              "0.9879363449691991"
            ]
          },
          "execution_count": 29,
          "metadata": {},
          "output_type": "execute_result"
        }
      ],
      "source": [
        "score_model_ada"
      ]
    },
    {
      "cell_type": "markdown",
      "metadata": {
        "id": "7G_VXfG9FVTE"
      },
      "source": [
        "Analysis of Model Performance"
      ]
    },
    {
      "cell_type": "code",
      "execution_count": null,
      "metadata": {
        "id": "woOMqLvmFXgP"
      },
      "outputs": [],
      "source": [
        "import seaborn as sns"
      ]
    },
    {
      "cell_type": "markdown",
      "metadata": {
        "id": "6eX2GMGeFaBr"
      },
      "source": [
        "Create data frame of model performance"
      ]
    },
    {
      "cell_type": "code",
      "execution_count": null,
      "metadata": {
        "colab": {
          "base_uri": "https://localhost:8080/",
          "height": 238
        },
        "id": "Ur4bHSu0Fbzb",
        "outputId": "d2e1e4f0-2138-45a1-90ea-4f0a07f8b025"
      },
      "outputs": [
        {
          "data": {
            "text/html": [
              "\n",
              "  <div id=\"df-ae7b26f2-a950-4a78-af89-ff4e47561af8\">\n",
              "    <div class=\"colab-df-container\">\n",
              "      <div>\n",
              "<style scoped>\n",
              "    .dataframe tbody tr th:only-of-type {\n",
              "        vertical-align: middle;\n",
              "    }\n",
              "\n",
              "    .dataframe tbody tr th {\n",
              "        vertical-align: top;\n",
              "    }\n",
              "\n",
              "    .dataframe thead th {\n",
              "        text-align: right;\n",
              "    }\n",
              "</style>\n",
              "<table border=\"1\" class=\"dataframe\">\n",
              "  <thead>\n",
              "    <tr style=\"text-align: right;\">\n",
              "      <th></th>\n",
              "      <th>name</th>\n",
              "      <th>score</th>\n",
              "    </tr>\n",
              "  </thead>\n",
              "  <tbody>\n",
              "    <tr>\n",
              "      <th>0</th>\n",
              "      <td>Linear_SVM</td>\n",
              "      <td>0.988321</td>\n",
              "    </tr>\n",
              "    <tr>\n",
              "      <th>1</th>\n",
              "      <td>Polynomial_SVM</td>\n",
              "      <td>0.988321</td>\n",
              "    </tr>\n",
              "    <tr>\n",
              "      <th>2</th>\n",
              "      <td>RBF_SVM</td>\n",
              "      <td>0.988321</td>\n",
              "    </tr>\n",
              "    <tr>\n",
              "      <th>3</th>\n",
              "      <td>Neural_Net</td>\n",
              "      <td>0.988321</td>\n",
              "    </tr>\n",
              "    <tr>\n",
              "      <th>4</th>\n",
              "      <td>AdaBoost</td>\n",
              "      <td>0.987936</td>\n",
              "    </tr>\n",
              "    <tr>\n",
              "      <th>5</th>\n",
              "      <td>Naive_Bayes</td>\n",
              "      <td>0.880390</td>\n",
              "    </tr>\n",
              "  </tbody>\n",
              "</table>\n",
              "</div>\n",
              "      <button class=\"colab-df-convert\" onclick=\"convertToInteractive('df-ae7b26f2-a950-4a78-af89-ff4e47561af8')\"\n",
              "              title=\"Convert this dataframe to an interactive table.\"\n",
              "              style=\"display:none;\">\n",
              "        \n",
              "  <svg xmlns=\"http://www.w3.org/2000/svg\" height=\"24px\"viewBox=\"0 0 24 24\"\n",
              "       width=\"24px\">\n",
              "    <path d=\"M0 0h24v24H0V0z\" fill=\"none\"/>\n",
              "    <path d=\"M18.56 5.44l.94 2.06.94-2.06 2.06-.94-2.06-.94-.94-2.06-.94 2.06-2.06.94zm-11 1L8.5 8.5l.94-2.06 2.06-.94-2.06-.94L8.5 2.5l-.94 2.06-2.06.94zm10 10l.94 2.06.94-2.06 2.06-.94-2.06-.94-.94-2.06-.94 2.06-2.06.94z\"/><path d=\"M17.41 7.96l-1.37-1.37c-.4-.4-.92-.59-1.43-.59-.52 0-1.04.2-1.43.59L10.3 9.45l-7.72 7.72c-.78.78-.78 2.05 0 2.83L4 21.41c.39.39.9.59 1.41.59.51 0 1.02-.2 1.41-.59l7.78-7.78 2.81-2.81c.8-.78.8-2.07 0-2.86zM5.41 20L4 18.59l7.72-7.72 1.47 1.35L5.41 20z\"/>\n",
              "  </svg>\n",
              "      </button>\n",
              "      \n",
              "  <style>\n",
              "    .colab-df-container {\n",
              "      display:flex;\n",
              "      flex-wrap:wrap;\n",
              "      gap: 12px;\n",
              "    }\n",
              "\n",
              "    .colab-df-convert {\n",
              "      background-color: #E8F0FE;\n",
              "      border: none;\n",
              "      border-radius: 50%;\n",
              "      cursor: pointer;\n",
              "      display: none;\n",
              "      fill: #1967D2;\n",
              "      height: 32px;\n",
              "      padding: 0 0 0 0;\n",
              "      width: 32px;\n",
              "    }\n",
              "\n",
              "    .colab-df-convert:hover {\n",
              "      background-color: #E2EBFA;\n",
              "      box-shadow: 0px 1px 2px rgba(60, 64, 67, 0.3), 0px 1px 3px 1px rgba(60, 64, 67, 0.15);\n",
              "      fill: #174EA6;\n",
              "    }\n",
              "\n",
              "    [theme=dark] .colab-df-convert {\n",
              "      background-color: #3B4455;\n",
              "      fill: #D2E3FC;\n",
              "    }\n",
              "\n",
              "    [theme=dark] .colab-df-convert:hover {\n",
              "      background-color: #434B5C;\n",
              "      box-shadow: 0px 1px 3px 1px rgba(0, 0, 0, 0.15);\n",
              "      filter: drop-shadow(0px 1px 2px rgba(0, 0, 0, 0.3));\n",
              "      fill: #FFFFFF;\n",
              "    }\n",
              "  </style>\n",
              "\n",
              "      <script>\n",
              "        const buttonEl =\n",
              "          document.querySelector('#df-ae7b26f2-a950-4a78-af89-ff4e47561af8 button.colab-df-convert');\n",
              "        buttonEl.style.display =\n",
              "          google.colab.kernel.accessAllowed ? 'block' : 'none';\n",
              "\n",
              "        async function convertToInteractive(key) {\n",
              "          const element = document.querySelector('#df-ae7b26f2-a950-4a78-af89-ff4e47561af8');\n",
              "          const dataTable =\n",
              "            await google.colab.kernel.invokeFunction('convertToInteractive',\n",
              "                                                     [key], {});\n",
              "          if (!dataTable) return;\n",
              "\n",
              "          const docLinkHtml = 'Like what you see? Visit the ' +\n",
              "            '<a target=\"_blank\" href=https://colab.research.google.com/notebooks/data_table.ipynb>data table notebook</a>'\n",
              "            + ' to learn more about interactive tables.';\n",
              "          element.innerHTML = '';\n",
              "          dataTable['output_type'] = 'display_data';\n",
              "          await google.colab.output.renderOutput(dataTable, element);\n",
              "          const docLink = document.createElement('div');\n",
              "          docLink.innerHTML = docLinkHtml;\n",
              "          element.appendChild(docLink);\n",
              "        }\n",
              "      </script>\n",
              "    </div>\n",
              "  </div>\n",
              "  "
            ],
            "text/plain": [
              "             name     score\n",
              "0      Linear_SVM  0.988321\n",
              "1  Polynomial_SVM  0.988321\n",
              "2         RBF_SVM  0.988321\n",
              "3      Neural_Net  0.988321\n",
              "4        AdaBoost  0.987936\n",
              "5     Naive_Bayes  0.880390"
            ]
          },
          "execution_count": 19,
          "metadata": {},
          "output_type": "execute_result"
        }
      ],
      "source": [
        "df = pd.DataFrame()\n",
        "df['name'] = names\n",
        "df['score'] = scores\n",
        "df"
      ]
    },
    {
      "cell_type": "markdown",
      "metadata": {
        "id": "oYZ46A6IFgfm"
      },
      "source": [
        "Adding colors to the data frame"
      ]
    },
    {
      "cell_type": "code",
      "execution_count": null,
      "metadata": {
        "colab": {
          "base_uri": "https://localhost:8080/",
          "height": 238
        },
        "id": "FliNCeEmFjEL",
        "outputId": "c26e656e-ba05-4d81-8039-56f064fad3c9"
      },
      "outputs": [
        {
          "data": {
            "text/html": [
              "<style type=\"text/css\">\n",
              "#T_d09c3_row0_col1, #T_d09c3_row1_col1, #T_d09c3_row2_col1, #T_d09c3_row3_col1, #T_d09c3_row4_col1 {\n",
              "  background-color: #008000;\n",
              "  color: #f1f1f1;\n",
              "}\n",
              "#T_d09c3_row5_col1 {\n",
              "  background-color: #ebf3eb;\n",
              "  color: #000000;\n",
              "}\n",
              "</style>\n",
              "<table id=\"T_d09c3_\" class=\"dataframe\">\n",
              "  <thead>\n",
              "    <tr>\n",
              "      <th class=\"blank level0\" >&nbsp;</th>\n",
              "      <th class=\"col_heading level0 col0\" >name</th>\n",
              "      <th class=\"col_heading level0 col1\" >score</th>\n",
              "    </tr>\n",
              "  </thead>\n",
              "  <tbody>\n",
              "    <tr>\n",
              "      <th id=\"T_d09c3_level0_row0\" class=\"row_heading level0 row0\" >0</th>\n",
              "      <td id=\"T_d09c3_row0_col0\" class=\"data row0 col0\" >Linear_SVM</td>\n",
              "      <td id=\"T_d09c3_row0_col1\" class=\"data row0 col1\" >0.988321</td>\n",
              "    </tr>\n",
              "    <tr>\n",
              "      <th id=\"T_d09c3_level0_row1\" class=\"row_heading level0 row1\" >1</th>\n",
              "      <td id=\"T_d09c3_row1_col0\" class=\"data row1 col0\" >Polynomial_SVM</td>\n",
              "      <td id=\"T_d09c3_row1_col1\" class=\"data row1 col1\" >0.988321</td>\n",
              "    </tr>\n",
              "    <tr>\n",
              "      <th id=\"T_d09c3_level0_row2\" class=\"row_heading level0 row2\" >2</th>\n",
              "      <td id=\"T_d09c3_row2_col0\" class=\"data row2 col0\" >RBF_SVM</td>\n",
              "      <td id=\"T_d09c3_row2_col1\" class=\"data row2 col1\" >0.988321</td>\n",
              "    </tr>\n",
              "    <tr>\n",
              "      <th id=\"T_d09c3_level0_row3\" class=\"row_heading level0 row3\" >3</th>\n",
              "      <td id=\"T_d09c3_row3_col0\" class=\"data row3 col0\" >Neural_Net</td>\n",
              "      <td id=\"T_d09c3_row3_col1\" class=\"data row3 col1\" >0.988321</td>\n",
              "    </tr>\n",
              "    <tr>\n",
              "      <th id=\"T_d09c3_level0_row4\" class=\"row_heading level0 row4\" >4</th>\n",
              "      <td id=\"T_d09c3_row4_col0\" class=\"data row4 col0\" >AdaBoost</td>\n",
              "      <td id=\"T_d09c3_row4_col1\" class=\"data row4 col1\" >0.987936</td>\n",
              "    </tr>\n",
              "    <tr>\n",
              "      <th id=\"T_d09c3_level0_row5\" class=\"row_heading level0 row5\" >5</th>\n",
              "      <td id=\"T_d09c3_row5_col0\" class=\"data row5 col0\" >Naive_Bayes</td>\n",
              "      <td id=\"T_d09c3_row5_col1\" class=\"data row5 col1\" >0.880390</td>\n",
              "    </tr>\n",
              "  </tbody>\n",
              "</table>\n"
            ],
            "text/plain": [
              "<pandas.io.formats.style.Styler at 0x7f332b7add10>"
            ]
          },
          "execution_count": 20,
          "metadata": {},
          "output_type": "execute_result"
        }
      ],
      "source": [
        "#https://pandas.pydata.org/pandas-docs/stable/user_guide/style.html\n",
        "\n",
        "cm = sns.light_palette(\"green\", as_cmap=True)\n",
        "s = df.style.background_gradient(cmap=cm)\n",
        "s"
      ]
    },
    {
      "cell_type": "markdown",
      "metadata": {
        "id": "RjYdW4yMFk6O"
      },
      "source": [
        "Bar plot of model performance"
      ]
    },
    {
      "cell_type": "code",
      "execution_count": null,
      "metadata": {
        "colab": {
          "base_uri": "https://localhost:8080/",
          "height": 285
        },
        "id": "ncMCTCJAFma-",
        "outputId": "adf86958-1cd6-499b-bc4b-05259791338c"
      },
      "outputs": [
        {
          "data": {
            "image/png": "[encoded data removed]",
            "text/plain": [
              "<Figure size 432x288 with 1 Axes>"
            ]
          },
          "metadata": {},
          "output_type": "display_data"
        }
      ],
      "source": [
        "sns.set(style=\"whitegrid\")\n",
        "ax = sns.barplot(y=\"name\", x=\"score\", data=df)"
      ]
    },
    {
      "cell_type": "code",
      "execution_count": null,
      "metadata": {
        "id": "iqtr6kMwSUGj"
      },
      "outputs": [],
      "source": [
        "#create prediction basing on the test set\n",
        "y_pred = model_ada.predict(X_test)\n",
        "ytrain_pred = model_ada.predict(X_train)"
      ]
    },
    {
      "cell_type": "markdown",
      "metadata": {
        "id": "tYLL1PVYJyQy"
      },
      "source": [
        "vorrei capire se da qui posso ricavarmi le accuraci di ogni modello"
      ]
    },
    {
      "cell_type": "code",
      "execution_count": null,
      "metadata": {
        "colab": {
          "base_uri": "https://localhost:8080/"
        },
        "id": "vhDjZ69DJy4i",
        "outputId": "60f1476c-23ec-4361-8ff4-6f82ba2a4ac8"
      },
      "outputs": [
        {
          "name": "stdout",
          "output_type": "stream",
          "text": [
            "              precision    recall  f1-score   support\n",
            "\n",
            "           1       0.20      0.01      0.02        91\n",
            "           2       0.99      1.00      0.99      7701\n",
            "\n",
            "    accuracy                           0.99      7792\n",
            "   macro avg       0.59      0.51      0.51      7792\n",
            "weighted avg       0.98      0.99      0.98      7792\n",
            "\n"
          ]
        }
      ],
      "source": [
        "print(metrics.classification_report(y_test, y_pred))"
      ]
    },
    {
      "cell_type": "code",
      "execution_count": null,
      "metadata": {
        "colab": {
          "base_uri": "https://localhost:8080/",
          "height": 284
        },
        "id": "HR3a3oKNJy4i",
        "outputId": "f9488cc8-c895-4cec-ab46-766238bbfd72"
      },
      "outputs": [
        {
          "data": {
            "image/png": "[encoded data removed]",
            "text/plain": [
              "<Figure size 432x288 with 2 Axes>"
            ]
          },
          "metadata": {},
          "output_type": "display_data"
        }
      ],
      "source": [
        "conf_mat = confusion_matrix(y_test, y_pred)\n",
        "plt.title(\"Confusion Matrix\")\n",
        "sns.heatmap(conf_mat,annot=True,fmt='.0f')\n",
        "plt.show()"
      ]
    },
    {
      "cell_type": "markdown",
      "metadata": {
        "id": "c6WyNGZDXClf"
      },
      "source": [
        "# LOGISTIC REGRESSION"
      ]
    },
    {
      "cell_type": "code",
      "execution_count": null,
      "metadata": {
        "id": "6qEoH6LnW9os"
      },
      "outputs": [],
      "source": [
        "from sklearn.model_selection import train_test_split\n",
        "from sklearn.linear_model import LogisticRegression\n",
        "\n",
        "logistic = LogisticRegression(class_weight=\"balanced\").fit(X_train, y_train)\n",
        "y_pred = logistic.predict(X_test)"
      ]
    },
    {
      "cell_type": "code",
      "execution_count": null,
      "metadata": {
        "colab": {
          "base_uri": "https://localhost:8080/"
        },
        "id": "Qj5rOfNZ6Cn1",
        "outputId": "9c71e311-aecb-424e-cb8b-fc88307bccdd"
      },
      "outputs": [
        {
          "output_type": "stream",
          "name": "stdout",
          "text": [
            "In-sample accuracy: 0.712\n",
            "Out-of-sample accuracy: 0.710\n"
          ]
        }
      ],
      "source": [
        "print('In-sample accuracy: %0.3f' %\n",
        "      accuracy_score(y_train, logistic.predict(X_train)))\n",
        "print('Out-of-sample accuracy: %0.3f' %\n",
        "      accuracy_score(y_test, y_pred))"
      ]
    },
    {
      "cell_type": "code",
      "execution_count": null,
      "metadata": {
        "colab": {
          "base_uri": "https://localhost:8080/"
        },
        "id": "5o_A6YuGYhsu",
        "outputId": "08955cdb-5ce9-428b-fea2-50df4846239e"
      },
      "outputs": [
        {
          "output_type": "stream",
          "name": "stdout",
          "text": [
            "              precision    recall  f1-score   support\n",
            "\n",
            "           0       0.13      0.83      0.22      9418\n",
            "           1       0.99      0.70      0.82    182205\n",
            "\n",
            "    accuracy                           0.71    191623\n",
            "   macro avg       0.56      0.77      0.52    191623\n",
            "weighted avg       0.95      0.71      0.79    191623\n",
            "\n"
          ]
        }
      ],
      "source": [
        "print(metrics.classification_report(y_test, y_pred))"
      ]
    },
    {
      "cell_type": "code",
      "execution_count": null,
      "metadata": {
        "colab": {
          "base_uri": "https://localhost:8080/",
          "height": 281
        },
        "id": "GGvUprScYnmh",
        "outputId": "f13b5135-5148-4b7d-83f7-f2b4daf357e9"
      },
      "outputs": [
        {
          "output_type": "display_data",
          "data": {
            "text/plain": [
              "<Figure size 432x288 with 2 Axes>"
            ],
            "image/png": "[encoded data removed]"
          },
          "metadata": {
            "needs_background": "light"
          }
        }
      ],
      "source": [
        "conf_mat = confusion_matrix(y_test, y_pred)\n",
        "plt.title(\"Confusion Matrix\")\n",
        "sns.heatmap(conf_mat,annot=True,fmt='.0f')\n",
        "plt.show()"
      ]
    },
    {
      "cell_type": "code",
      "execution_count": null,
      "metadata": {
        "id": "ANv-vLI5Y98i"
      },
      "outputs": [],
      "source": [
        "# Evaluate a score by cross-validation.\n",
        "scores = cross_val_score(logistic, X_train, y_train, scoring='roc_auc', cv=None, n_jobs=-1)"
      ]
    },
    {
      "cell_type": "code",
      "execution_count": null,
      "metadata": {
        "colab": {
          "base_uri": "https://localhost:8080/"
        },
        "id": "uEzT4NCoY98j",
        "outputId": "f7a27150-8b03-4c47-8955-cea7e9bb1a6d"
      },
      "outputs": [
        {
          "output_type": "stream",
          "name": "stdout",
          "text": [
            "Mean ROC AUC: 0.842\n"
          ]
        }
      ],
      "source": [
        "# summarize performance\n",
        "print('Mean ROC AUC: %.3f' % mean(scores))"
      ]
    },
    {
      "cell_type": "code",
      "source": [
        "#ROC CURVE\n",
        "from sklearn.metrics import RocCurveDisplay\n",
        "best_rf_disp = RocCurveDisplay.from_estimator(logistic, X_test, y_test)\n",
        "plt.show()"
      ],
      "metadata": {
        "colab": {
          "base_uri": "https://localhost:8080/",
          "height": 279
        },
        "id": "t-ADidqYP7jp",
        "outputId": "3c245b52-afc6-438f-af0f-1102a62b7dde"
      },
      "execution_count": null,
      "outputs": [
        {
          "output_type": "display_data",
          "data": {
            "text/plain": [
              "<Figure size 432x288 with 1 Axes>"
            ],
            "image/png": "[encoded data removed]"
          },
          "metadata": {
            "needs_background": "light"
          }
        }
      ]
    },
    {
      "cell_type": "markdown",
      "metadata": {
        "id": "-fgxcPpF7a1T"
      },
      "source": [
        "## Probability of each sample to belong to a class"
      ]
    },
    {
      "cell_type": "code",
      "execution_count": null,
      "metadata": {
        "colab": {
          "base_uri": "https://localhost:8080/"
        },
        "id": "pLFzF73e8svV",
        "outputId": "b73c6826-b1cb-4ebd-f893-06673671a622"
      },
      "outputs": [
        {
          "output_type": "stream",
          "name": "stdout",
          "text": [
            "18.9361005783081 :   0.021\n",
            "18.9599990844727 :   0.072\n",
            "19.2988998413086 :   0.010\n",
            "20.8289999008179 :   0.010\n",
            "22.9874 :  -0.018\n",
            "22.7599 :   0.000\n",
            "22.6284 :   0.064\n",
            "22.6179 :  -0.240\n",
            "22.6129 :   0.080\n",
            "22.8765 :  -0.000\n"
          ]
        }
      ],
      "source": [
        "for var, coef in zip(dataset.w_temperature,\n",
        "                     logistic.coef_[0]):\n",
        "  print(\"%7s : %7.3f\" %(var, coef))"
      ]
    },
    {
      "cell_type": "code",
      "execution_count": null,
      "metadata": {
        "id": "klM1hc727vfk",
        "colab": {
          "base_uri": "https://localhost:8080/"
        },
        "outputId": "aa61d12b-ab18-43b8-a0f2-71645b510ca3"
      },
      "outputs": [
        {
          "output_type": "stream",
          "name": "stdout",
          "text": [
            "\n",
            "classes: [0 1]\n",
            "\n",
            "Probs:\n",
            " [[0.4135112  0.5864888 ]\n",
            " [0.27948137 0.72051863]\n",
            " [0.51688145 0.48311855]\n",
            " [0.0362484  0.9637516 ]\n",
            " [0.58320854 0.41679146]\n",
            " [0.30024669 0.69975331]\n",
            " [0.02479241 0.97520759]\n",
            " [0.22634438 0.77365562]\n",
            " [0.07051642 0.92948358]\n",
            " [0.78834059 0.21165941]\n",
            " [0.09907678 0.90092322]\n",
            " [0.45986062 0.54013938]\n",
            " [0.08292662 0.91707338]\n",
            " [0.05305949 0.94694051]\n",
            " [0.83742423 0.16257577]\n",
            " [0.62773425 0.37226575]\n",
            " [0.19872659 0.80127341]\n",
            " [0.00317303 0.99682697]\n",
            " [0.06518817 0.93481183]\n",
            " [0.73362338 0.26637662]\n",
            " [0.52907152 0.47092848]\n",
            " [0.67768082 0.32231918]\n",
            " [0.59998445 0.40001555]\n",
            " [0.03475235 0.96524765]\n",
            " [0.35402924 0.64597076]\n",
            " [0.84776646 0.15223354]\n",
            " [0.24561857 0.75438143]\n",
            " [0.62135331 0.37864669]\n",
            " [0.32542888 0.67457112]\n",
            " [0.36860162 0.63139838]\n",
            " [0.40137691 0.59862309]\n",
            " [0.26425081 0.73574919]\n",
            " [0.43354116 0.56645884]\n",
            " [0.73692746 0.26307254]\n",
            " [0.74895475 0.25104525]\n",
            " [0.70320151 0.29679849]\n",
            " [0.07620577 0.92379423]\n",
            " [0.0314166  0.9685834 ]\n",
            " [0.0920795  0.9079205 ]\n",
            " [0.11111913 0.88888087]\n",
            " [0.02495119 0.97504881]\n",
            " [0.02916047 0.97083953]\n",
            " [0.10974496 0.89025504]\n",
            " [0.51712638 0.48287362]\n",
            " [0.02520925 0.97479075]\n",
            " [0.14988246 0.85011754]\n",
            " [0.0496441  0.9503559 ]\n",
            " [0.93387083 0.06612917]\n",
            " [0.20317539 0.79682461]\n",
            " [0.03147237 0.96852763]\n",
            " [0.10452178 0.89547822]\n",
            " [0.06100804 0.93899196]\n",
            " [0.00983086 0.99016914]\n",
            " [0.10981324 0.89018676]\n",
            " [0.82076884 0.17923116]\n",
            " [0.24394176 0.75605824]\n",
            " [0.00678494 0.99321506]\n",
            " [0.75222936 0.24777064]\n",
            " [0.16242789 0.83757211]\n",
            " [0.52950184 0.47049816]\n",
            " [0.23940351 0.76059649]\n",
            " [0.32270595 0.67729405]\n",
            " [0.70721864 0.29278136]\n",
            " [0.17662206 0.82337794]\n",
            " [0.4987184  0.5012816 ]\n",
            " [0.00960801 0.99039199]\n",
            " [0.121434   0.878566  ]\n",
            " [0.19965545 0.80034455]\n",
            " [0.66712313 0.33287687]\n",
            " [0.52120068 0.47879932]\n",
            " [0.36451171 0.63548829]\n",
            " [0.10116857 0.89883143]\n",
            " [0.13682032 0.86317968]\n",
            " [0.27117239 0.72882761]\n",
            " [0.42642254 0.57357746]\n",
            " [0.02439032 0.97560968]\n",
            " [0.75793904 0.24206096]\n",
            " [0.72932654 0.27067346]\n",
            " [0.80832089 0.19167911]\n",
            " [0.73082727 0.26917273]\n",
            " [0.03364681 0.96635319]\n",
            " [0.15225894 0.84774106]\n",
            " [0.12800512 0.87199488]\n",
            " [0.89049968 0.10950032]\n",
            " [0.27901286 0.72098714]\n",
            " [0.12110819 0.87889181]\n",
            " [0.05049426 0.94950574]\n",
            " [0.45073705 0.54926295]\n",
            " [0.10116014 0.89883986]\n",
            " [0.77365181 0.22634819]\n",
            " [0.63761866 0.36238134]\n",
            " [0.16633721 0.83366279]\n",
            " [0.25806131 0.74193869]\n",
            " [0.59527301 0.40472699]\n",
            " [0.81740525 0.18259475]\n",
            " [0.03279418 0.96720582]\n",
            " [0.02075079 0.97924921]\n",
            " [0.40414972 0.59585028]\n",
            " [0.67291386 0.32708614]\n",
            " [0.2914171  0.7085829 ]\n",
            " [0.04619684 0.95380316]\n",
            " [0.25561328 0.74438672]\n",
            " [0.01826104 0.98173896]\n",
            " [0.27861956 0.72138044]\n",
            " [0.13426185 0.86573815]\n",
            " [0.77596525 0.22403475]\n",
            " [0.53557699 0.46442301]\n",
            " [0.13443199 0.86556801]\n",
            " [0.29119014 0.70880986]\n",
            " [0.02274516 0.97725484]\n",
            " [0.33779139 0.66220861]\n",
            " [0.32133444 0.67866556]\n",
            " [0.79739408 0.20260592]\n",
            " [0.07994661 0.92005339]\n",
            " [0.02542091 0.97457909]\n",
            " [0.08142235 0.91857765]\n",
            " [0.82541104 0.17458896]\n",
            " [0.04088714 0.95911286]\n",
            " [0.11854551 0.88145449]\n",
            " [0.01284753 0.98715247]\n",
            " [0.02155343 0.97844657]\n",
            " [0.03672154 0.96327846]\n",
            " [0.82060189 0.17939811]\n",
            " [0.71215221 0.28784779]\n",
            " [0.83507842 0.16492158]\n",
            " [0.23183253 0.76816747]\n",
            " [0.0254607  0.9745393 ]\n",
            " [0.13351945 0.86648055]\n",
            " [0.03963582 0.96036418]\n",
            " [0.30007293 0.69992707]\n",
            " [0.10788245 0.89211755]\n",
            " [0.03297352 0.96702648]\n",
            " [0.05183515 0.94816485]\n",
            " [0.51149989 0.48850011]\n",
            " [0.58534498 0.41465502]\n",
            " [0.20564481 0.79435519]\n",
            " [0.47275568 0.52724432]\n",
            " [0.79397362 0.20602638]\n",
            " [0.20516489 0.79483511]\n",
            " [0.48598809 0.51401191]\n",
            " [0.44672087 0.55327913]\n",
            " [0.1049789  0.8950211 ]\n",
            " [0.85100062 0.14899938]\n",
            " [0.03387748 0.96612252]\n",
            " [0.31971732 0.68028268]\n",
            " [0.77589045 0.22410955]\n",
            " [0.23126203 0.76873797]\n",
            " [0.01733455 0.98266545]\n",
            " [0.07765997 0.92234003]\n",
            " [0.17720771 0.82279229]\n",
            " [0.42641723 0.57358277]\n",
            " [0.17868241 0.82131759]\n",
            " [0.4003441  0.5996559 ]\n",
            " [0.3700226  0.6299774 ]\n",
            " [0.61156326 0.38843674]\n",
            " [0.02947705 0.97052295]\n",
            " [0.03083913 0.96916087]\n",
            " [0.51769392 0.48230608]\n",
            " [0.63631224 0.36368776]\n",
            " [0.57672669 0.42327331]\n",
            " [0.12448802 0.87551198]\n",
            " [0.01141245 0.98858755]\n",
            " [0.14988773 0.85011227]\n",
            " [0.05894128 0.94105872]\n",
            " [0.85129195 0.14870805]\n",
            " [0.07305678 0.92694322]\n",
            " [0.29490455 0.70509545]\n",
            " [0.04011863 0.95988137]\n",
            " [0.01721    0.98279   ]\n",
            " [0.0096403  0.9903597 ]\n",
            " [0.6978482  0.3021518 ]\n",
            " [0.52409603 0.47590397]\n",
            " [0.04307546 0.95692454]\n",
            " [0.51885004 0.48114996]\n",
            " [0.4984881  0.5015119 ]\n",
            " [0.00927119 0.99072881]\n",
            " [0.19600209 0.80399791]\n",
            " [0.47025294 0.52974706]\n",
            " [0.62865232 0.37134768]\n",
            " [0.16160955 0.83839045]\n",
            " [0.27634994 0.72365006]\n",
            " [0.46350484 0.53649516]\n",
            " [0.30159821 0.69840179]\n",
            " [0.09943416 0.90056584]\n",
            " [0.00751153 0.99248847]\n",
            " [0.7472025  0.2527975 ]\n",
            " [0.1090917  0.8909083 ]\n",
            " [0.08073853 0.91926147]\n",
            " [0.08525564 0.91474436]\n",
            " [0.76450107 0.23549893]\n",
            " [0.13582328 0.86417672]\n",
            " [0.67985256 0.32014744]\n",
            " [0.06291972 0.93708028]\n",
            " [0.18775593 0.81224407]\n",
            " [0.08611976 0.91388024]\n",
            " [0.03938016 0.96061984]\n",
            " [0.17686622 0.82313378]\n",
            " [0.24043127 0.75956873]\n",
            " [0.1197696  0.8802304 ]\n",
            " [0.75135766 0.24864234]\n",
            " [0.05531804 0.94468196]\n",
            " [0.92738799 0.07261201]\n",
            " [0.02780063 0.97219937]\n",
            " [0.01624914 0.98375086]\n",
            " [0.50408491 0.49591509]\n",
            " [0.06262753 0.93737247]\n",
            " [0.11976794 0.88023206]\n",
            " [0.31848698 0.68151302]\n",
            " [0.72584251 0.27415749]\n",
            " [0.70288257 0.29711743]\n",
            " [0.89930912 0.10069088]\n",
            " [0.07976877 0.92023123]\n",
            " [0.22522925 0.77477075]\n",
            " [0.87416596 0.12583404]\n",
            " [0.04148214 0.95851786]\n",
            " [0.12167721 0.87832279]\n",
            " [0.91998356 0.08001644]\n",
            " [0.73241971 0.26758029]\n",
            " [0.80269794 0.19730206]\n",
            " [0.13434387 0.86565613]\n",
            " [0.04482497 0.95517503]\n",
            " [0.28019238 0.71980762]\n",
            " [0.06872605 0.93127395]\n",
            " [0.75497474 0.24502526]\n",
            " [0.12266959 0.87733041]\n",
            " [0.89288313 0.10711687]\n",
            " [0.18223626 0.81776374]\n",
            " [0.69867081 0.30132919]\n",
            " [0.3162093  0.6837907 ]\n",
            " [0.02409524 0.97590476]\n",
            " [0.76810607 0.23189393]\n",
            " [0.88116632 0.11883368]\n",
            " [0.05178441 0.94821559]\n",
            " [0.7483788  0.2516212 ]\n",
            " [0.84412043 0.15587957]\n",
            " [0.02980541 0.97019459]\n",
            " [0.11148869 0.88851131]\n",
            " [0.21982458 0.78017542]\n",
            " [0.04130326 0.95869674]\n",
            " [0.01484917 0.98515083]\n",
            " [0.15100516 0.84899484]\n",
            " [0.85759598 0.14240402]\n",
            " [0.3834429  0.6165571 ]\n",
            " [0.8253896  0.1746104 ]\n",
            " [0.02138454 0.97861546]\n",
            " [0.78549013 0.21450987]\n",
            " [0.05872513 0.94127487]\n",
            " [0.04754859 0.95245141]\n",
            " [0.05396012 0.94603988]\n",
            " [0.42563436 0.57436564]\n",
            " [0.24227046 0.75772954]\n",
            " [0.81249812 0.18750188]\n",
            " [0.72890476 0.27109524]\n",
            " [0.01197193 0.98802807]\n",
            " [0.08334837 0.91665163]\n",
            " [0.05423507 0.94576493]\n",
            " [0.02672575 0.97327425]\n",
            " [0.05276482 0.94723518]\n",
            " [0.48014975 0.51985025]\n",
            " [0.02255662 0.97744338]\n",
            " [0.45312644 0.54687356]\n",
            " [0.03012285 0.96987715]\n",
            " [0.06664588 0.93335412]\n",
            " [0.68445455 0.31554545]\n",
            " [0.01533478 0.98466522]\n",
            " [0.03948265 0.96051735]\n",
            " [0.20064072 0.79935928]\n",
            " [0.75278948 0.24721052]\n",
            " [0.76434368 0.23565632]\n",
            " [0.69678886 0.30321114]\n",
            " [0.226155   0.773845  ]\n",
            " [0.62344437 0.37655563]\n",
            " [0.07874017 0.92125983]\n",
            " [0.03436037 0.96563963]\n",
            " [0.59928727 0.40071273]\n",
            " [0.46092786 0.53907214]\n",
            " [0.28140435 0.71859565]\n",
            " [0.05212501 0.94787499]\n",
            " [0.02503644 0.97496356]\n",
            " [0.13754853 0.86245147]\n",
            " [0.02471823 0.97528177]\n",
            " [0.02330952 0.97669048]\n",
            " [0.03725642 0.96274358]\n",
            " [0.72970953 0.27029047]\n",
            " [0.06529918 0.93470082]\n",
            " [0.31484109 0.68515891]\n",
            " [0.41870973 0.58129027]\n",
            " [0.32738736 0.67261264]\n",
            " [0.03992199 0.96007801]\n",
            " [0.70234122 0.29765878]\n",
            " [0.41560274 0.58439726]\n",
            " [0.6076625  0.3923375 ]\n",
            " [0.66223129 0.33776871]\n",
            " [0.09056381 0.90943619]\n",
            " [0.13140372 0.86859628]\n",
            " [0.50861779 0.49138221]\n",
            " [0.02900929 0.97099071]\n",
            " [0.66801888 0.33198112]\n",
            " [0.47101677 0.52898323]\n",
            " [0.09792388 0.90207612]\n",
            " [0.03006466 0.96993534]\n",
            " [0.07467814 0.92532186]\n",
            " [0.52005478 0.47994522]\n",
            " [0.03323827 0.96676173]\n",
            " [0.48430567 0.51569433]\n",
            " [0.26249545 0.73750455]\n",
            " [0.2456181  0.7543819 ]\n",
            " [0.32114929 0.67885071]\n",
            " [0.12901234 0.87098766]\n",
            " [0.20281426 0.79718574]\n",
            " [0.68508659 0.31491341]\n",
            " [0.11573374 0.88426626]\n",
            " [0.02953712 0.97046288]\n",
            " [0.57397121 0.42602879]\n",
            " [0.17952362 0.82047638]\n",
            " [0.14967582 0.85032418]\n",
            " [0.05771191 0.94228809]\n",
            " [0.62361241 0.37638759]\n",
            " [0.59142826 0.40857174]\n",
            " [0.12129457 0.87870543]\n",
            " [0.83892547 0.16107453]\n",
            " [0.10048058 0.89951942]\n",
            " [0.0131416  0.9868584 ]\n",
            " [0.29200873 0.70799127]\n",
            " [0.07511174 0.92488826]\n",
            " [0.27946677 0.72053323]\n",
            " [0.4672795  0.5327205 ]\n",
            " [0.01025591 0.98974409]\n",
            " [0.59087289 0.40912711]\n",
            " [0.13878633 0.86121367]\n",
            " [0.03528984 0.96471016]\n",
            " [0.07747154 0.92252846]\n",
            " [0.74867627 0.25132373]\n",
            " [0.17625633 0.82374367]\n",
            " [0.46821554 0.53178446]\n",
            " [0.71861101 0.28138899]\n",
            " [0.86048904 0.13951096]\n",
            " [0.5020428  0.4979572 ]\n",
            " [0.05464795 0.94535205]\n",
            " [0.1713315  0.8286685 ]\n",
            " [0.12425876 0.87574124]\n",
            " [0.37227659 0.62772341]\n",
            " [0.56526878 0.43473122]\n",
            " [0.77229495 0.22770505]\n",
            " [0.5102696  0.4897304 ]\n",
            " [0.01437176 0.98562824]\n",
            " [0.03692562 0.96307438]\n",
            " [0.27223814 0.72776186]\n",
            " [0.04224512 0.95775488]\n",
            " [0.32265133 0.67734867]\n",
            " [0.04708738 0.95291262]\n",
            " [0.17385957 0.82614043]\n",
            " [0.02668333 0.97331667]\n",
            " [0.65417345 0.34582655]\n",
            " [0.16070685 0.83929315]\n",
            " [0.3431886  0.6568114 ]\n",
            " [0.06330895 0.93669105]\n",
            " [0.02100778 0.97899222]\n",
            " [0.05745386 0.94254614]\n",
            " [0.19143939 0.80856061]\n",
            " [0.78473406 0.21526594]\n",
            " [0.74425529 0.25574471]\n",
            " [0.23912894 0.76087106]\n",
            " [0.4991741  0.5008259 ]\n",
            " [0.68488776 0.31511224]]\n"
          ]
        }
      ],
      "source": [
        "print('\\nclasses:', logistic.classes_)\n",
        "print('\\nProbs:\\n', logistic.predict_proba(X_test)[:365,:])"
      ]
    },
    {
      "cell_type": "markdown",
      "metadata": {
        "id": "IgKOLcZeDxCo"
      },
      "source": [
        "# WEIGHTED SVM "
      ]
    },
    {
      "cell_type": "code",
      "execution_count": null,
      "metadata": {
        "id": "NGy5EuqlES6C"
      },
      "outputs": [],
      "source": [
        "# fit a svm on an imbalanced classification dataset\n",
        "from numpy import mean\n",
        "from sklearn.datasets import make_classification\n",
        "from sklearn.model_selection import cross_val_score\n",
        "from sklearn.model_selection import RepeatedStratifiedKFold\n",
        "from sklearn.svm import SVC"
      ]
    },
    {
      "cell_type": "code",
      "execution_count": null,
      "metadata": {
        "id": "tdssvb3oD0Bq"
      },
      "outputs": [],
      "source": [
        "# define model\n",
        "#weights = {0:100.0, 1:1.0}\n",
        "SVM_model = SVC(gamma='scale', class_weight='balanced')  # , class_weight='balanced'"
      ]
    },
    {
      "cell_type": "code",
      "execution_count": null,
      "metadata": {
        "id": "haPolehbEa9S"
      },
      "outputs": [],
      "source": [
        "# define evaluation procedure\n",
        "cv = RepeatedStratifiedKFold(n_splits=10, n_repeats=3, random_state=1)"
      ]
    },
    {
      "cell_type": "code",
      "execution_count": null,
      "metadata": {
        "id": "jeTqbIXhE9Bk"
      },
      "outputs": [],
      "source": [
        "# evaluate model\n",
        "scores = cross_val_score(SVM_model, X_t, y, scoring='roc_auc', cv=cv, n_jobs=-1)\n",
        "# summarize performance\n",
        "print('Mean ROC AUC: %.3f' % mean(scores))"
      ]
    },
    {
      "cell_type": "code",
      "execution_count": null,
      "metadata": {
        "colab": {
          "base_uri": "https://localhost:8080/"
        },
        "id": "gIjmQp8NFmpt",
        "outputId": "6f849b00-a633-490e-9719-28ff5aa4a033"
      },
      "outputs": [
        {
          "data": {
            "text/plain": [
              "SVC(class_weight='balanced')"
            ]
          },
          "execution_count": 28,
          "metadata": {},
          "output_type": "execute_result"
        }
      ],
      "source": [
        "SVM_model.fit(X_train, y_train)"
      ]
    },
    {
      "cell_type": "code",
      "execution_count": null,
      "metadata": {
        "id": "2wlWv9mBFTQM"
      },
      "outputs": [],
      "source": [
        "y_pred = SVM_model.predict(X_test)"
      ]
    },
    {
      "cell_type": "code",
      "execution_count": null,
      "metadata": {
        "colab": {
          "base_uri": "https://localhost:8080/"
        },
        "id": "c5TWu1uCFTQN",
        "outputId": "391c8ebc-0068-43a5-ec44-616ea050ec9e"
      },
      "outputs": [
        {
          "name": "stdout",
          "output_type": "stream",
          "text": [
            "In-sample accuracy: 0.616\n",
            "Out-of-sample accuracy: 0.600\n"
          ]
        }
      ],
      "source": [
        "print('In-sample accuracy: %0.3f' %\n",
        "      accuracy_score(y_train, SVM_model.predict(X_train)))\n",
        "print('Out-of-sample accuracy: %0.3f' %\n",
        "      accuracy_score(y_test, y_pred))"
      ]
    },
    {
      "cell_type": "code",
      "execution_count": null,
      "metadata": {
        "colab": {
          "base_uri": "https://localhost:8080/"
        },
        "id": "ocXpx7arFTQO",
        "outputId": "bd8afee3-8f42-4771-91b1-f3fcfd783a8d"
      },
      "outputs": [
        {
          "name": "stdout",
          "output_type": "stream",
          "text": [
            "              precision    recall  f1-score   support\n",
            "\n",
            "           0       0.05      1.00      0.09        20\n",
            "           1       1.00      0.59      0.74      1033\n",
            "\n",
            "    accuracy                           0.60      1053\n",
            "   macro avg       0.52      0.80      0.42      1053\n",
            "weighted avg       0.98      0.60      0.73      1053\n",
            "\n"
          ]
        }
      ],
      "source": [
        "print(metrics.classification_report(y_test, y_pred))"
      ]
    },
    {
      "cell_type": "code",
      "execution_count": null,
      "metadata": {
        "colab": {
          "base_uri": "https://localhost:8080/",
          "height": 281
        },
        "id": "L78AWV7jFTQO",
        "outputId": "3a315a8a-051f-45dd-f563-59d454b8cec4"
      },
      "outputs": [
        {
          "data": {
            "image/png": "[encoded data removed]",
            "text/plain": [
              "<Figure size 432x288 with 2 Axes>"
            ]
          },
          "metadata": {},
          "output_type": "display_data"
        }
      ],
      "source": [
        "conf_mat = confusion_matrix(y_test, y_pred)\n",
        "plt.title(\"Confusion Matrix\")\n",
        "sns.heatmap(conf_mat,annot=True,fmt='.0f')\n",
        "plt.show()"
      ]
    },
    {
      "cell_type": "markdown",
      "source": [
        "### Bagging Classifier for imbalanced classification"
      ],
      "metadata": {
        "id": "zy0y-1lW8y4p"
      }
    },
    {
      "cell_type": "code",
      "execution_count": null,
      "metadata": {
        "id": "oYvNC2R01OmT"
      },
      "outputs": [],
      "source": [
        "# bagged decision trees on an imbalanced classification problem\n",
        "from numpy import mean\n",
        "from sklearn.datasets import make_classification\n",
        "from sklearn.model_selection import cross_val_score\n",
        "from sklearn.model_selection import RepeatedStratifiedKFold\n",
        "from sklearn.ensemble import BaggingClassifier"
      ]
    },
    {
      "cell_type": "code",
      "execution_count": null,
      "metadata": {
        "id": "6WUEIaEnz6jp"
      },
      "outputs": [],
      "source": [
        "...\n",
        "# define model\n",
        "model = BaggingClassifier()"
      ]
    },
    {
      "cell_type": "code",
      "execution_count": null,
      "metadata": {
        "id": "Flicbzkx0Nf4"
      },
      "outputs": [],
      "source": [
        "...\n",
        "# define evaluation procedure\n",
        "cv = RepeatedStratifiedKFold(n_splits=10, n_repeats=3, random_state=1)\n",
        "# evaluate model\n",
        "scores = cross_val_score(model, X, y, scoring='roc_auc', cv=cv, n_jobs=-1)"
      ]
    },
    {
      "cell_type": "code",
      "execution_count": null,
      "metadata": {
        "colab": {
          "base_uri": "https://localhost:8080/"
        },
        "id": "ltc-ZOo60YOW",
        "outputId": "a82f0c32-32d8-4443-e756-e6386167910b"
      },
      "outputs": [
        {
          "name": "stdout",
          "output_type": "stream",
          "text": [
            "Mean ROC AUC: 0.999\n"
          ]
        }
      ],
      "source": [
        "# summarize performance\n",
        "print('Mean ROC AUC: %.3f' % mean(scores))"
      ]
    },
    {
      "cell_type": "markdown",
      "metadata": {
        "id": "LWKZ95fN10TO"
      },
      "source": [
        "# BalancedBaggingClassifier class."
      ]
    },
    {
      "cell_type": "code",
      "execution_count": null,
      "metadata": {
        "id": "j4sVNrm_16JS"
      },
      "outputs": [],
      "source": [
        "# bagged decision trees with random undersampling for imbalanced classification\n",
        "from numpy import mean\n",
        "from sklearn.datasets import make_classification\n",
        "from sklearn.model_selection import cross_val_score\n",
        "from sklearn.model_selection import RepeatedStratifiedKFold\n",
        "from imblearn.ensemble import BalancedBaggingClassifier"
      ]
    },
    {
      "cell_type": "code",
      "execution_count": null,
      "metadata": {
        "id": "VYhdLpv71-L1"
      },
      "outputs": [],
      "source": [
        "# define model\n",
        "model = BalancedBaggingClassifier()"
      ]
    },
    {
      "cell_type": "code",
      "execution_count": null,
      "metadata": {
        "id": "ZqLBiCvj2A_j"
      },
      "outputs": [],
      "source": [
        "# define evaluation procedure\n",
        "cv = RepeatedStratifiedKFold(n_splits=10, n_repeats=3, random_state=1)"
      ]
    },
    {
      "cell_type": "code",
      "execution_count": null,
      "metadata": {
        "colab": {
          "base_uri": "https://localhost:8080/"
        },
        "id": "ewk4xjBC2EyE",
        "outputId": "31f406a3-13ee-4f6b-be38-38762225e941"
      },
      "outputs": [
        {
          "output_type": "stream",
          "name": "stderr",
          "text": [
            "/usr/local/lib/python3.7/dist-packages/sklearn/model_selection/_validation.py:372: FitFailedWarning: \n",
            "30 fits failed out of a total of 30.\n",
            "The score on these train-test partitions for these parameters will be set to nan.\n",
            "If these failures are not expected, you can try to debug them by setting error_score='raise'.\n",
            "\n",
            "Below are more details about the failures:\n",
            "--------------------------------------------------------------------------------\n",
            "30 fits failed with the following error:\n",
            "Traceback (most recent call last):\n",
            "  File \"/usr/local/lib/python3.7/dist-packages/sklearn/model_selection/_validation.py\", line 680, in _fit_and_score\n",
            "    estimator.fit(X_train, y_train, **fit_params)\n",
            "  File \"/usr/local/lib/python3.7/dist-packages/imblearn/ensemble/_bagging.py\", line 321, in fit\n",
            "    return self._fit(X, y, self.max_samples, sample_weight=None)\n",
            "  File \"/usr/local/lib/python3.7/dist-packages/sklearn/ensemble/_bagging.py\", line 337, in _fit\n",
            "    max_features = self.max_features * self.n_features_in_\n",
            "AttributeError: 'BalancedBaggingClassifier' object has no attribute 'n_features_in_'\n",
            "\n",
            "  warnings.warn(some_fits_failed_message, FitFailedWarning)\n"
          ]
        }
      ],
      "source": [
        "# evaluate model\n",
        "scores = cross_val_score(model, X_t, y, scoring='roc_auc', cv=cv, n_jobs=-1)"
      ]
    },
    {
      "cell_type": "code",
      "execution_count": null,
      "metadata": {
        "colab": {
          "base_uri": "https://localhost:8080/"
        },
        "id": "MJBrPVS-2FYQ",
        "outputId": "73ad2b26-f818-403b-c339-36e75c2d0035"
      },
      "outputs": [
        {
          "output_type": "stream",
          "name": "stdout",
          "text": [
            "Mean ROC AUC: nan\n"
          ]
        }
      ],
      "source": [
        "# summarize performance\n",
        "print('Mean ROC AUC: %.3f' % mean(scores))"
      ]
    },
    {
      "cell_type": "code",
      "source": [],
      "metadata": {
        "id": "P0y5rv0SGoyn"
      },
      "execution_count": null,
      "outputs": []
    },
    {
      "cell_type": "markdown",
      "source": [
        "## EasyEnsembleClassifier"
      ],
      "metadata": {
        "id": "Ev6J0qLuGhvj"
      }
    },
    {
      "cell_type": "code",
      "execution_count": null,
      "metadata": {
        "id": "f8-jFWH1GGQL"
      },
      "outputs": [],
      "source": [
        "# easy ensemble for imbalanced classification\n",
        "from numpy import mean\n",
        "from sklearn.datasets import make_classification\n",
        "from sklearn.model_selection import cross_val_score\n",
        "from sklearn.model_selection import RepeatedStratifiedKFold\n",
        "from imblearn.ensemble import EasyEnsembleClassifier"
      ]
    },
    {
      "cell_type": "code",
      "execution_count": null,
      "metadata": {
        "id": "VY5OzwwlHyQP"
      },
      "outputs": [],
      "source": [
        "# define model\n",
        "model = EasyEnsembleClassifier(n_estimators=10)"
      ]
    },
    {
      "cell_type": "code",
      "execution_count": null,
      "metadata": {
        "id": "1ug1YqG-HvTf"
      },
      "outputs": [],
      "source": [
        "# define evaluation procedure\n",
        "cv = RepeatedStratifiedKFold(n_splits=10, n_repeats=3, random_state=1)"
      ]
    },
    {
      "cell_type": "code",
      "execution_count": null,
      "metadata": {
        "colab": {
          "base_uri": "https://localhost:8080/"
        },
        "id": "rvlPC-lrHEzH",
        "outputId": "aee3bec5-0c75-4f54-ca6f-820a44970925"
      },
      "outputs": [
        {
          "name": "stderr",
          "output_type": "stream",
          "text": [
            "/usr/local/lib/python3.7/dist-packages/sklearn/model_selection/_validation.py:372: FitFailedWarning: \n",
            "30 fits failed out of a total of 30.\n",
            "The score on these train-test partitions for these parameters will be set to nan.\n",
            "If these failures are not expected, you can try to debug them by setting error_score='raise'.\n",
            "\n",
            "Below are more details about the failures:\n",
            "--------------------------------------------------------------------------------\n",
            "30 fits failed with the following error:\n",
            "Traceback (most recent call last):\n",
            "  File \"/usr/local/lib/python3.7/dist-packages/sklearn/model_selection/_validation.py\", line 680, in _fit_and_score\n",
            "    estimator.fit(X_train, y_train, **fit_params)\n",
            "  File \"/usr/local/lib/python3.7/dist-packages/imblearn/ensemble/_easy_ensemble.py\", line 224, in fit\n",
            "    return self._fit(X, y, self.max_samples, sample_weight=None)\n",
            "  File \"/usr/local/lib/python3.7/dist-packages/sklearn/ensemble/_bagging.py\", line 337, in _fit\n",
            "    max_features = self.max_features * self.n_features_in_\n",
            "AttributeError: 'EasyEnsembleClassifier' object has no attribute 'n_features_in_'\n",
            "\n",
            "  warnings.warn(some_fits_failed_message, FitFailedWarning)\n"
          ]
        }
      ],
      "source": [
        "# evaluate model\n",
        "scores = cross_val_score(model, X_t, y, scoring='roc_auc', cv=cv, n_jobs=-1)"
      ]
    },
    {
      "cell_type": "code",
      "execution_count": null,
      "metadata": {
        "colab": {
          "base_uri": "https://localhost:8080/"
        },
        "id": "OUeuwsjhGQBO",
        "outputId": "1980c42e-85ff-443b-bea9-6123a771dc9e"
      },
      "outputs": [
        {
          "name": "stdout",
          "output_type": "stream",
          "text": [
            "Mean ROC AUC: nan\n"
          ]
        }
      ],
      "source": [
        "# summarize performance\n",
        "print('Mean ROC AUC: %.3f' % mean(scores))"
      ]
    },
    {
      "cell_type": "code",
      "execution_count": null,
      "metadata": {
        "colab": {
          "base_uri": "https://localhost:8080/"
        },
        "id": "lHqnvny6-BAi",
        "outputId": "3b72b6d8-376e-44fa-9d8c-5d5a8ff5a349"
      },
      "outputs": [
        {
          "data": {
            "text/plain": [
              "0        1\n",
              "1        1\n",
              "2        1\n",
              "3        1\n",
              "4        1\n",
              "        ..\n",
              "26767    1\n",
              "26768    1\n",
              "26769    1\n",
              "26770    1\n",
              "26771    1\n",
              "Name: hypoxia_label, Length: 26772, dtype: int64"
            ]
          },
          "execution_count": 29,
          "metadata": {},
          "output_type": "execute_result"
        }
      ],
      "source": [
        "y"
      ]
    },
    {
      "cell_type": "markdown",
      "metadata": {
        "id": "4wNFjyZpEK5Q"
      },
      "source": [
        "# FIT THE MODEL AND SEE THE PERFORMANCES"
      ]
    },
    {
      "cell_type": "code",
      "execution_count": null,
      "metadata": {
        "colab": {
          "base_uri": "https://localhost:8080/"
        },
        "id": "otG4KZD-E1_1",
        "outputId": "2d601de8-94ef-4200-e300-108b2b1ba177"
      },
      "outputs": [
        {
          "output_type": "execute_result",
          "data": {
            "text/plain": [
              "RandomForestClassifier(class_weight='balanced', n_estimators=10)"
            ]
          },
          "metadata": {},
          "execution_count": 60
        }
      ],
      "source": [
        "# Fit the random search model\n",
        "model.fit(X_train, y_train)"
      ]
    },
    {
      "cell_type": "code",
      "execution_count": null,
      "metadata": {
        "id": "E4G3U5qYFGHy"
      },
      "outputs": [],
      "source": [
        "#create prediction basing on the test set\n",
        "y_pred = model.predict(X_test)\n",
        "ytrain_pred = model.predict(X_train)"
      ]
    },
    {
      "cell_type": "code",
      "execution_count": null,
      "metadata": {
        "colab": {
          "base_uri": "https://localhost:8080/"
        },
        "id": "8kd7wjkhFjij",
        "outputId": "1f94b197-7e3c-492b-bd2e-522ac305f7dd"
      },
      "outputs": [
        {
          "output_type": "stream",
          "name": "stdout",
          "text": [
            "Accuracy test:  0.9213559958877587\n",
            "              precision    recall  f1-score   support\n",
            "\n",
            "           0       0.34      0.62      0.44      9418\n",
            "           1       0.98      0.94      0.96    182205\n",
            "\n",
            "    accuracy                           0.92    191623\n",
            "   macro avg       0.66      0.78      0.70    191623\n",
            "weighted avg       0.95      0.92      0.93    191623\n",
            "\n"
          ]
        }
      ],
      "source": [
        "print(\"Accuracy test: \", accuracy_score(y_test, y_pred))\n",
        "print(metrics.classification_report(y_test, y_pred))"
      ]
    },
    {
      "cell_type": "code",
      "execution_count": null,
      "metadata": {
        "colab": {
          "base_uri": "https://localhost:8080/",
          "height": 281
        },
        "id": "BGKVQIZKFyK8",
        "outputId": "3584def5-e0ae-4dc9-bcb3-31d0fc16e2a9"
      },
      "outputs": [
        {
          "output_type": "display_data",
          "data": {
            "text/plain": [
              "<Figure size 432x288 with 2 Axes>"
            ],
            "image/png": "[encoded data removed]"
          },
          "metadata": {
            "needs_background": "light"
          }
        }
      ],
      "source": [
        "conf_mat = confusion_matrix(y_test, y_pred)\n",
        "plt.title(\"Confusion Matrix\")\n",
        "sns.heatmap(conf_mat,annot=True,fmt='.0f')\n",
        "plt.show()"
      ]
    },
    {
      "cell_type": "code",
      "source": [
        "#ROC CURVE\n",
        "from sklearn.metrics import RocCurveDisplay\n",
        "best_rf_disp = RocCurveDisplay.from_estimator(model, X_test, y_test)\n",
        "plt.show()"
      ],
      "metadata": {
        "colab": {
          "base_uri": "https://localhost:8080/",
          "height": 279
        },
        "id": "99riy-J8_BVb",
        "outputId": "6abc297a-27ea-4175-e349-df58e9f1c967"
      },
      "execution_count": null,
      "outputs": [
        {
          "output_type": "display_data",
          "data": {
            "text/plain": [
              "<Figure size 432x288 with 1 Axes>"
            ],
            "image/png": "[encoded data removed]"
          },
          "metadata": {
            "needs_background": "light"
          }
        }
      ]
    }
  ],
  "metadata": {
    "colab": {
      "collapsed_sections": [
        "GfD5PH0aYTke",
        "lym_MuxDXqyn",
        "8YiRrkFU_ZyE",
        "XWBJZZFz4NK7",
        "qMBrwzAl9pwv",
        "c6WyNGZDXClf",
        "4wNFjyZpEK5Q"
      ],
      "provenance": [],
      "toc_visible": true,
      "include_colab_link": true
    },
    "kernelspec": {
      "display_name": "Python 3",
      "name": "python3"
    },
    "language_info": {
      "name": "python"
    }
  },
  "nbformat": 4,
  "nbformat_minor": 0
}