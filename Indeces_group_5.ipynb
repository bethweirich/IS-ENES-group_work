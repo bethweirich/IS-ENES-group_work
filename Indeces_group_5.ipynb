{
 "cells": [
  {
   "cell_type": "markdown",
   "id": "f020f931-2634-40a1-9d17-2e4528422c57",
   "metadata": {},
   "source": [
    "## SU - Number of summer days with Temperature > 25°C"
   ]
  },
  {
   "cell_type": "code",
   "execution_count": null,
   "id": "cf5a8e5e-ca7e-4172-9fdd-b9249af105cf",
   "metadata": {},
   "outputs": [],
   "source": [
    "#REMEMBER TO CUSTOMIZE THE SPATIO-TEMPORAL SCALES\n",
    "tasmax_year_place_xr = tasmax_year_xr[:, yloc, xloc] - 273.15 # Convert Kelvin to °C\n",
    "tasmax_year_place_df = pd.DataFrame(index = tasmax_year_place_xr['time'].values, \n",
    "                                    columns = ['Temperature', 'Summer Day Threshold']) # create the dataframe\n",
    "\n",
    "tasmax_year_place_df.loc[:, 'Model Temperature'] = tasmax_year_place_xr.values # insert model data into the dataframe\n",
    "tasmax_year_place_df.loc[:, 'Summer Day Threshold'] = 25 # insert the threshold into the dataframe\n",
    "\n",
    "# Plot data and define title and legend\n",
    "tasmax_year_place_df.hvplot.line(y=['Model Temperature', 'Summer Day Threshold'], \n",
    "                                 value_label='Temperature in °C', legend='bottom', \n",
    "                                 title='Daily maximum Temperature near Surface for '+pb, \n",
    "                                 height=500, width=620)"
   ]
  },
  {
   "cell_type": "code",
   "execution_count": null,
   "id": "3f2f7a6d-53a4-4e01-8856-1cecd936f409",
   "metadata": {},
   "outputs": [],
   "source": [
    "# Summer days index calculation\n",
    "no_summer_days_model = tasmax_year_place_xr[tasmax_year_place_xr > 25].size # count the number of summer days\n",
    "\n",
    "# Print results in a sentence\n",
    "print(\"According to the German Weather Service definition, in the \" +eb +\" experiment the \" \n",
    "      +climate_model +\" model shows \" +str(no_summer_days_model) +\" summer days for \" + pb \n",
    "      + \" in \" + str(yb) +\".\")"
   ]
  },
  {
   "cell_type": "markdown",
   "id": "48b078a9-c7f5-4154-b589-be84cc377f7f",
   "metadata": {
    "tags": []
   },
   "source": [
    "## RX1day50 - Number of days with Max cumulative precipitation per day > 50 mm"
   ]
  },
  {
   "cell_type": "code",
   "execution_count": null,
   "id": "21c38d25-8a21-481b-9e62-0787c70efb9d",
   "metadata": {},
   "outputs": [],
   "source": [
    "#REMEMBER TO CUSTOMIZE THE SPATIO-TEMPORAL SCALES\n",
    "\n",
    "prec_year_place_df = pd.DataFrame(index = prec_year_place_xr['time'].values, \n",
    "                                    columns = ['Precipitation', 'High day precipitation']) # create the dataframe\n",
    "\n",
    "prec_year_place_df.loc[:, 'Model Precipitation'] = prec_year_place_xr.values # insert model data into the dataframe\n",
    "prec_year_place_df.loc[:, 'High day precipitation treshold'] = 50 # insert the threshold into the dataframe\n",
    "\n",
    "# Plot data and define title and legend\n",
    "tasmax_year_place_df.hvplot.line(y=['Model Precipitation', 'High day precipitation treshold'], \n",
    "                                 value_label='Precipitation in mm', legend='bottom', \n",
    "                                 title='Number of days with Max cumulative precipitation per day > 50 mm for '+pb, \n",
    "                                 height=500, width=620)"
   ]
  },
  {
   "cell_type": "code",
   "execution_count": null,
   "id": "a1494f4d-f607-4030-9cb0-b1a573a7e25f",
   "metadata": {},
   "outputs": [],
   "source": [
    "# High Precipitation days index calculation\n",
    "no_days_high_precipitation_model = prec_year_place_xr[prec_year_place_xr > 50].size # count the number of days\n",
    "\n",
    "# Print results in a sentence\n",
    "print(\"According to the German Weather Service definition, in the \" +eb +\" experiment the \" \n",
    "      +climate_model +\" model shows \" +str(no_days_high_precipitation_model) +\" high precipitation days for \" + pb \n",
    "      + \" in \" + str(yb) +\".\")"
   ]
  },
  {
   "cell_type": "markdown",
   "id": "85ed837e-b162-4d0a-860a-664b2ddf7402",
   "metadata": {},
   "source": [
    "## PDSI - Palmer Drought Severity Index "
   ]
  },
  {
   "cell_type": "code",
   "execution_count": null,
   "id": "5d0f3e31-f98b-4c48-9a5a-09b50424e389",
   "metadata": {},
   "outputs": [],
   "source": [
    "#convert daily into monthly"
   ]
  },
  {
   "cell_type": "code",
   "execution_count": 1,
   "id": "06d80983-4317-438a-b386-ba07670b832e",
   "metadata": {},
   "outputs": [
    {
     "name": "stdout",
     "output_type": "stream",
     "text": [
      "Defaulting to user installation because normal site-packages is not writeable\n",
      "Collecting climate-indices\n",
      "  Downloading climate_indices-1.0.10-py3-none-any.whl (71 kB)\n",
      "\u001b[2K     \u001b[90m━━━━━━━━━━━━━━━━━━━━━━━━━━━━━━━━━━━━━━━━\u001b[0m \u001b[32m71.8/71.8 kB\u001b[0m \u001b[31m2.2 MB/s\u001b[0m eta \u001b[36m0:00:00\u001b[0m\n",
      "\u001b[?25hCollecting nco\n",
      "  Downloading nco-1.0.0-py2.py3-none-any.whl (10 kB)\n",
      "Requirement already satisfied: numpy in /sw/spack-levante/mambaforge-4.11.0-0-Linux-x86_64-sobz6z/lib/python3.9/site-packages (from climate-indices) (1.20.3)\n",
      "Requirement already satisfied: numba in /sw/spack-levante/mambaforge-4.11.0-0-Linux-x86_64-sobz6z/lib/python3.9/site-packages (from climate-indices) (0.55.1)\n",
      "Requirement already satisfied: scipy in /sw/spack-levante/mambaforge-4.11.0-0-Linux-x86_64-sobz6z/lib/python3.9/site-packages (from climate-indices) (1.8.1)\n",
      "Requirement already satisfied: toolz in /sw/spack-levante/mambaforge-4.11.0-0-Linux-x86_64-sobz6z/lib/python3.9/site-packages (from climate-indices) (0.11.2)\n",
      "Requirement already satisfied: netcdf4 in /sw/spack-levante/mambaforge-4.11.0-0-Linux-x86_64-sobz6z/lib/python3.9/site-packages (from climate-indices) (1.6.0)\n",
      "Requirement already satisfied: xarray in /sw/spack-levante/mambaforge-4.11.0-0-Linux-x86_64-sobz6z/lib/python3.9/site-packages (from climate-indices) (2022.3.0)\n",
      "Requirement already satisfied: dask in /sw/spack-levante/mambaforge-4.11.0-0-Linux-x86_64-sobz6z/lib/python3.9/site-packages (from climate-indices) (2022.6.0)\n",
      "Requirement already satisfied: fsspec>=0.6.0 in /sw/spack-levante/mambaforge-4.11.0-0-Linux-x86_64-sobz6z/lib/python3.9/site-packages (from dask->climate-indices) (2022.5.0)\n",
      "Requirement already satisfied: partd>=0.3.10 in /sw/spack-levante/mambaforge-4.11.0-0-Linux-x86_64-sobz6z/lib/python3.9/site-packages (from dask->climate-indices) (1.2.0)\n",
      "Requirement already satisfied: cloudpickle>=1.1.1 in /sw/spack-levante/mambaforge-4.11.0-0-Linux-x86_64-sobz6z/lib/python3.9/site-packages (from dask->climate-indices) (2.1.0)\n",
      "Requirement already satisfied: pyyaml>=5.3.1 in /sw/spack-levante/mambaforge-4.11.0-0-Linux-x86_64-sobz6z/lib/python3.9/site-packages (from dask->climate-indices) (6.0)\n",
      "Requirement already satisfied: packaging>=20.0 in /sw/spack-levante/mambaforge-4.11.0-0-Linux-x86_64-sobz6z/lib/python3.9/site-packages (from dask->climate-indices) (21.3)\n",
      "Requirement already satisfied: cftime in /sw/spack-levante/mambaforge-4.11.0-0-Linux-x86_64-sobz6z/lib/python3.9/site-packages (from netcdf4->climate-indices) (1.6.0)\n",
      "Requirement already satisfied: setuptools in /sw/spack-levante/mambaforge-4.11.0-0-Linux-x86_64-sobz6z/lib/python3.9/site-packages (from numba->climate-indices) (62.3.4)\n",
      "Requirement already satisfied: llvmlite<0.39,>=0.38.0rc1 in /sw/spack-levante/mambaforge-4.11.0-0-Linux-x86_64-sobz6z/lib/python3.9/site-packages (from numba->climate-indices) (0.38.1)\n",
      "Requirement already satisfied: pandas>=1.1 in /sw/spack-levante/mambaforge-4.11.0-0-Linux-x86_64-sobz6z/lib/python3.9/site-packages (from xarray->climate-indices) (1.4.2)\n",
      "Requirement already satisfied: pyparsing!=3.0.5,>=2.0.2 in /sw/spack-levante/mambaforge-4.11.0-0-Linux-x86_64-sobz6z/lib/python3.9/site-packages (from packaging>=20.0->dask->climate-indices) (3.0.9)\n",
      "Requirement already satisfied: python-dateutil>=2.8.1 in /sw/spack-levante/mambaforge-4.11.0-0-Linux-x86_64-sobz6z/lib/python3.9/site-packages (from pandas>=1.1->xarray->climate-indices) (2.8.2)\n",
      "Requirement already satisfied: pytz>=2020.1 in /sw/spack-levante/mambaforge-4.11.0-0-Linux-x86_64-sobz6z/lib/python3.9/site-packages (from pandas>=1.1->xarray->climate-indices) (2022.1)\n",
      "Requirement already satisfied: locket in /sw/spack-levante/mambaforge-4.11.0-0-Linux-x86_64-sobz6z/lib/python3.9/site-packages (from partd>=0.3.10->dask->climate-indices) (1.0.0)\n",
      "Requirement already satisfied: six>=1.5 in /sw/spack-levante/mambaforge-4.11.0-0-Linux-x86_64-sobz6z/lib/python3.9/site-packages (from python-dateutil>=2.8.1->pandas>=1.1->xarray->climate-indices) (1.16.0)\n",
      "Installing collected packages: nco, climate-indices\n",
      "\u001b[33m  WARNING: The scripts process_climate_indices and spi are installed in '/home/k/k206092/.local/bin' which is not on PATH.\n",
      "  Consider adding this directory to PATH or, if you prefer to suppress this warning, use --no-warn-script-location.\u001b[0m\u001b[33m\n",
      "\u001b[0mSuccessfully installed climate-indices-1.0.10 nco-1.0.0\n",
      "Note: you may need to restart the kernel to use updated packages.\n"
     ]
    }
   ],
   "source": [
    "pip install climate-indices"
   ]
  },
  {
   "cell_type": "code",
   "execution_count": null,
   "id": "e51b6519-6ff1-476f-80d2-c21d4cc39555",
   "metadata": {},
   "outputs": [],
   "source": []
  }
 ],
 "metadata": {
  "kernelspec": {
   "display_name": "Python 3 (based on the module python3/2022.01)",
   "language": "python",
   "name": "python3_2022_01"
  },
  "language_info": {
   "codemirror_mode": {
    "name": "ipython",
    "version": 3
   },
   "file_extension": ".py",
   "mimetype": "text/x-python",
   "name": "python",
   "nbconvert_exporter": "python",
   "pygments_lexer": "ipython3",
   "version": "3.9.9"
  }
 },
 "nbformat": 4,
 "nbformat_minor": 5
}
